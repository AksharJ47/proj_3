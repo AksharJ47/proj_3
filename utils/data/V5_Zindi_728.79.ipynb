{
 "cells": [
  {
   "cell_type": "markdown",
   "metadata": {},
   "source": [
    "# EDSA Sendy Logistics Challenge"
   ]
  },
  {
   "cell_type": "markdown",
   "metadata": {},
   "source": [
    " "
   ]
  },
  {
   "cell_type": "markdown",
   "metadata": {},
   "source": [
    " "
   ]
  },
  {
   "cell_type": "markdown",
   "metadata": {},
   "source": [
    "## Contents\n",
    "\n",
    " 1. Required Imports & Libraries\n",
    " 2. Import the Data\n",
    " 3. Data Cleaning & Formatting\n",
    " 4. Exploratory Data Analysis\n",
    " 5. Feature Engineering and selection\n",
    " 6. Building & Evaluating Models\n",
    " 7. Training the Model and making a prediction\n",
    " 8. Generating a Submission file for ZINDI\n",
    " 9. References"
   ]
  },
  {
   "cell_type": "markdown",
   "metadata": {},
   "source": [
    "### 1. Required Imports & Libraries"
   ]
  },
  {
   "cell_type": "code",
   "execution_count": null,
   "metadata": {},
   "outputs": [],
   "source": [
    "## Required Libraries & imports for the model\n",
    "\n",
    "import pandas as pd\n",
    "import numpy as np\n",
    "import datetime as dt\n",
    "import matplotlib.pyplot as plt\n",
    "%matplotlib inline\n",
    "import seaborn as sns\n",
    "\n",
    "from sklearn.preprocessing import LabelEncoder\n",
    "from sklearn.model_selection import train_test_split, KFold, GridSearchCV \n",
    "from sklearn.model_selection import cross_val_score, learning_curve\n",
    "from sklearn.metrics import mean_squared_error\n",
    "\n",
    "from sklearn.svm import SVR\n",
    "from sklearn.ensemble import ExtraTreesRegressor, RandomForestRegressor, GradientBoostingRegressor\n",
    "from sklearn.linear_model import LinearRegression\n",
    "\n",
    "import xgboost as xgb\n",
    "import lightgbm as lgb\n",
    "\n",
    "sns.set(style='white', context='notebook', palette='deep')"
   ]
  },
  {
   "cell_type": "markdown",
   "metadata": {},
   "source": [
    "### 2. Import the Data"
   ]
  },
  {
   "cell_type": "code",
   "execution_count": null,
   "metadata": {},
   "outputs": [],
   "source": [
    "##Importing Training Data CSV file\n",
    "train_url = 'https://raw.githubusercontent.com/AksharJ47/regression-predict-api-template/master/utils/data/Train_Zindi.csv'\n",
    "train_df = pd.read_csv(train_url)\n",
    "\n",
    "##Importing Test Data\n",
    "test_url = 'https://raw.githubusercontent.com/AksharJ47/regression-predict-api-template/master/utils/data/Test_Zindi.csv'\n",
    "test_df = pd.read_csv(test_url)\n",
    "\n",
    "##Importing Riders Data CSV file\n",
    "riders_url = 'https://raw.githubusercontent.com/AksharJ47/regression-predict-api-template/master/utils/data/Riders_Zindi.csv'\n",
    "riders_df = pd.read_csv(riders_url)\n",
    "\n",
    "print(train_df.shape, test_df.shape, riders_df.shape)\n",
    "train_df.head()"
   ]
  },
  {
   "cell_type": "code",
   "execution_count": null,
   "metadata": {},
   "outputs": [],
   "source": []
  },
  {
   "cell_type": "markdown",
   "metadata": {},
   "source": [
    "### 3. Data Cleaning & Formatting"
   ]
  },
  {
   "cell_type": "code",
   "execution_count": null,
   "metadata": {},
   "outputs": [],
   "source": [
    "#Drop data not available in test, Pickup Time + label = Arrival times\n",
    "\n",
    "train_df = train_df.drop(['Arrival at Destination - Day of Month', 'Arrival at Destination - Weekday (Mo = 1)',\n",
    "                          'Arrival at Destination - Time'], axis=1)"
   ]
  },
  {
   "cell_type": "code",
   "execution_count": null,
   "metadata": {},
   "outputs": [],
   "source": [
    "#Combine train & test to create a full df\n",
    "\n",
    "train_end = train_df.shape[0]\n",
    "test_df['Time from Pickup to Arrival'] = [np.nan]* test_df.shape[0]\n",
    "full_df = pd.concat([train_df, test_df], axis=0, ignore_index=True)\n",
    "full_riders_df = pd.merge(full_df, riders_df, how='left', left_on='Rider Id', right_on='Rider Id', left_index=True)\n",
    "\n",
    "train_df.shape, test_df.shape, full_df.shape, full_riders_df.shape"
   ]
  },
  {
   "cell_type": "code",
   "execution_count": null,
   "metadata": {},
   "outputs": [],
   "source": [
    "# Check features and their data types \n",
    "# From here we see that there are missing values in Temperature and Precipitation\n",
    "full_riders_df.info()"
   ]
  },
  {
   "cell_type": "code",
   "execution_count": null,
   "metadata": {},
   "outputs": [],
   "source": [
    "# Shorten Column Names, remove whitespace & Standardise to make them easier to work with\n",
    "\n",
    "feature_names = {\"Order No\": \"Order_No\", \"User Id\": \"User_Id\", \"Vehicle Type\": \"Vehicle_Type\",\n",
    "    \"Personal or Business\": \"Personal_Business\", \"Placement - Day of Month\": \"Pla_Mon\",\n",
    "    \"Placement - Weekday (Mo = 1)\": \"Pla_Weekday\", \"Placement - Time\": \"Pla_Time\", \n",
    "    \"Confirmation - Day of Month\":\"Con_Day_Mon\", \"Confirmation - Weekday (Mo = 1)\": \"Con_Weekday\",\"Confirmation - Time\": \"Con_Time\", \n",
    "    \"Arrival at Pickup - Day of Month\": \"Arr_Pic_Mon\", \"Arrival at Pickup - Weekday (Mo = 1)\": \"Arr_Pic_Weekday\", \n",
    "                \"Arrival at Pickup - Time\": \"Arr_Pic_Time\", \"Platform Type\": \"Platform_Type\",\n",
    "     \"Pickup - Day of Month\": \"Pickup_Mon\", \"Pickup - Weekday (Mo = 1)\": \"Pickup_Weekday\",           \n",
    "    \"Pickup - Time\": \"Pickup_Time\",  \"Distance (KM)\": \"Distance(km)\",\n",
    "    \"Precipitation in millimeters\": \"Precipitation(mm)\", \"Pickup Lat\": \"Pickup_Lat\", \"Pickup Long\": \"Pickup_Lon\", \n",
    "    \"Destination Lat\": \"Destination_Lat\", \"Destination Long\":\"Destination_Lon\", \"Rider Id\": \"Rider_Id\",\n",
    "                            \"Time from Pickup to Arrival\": \"Time_Pic_Arr\"\n",
    "                           }\n",
    "\n",
    "renamed_df = full_riders_df.rename(columns=feature_names)\n",
    "renamed_df.columns"
   ]
  },
  {
   "cell_type": "code",
   "execution_count": null,
   "metadata": {},
   "outputs": [],
   "source": [
    "## Convert time to Seconds after midnight \n",
    "\n",
    "def time_conv(input_df):\n",
    "    input_df_1 = input_df.copy()\n",
    "    def timetosecs(x):\n",
    "        if len(x) == 10:\n",
    "            if x[-2:] == 'AM':\n",
    "                x = (float(x[0])*3600) + (float(x[2:4])*60) + float(x[5:7])\n",
    "            else:\n",
    "                x = (float(x[0])*43200) + (float(x[2:4])*60) + float(x[5:7])\n",
    "        else:\n",
    "            if x[-2:] == 'AM':\n",
    "                x = (float(x[0:2])*3600) + (float(x[3:5])*60) + float(x[6:8])\n",
    "            else:\n",
    "                x = (float(x[0:2])*43200) + (float(x[3:5])*60) + float(x[6:8])\n",
    "        return x\n",
    "    \n",
    "    input_df_1['Pla_Time'] = input_df_1['Pla_Time'].apply(timetosecs)\n",
    "    input_df_1['Con_Time'] = input_df_1['Con_Time'].apply(timetosecs)\n",
    "    input_df_1['Arr_Pic_Time'] = input_df_1['Arr_Pic_Time'].apply(timetosecs)\n",
    "    input_df_1['Pickup_Time'] = input_df_1['Pickup_Time'].apply(timetosecs)\n",
    "    \n",
    "    return input_df_1\n",
    "\n",
    "time_conv_df = time_conv(renamed_df)"
   ]
  },
  {
   "cell_type": "code",
   "execution_count": null,
   "metadata": {},
   "outputs": [],
   "source": [
    "## Add Columns for time differences\n",
    "\n",
    "def time_diffs(input_df):\n",
    "    time_diffs_df = input_df.copy()\n",
    "    time_diffs_df['Conf_Pla_dif'] = time_diffs_df['Con_Time'] - time_diffs_df['Pla_Time']\n",
    "    time_diffs_df['Arr_Con_dif'] = time_diffs_df['Arr_Pic_Time'] - time_diffs_df['Con_Time']\n",
    "    time_diffs_df['Pic_Arr_dif'] = time_diffs_df['Pickup_Time'] - time_diffs_df['Arr_Pic_Time']\n",
    "    \n",
    "    return time_diffs_df"
   ]
  },
  {
   "cell_type": "code",
   "execution_count": null,
   "metadata": {},
   "outputs": [],
   "source": [
    "time_conv_df = time_diffs(time_conv_df)"
   ]
  },
  {
   "cell_type": "code",
   "execution_count": null,
   "metadata": {},
   "outputs": [],
   "source": []
  },
  {
   "cell_type": "markdown",
   "metadata": {},
   "source": [
    "### 4. Exploratory Data Analysis (EDA)"
   ]
  },
  {
   "cell_type": "code",
   "execution_count": null,
   "metadata": {},
   "outputs": [],
   "source": []
  },
  {
   "cell_type": "code",
   "execution_count": null,
   "metadata": {},
   "outputs": [],
   "source": []
  },
  {
   "cell_type": "code",
   "execution_count": null,
   "metadata": {},
   "outputs": [],
   "source": []
  },
  {
   "cell_type": "markdown",
   "metadata": {},
   "source": [
    "### 5.  Feature Engineering & Selection"
   ]
  },
  {
   "cell_type": "code",
   "execution_count": null,
   "metadata": {},
   "outputs": [],
   "source": [
    "# Add Rider Experience based on Age Column - Low - Medium - High\n",
    "\n",
    "time_conv_df['Rider_Exp'] = pd.qcut(time_conv_df['Age'], q=[0, .25, .75, 1], labels=['low', 'medium', 'high'])"
   ]
  },
  {
   "cell_type": "code",
   "execution_count": null,
   "metadata": {},
   "outputs": [],
   "source": [
    "# Filling Missing Values for Temperature and Precipitation - used the Mean\n",
    "\n",
    "time_conv_df['Temperature'] = time_conv_df['Temperature'].fillna(time_conv_df['Temperature'].mean())\n",
    "time_conv_df['Precipitation(mm)'].fillna(time_conv_df['Precipitation(mm)'].mean(), inplace=True)\n"
   ]
  },
  {
   "cell_type": "code",
   "execution_count": null,
   "metadata": {},
   "outputs": [],
   "source": [
    "## Create Temperature band Column - 3 categories - low, mid, high\n",
    "\n",
    "time_conv_df['Temp_Band'] = pd.qcut(time_conv_df['Temperature'], q=[0, .25, .75, 1], labels=['low', 'medium', 'high'])"
   ]
  },
  {
   "cell_type": "code",
   "execution_count": null,
   "metadata": {},
   "outputs": [],
   "source": [
    "#Manhattan distance\n",
    "def manhattan_distance(lat1, lng1, lat2, lng2):\n",
    "    a = np.abs(lat2 -lat1)\n",
    "    b = np.abs(lng1 - lng2)\n",
    "    return a + b\n"
   ]
  },
  {
   "cell_type": "code",
   "execution_count": null,
   "metadata": {},
   "outputs": [],
   "source": [
    "##Add Manhattan to DF\n",
    "def added_manhattan(input_df):\n",
    "    input_df_1 = input_df.copy()\n",
    "    input_df_1['distance_manhattan'] = manhattan_distance(input_df_1['Pickup_Lat'].values,\n",
    "                                                          input_df_1['Pickup_Lon'].values,\n",
    "                                                          input_df_1['Destination_Lat'].values,\n",
    "                                                          input_df_1['Destination_Lon'].values)\n",
    "    return input_df_1\n",
    "\n",
    "time_conv_df = added_manhattan(time_conv_df)\n",
    "\n",
    "## Add Reference for this"
   ]
  },
  {
   "cell_type": "code",
   "execution_count": null,
   "metadata": {},
   "outputs": [],
   "source": [
    "#Haversine distance\n",
    "def haversine_array(lat1, lng1, lat2, lng2):\n",
    "    lat1, lng1, lat2, lng2 = map(np.radians, (lat1, lng1, lat2, lng2))\n",
    "    AVG_EARTH_RADIUS = 6371  # in km\n",
    "    lat = lat2 - lat1\n",
    "    lng = lng2 - lng1\n",
    "    d = np.sin(lat * 0.5) ** 2 + np.cos(lat1) * np.cos(lat2) * np.sin(lng * 0.5) ** 2\n",
    "    h = 2 * AVG_EARTH_RADIUS * np.arcsin(np.sqrt(d))\n",
    "    return h\n",
    "\n",
    "## Add Reference for this"
   ]
  },
  {
   "cell_type": "code",
   "execution_count": null,
   "metadata": {},
   "outputs": [],
   "source": [
    "##Add Haversine Distance to DF\n",
    "\n",
    "def add_haversine(input_df):\n",
    "    input_df_1 = input_df.copy()\n",
    "    input_df_1['distance_haversine'] = haversine_array(input_df_1['Pickup_Lat'].values,\n",
    "                                                       input_df_1['Pickup_Lon'].values,\n",
    "                                                       input_df_1['Destination_Lat'].values,\n",
    "                                                       input_df_1['Destination_Lon'].values)\n",
    "    return input_df_1\n",
    "\n",
    "time_conv_df = add_haversine(time_conv_df)"
   ]
  },
  {
   "cell_type": "code",
   "execution_count": null,
   "metadata": {},
   "outputs": [],
   "source": [
    "# This is to check if there is any difference between the columns with Days of Month or Weekday of Month\n",
    "\n",
    "month_cols = [col for col in time_conv_df.columns if col.endswith('Mon')]\n",
    "weekday_cols = [col for col in time_conv_df.columns if col.endswith('Weekday')]\n",
    "\n",
    "count = 0\n",
    "instances_of_different_days = [];\n",
    "for i, row in time_conv_df.iterrows():\n",
    "    if len(set(row[month_cols].values)) > 1:\n",
    "        print(count+1, end='\\r')\n",
    "        count = count + 1\n",
    "        instances_of_different_days.append(list(row[month_cols].values))\n",
    "instances_of_different_days"
   ]
  },
  {
   "cell_type": "code",
   "execution_count": null,
   "metadata": {},
   "outputs": [],
   "source": [
    "# Drop columns based on:\n",
    "   #Days of Month or Weekday of Month are the same except for 2 rows. The delivery service is same day\n",
    "   #All Vehicle types are Bikes, Vehicle Type is not necessary.\n",
    "\n",
    "time_conv_df['Day_of_Month'] = time_conv_df[month_cols[0]]\n",
    "time_conv_df['Day_of_Week'] = time_conv_df[weekday_cols[0]]\n",
    "\n",
    "time_conv_df.drop(month_cols+weekday_cols, axis=1, inplace=True)\n",
    "time_conv_df.drop('Vehicle_Type', axis=1, inplace=True)\n",
    "\n",
    "time_conv_df.head(3)\n"
   ]
  },
  {
   "cell_type": "code",
   "execution_count": null,
   "metadata": {},
   "outputs": [],
   "source": [
    "#Convert Personal_Business Temp_Band using LabelEncoding\n",
    "\n",
    "le = LabelEncoder()\n",
    "le.fit(time_conv_df['Personal_Business'])\n",
    "time_conv_df['Personal_Business'] = le.transform(time_conv_df['Personal_Business'])\n",
    "time_conv_df['Personal_Business'][:2]\n"
   ]
  },
  {
   "cell_type": "code",
   "execution_count": null,
   "metadata": {},
   "outputs": [],
   "source": [
    "# Rider_Exp convert Label Encoding\n",
    "\n",
    "le.fit(time_conv_df['Rider_Exp'])\n",
    "time_conv_df['Rider_Exp'] = le.transform(time_conv_df['Rider_Exp'])\n",
    "time_conv_df['Rider_Exp'][:2]"
   ]
  },
  {
   "cell_type": "code",
   "execution_count": null,
   "metadata": {},
   "outputs": [],
   "source": [
    "## Convert Temp_Band using LabelEncoding\n",
    "\n",
    "le.fit(time_conv_df['Temp_Band'])\n",
    "time_conv_df['Temp_Band'] = le.transform(time_conv_df['Temp_Band'])\n",
    "time_conv_df['Temp_Band'][:2]"
   ]
  },
  {
   "cell_type": "code",
   "execution_count": null,
   "metadata": {
    "scrolled": true
   },
   "outputs": [],
   "source": [
    "## This function splits Columns into Data types - this makes it easier to select & plot numeric features\n",
    "## against the Target Variable\n",
    "\n",
    "numeric_cols = []\n",
    "object_cols = []\n",
    "time_cols = []\n",
    "for k, v in time_conv_df.dtypes.items():\n",
    "    if (v != object):\n",
    "        if (k != \"Time_Pic_Arr\"):\n",
    "            numeric_cols.append(k)\n",
    "    elif k.endswith(\"Time\"):\n",
    "        time_cols.append(k)\n",
    "    else:\n",
    "        object_cols.append(k)\n",
    "time_conv_df[numeric_cols].head(3) "
   ]
  },
  {
   "cell_type": "code",
   "execution_count": 226,
   "metadata": {},
   "outputs": [
    {
     "data": {
      "text/html": [
       "<div>\n",
       "<style scoped>\n",
       "    .dataframe tbody tr th:only-of-type {\n",
       "        vertical-align: middle;\n",
       "    }\n",
       "\n",
       "    .dataframe tbody tr th {\n",
       "        vertical-align: top;\n",
       "    }\n",
       "\n",
       "    .dataframe thead th {\n",
       "        text-align: right;\n",
       "    }\n",
       "</style>\n",
       "<table border=\"1\" class=\"dataframe\">\n",
       "  <thead>\n",
       "    <tr style=\"text-align: right;\">\n",
       "      <th></th>\n",
       "      <th>Platform_Type</th>\n",
       "      <th>Personal_Business</th>\n",
       "      <th>Pla_Time</th>\n",
       "      <th>Con_Time</th>\n",
       "      <th>Arr_Pic_Time</th>\n",
       "      <th>Pickup_Time</th>\n",
       "      <th>Distance(km)</th>\n",
       "      <th>Temperature</th>\n",
       "      <th>Precipitation(mm)</th>\n",
       "      <th>Pickup_Lat</th>\n",
       "      <th>...</th>\n",
       "      <th>No_of_Ratings</th>\n",
       "      <th>Conf_Pla_dif</th>\n",
       "      <th>Arr_Con_dif</th>\n",
       "      <th>Pic_Arr_dif</th>\n",
       "      <th>Rider_Exp</th>\n",
       "      <th>Temp_Band</th>\n",
       "      <th>distance_manhattan</th>\n",
       "      <th>distance_haversine</th>\n",
       "      <th>Day_of_Month</th>\n",
       "      <th>Day_of_Week</th>\n",
       "    </tr>\n",
       "  </thead>\n",
       "  <tbody>\n",
       "    <tr>\n",
       "      <td>183</td>\n",
       "      <td>3</td>\n",
       "      <td>0</td>\n",
       "      <td>175450.0</td>\n",
       "      <td>175469.0</td>\n",
       "      <td>175984.0</td>\n",
       "      <td>216407.0</td>\n",
       "      <td>8</td>\n",
       "      <td>23.255689</td>\n",
       "      <td>7.573502</td>\n",
       "      <td>-1.333275</td>\n",
       "      <td>...</td>\n",
       "      <td>171</td>\n",
       "      <td>19.0</td>\n",
       "      <td>515.0</td>\n",
       "      <td>40423.0</td>\n",
       "      <td>0</td>\n",
       "      <td>2</td>\n",
       "      <td>0.076451</td>\n",
       "      <td>6.220125</td>\n",
       "      <td>27</td>\n",
       "      <td>3</td>\n",
       "    </tr>\n",
       "    <tr>\n",
       "      <td>826</td>\n",
       "      <td>3</td>\n",
       "      <td>0</td>\n",
       "      <td>521855.0</td>\n",
       "      <td>521957.0</td>\n",
       "      <td>44427.0</td>\n",
       "      <td>44737.0</td>\n",
       "      <td>5</td>\n",
       "      <td>23.255689</td>\n",
       "      <td>7.573502</td>\n",
       "      <td>-1.272639</td>\n",
       "      <td>...</td>\n",
       "      <td>45</td>\n",
       "      <td>102.0</td>\n",
       "      <td>-477530.0</td>\n",
       "      <td>310.0</td>\n",
       "      <td>1</td>\n",
       "      <td>2</td>\n",
       "      <td>0.033551</td>\n",
       "      <td>3.280436</td>\n",
       "      <td>17</td>\n",
       "      <td>5</td>\n",
       "    </tr>\n",
       "    <tr>\n",
       "      <td>650</td>\n",
       "      <td>3</td>\n",
       "      <td>0</td>\n",
       "      <td>40094.0</td>\n",
       "      <td>41105.0</td>\n",
       "      <td>41600.0</td>\n",
       "      <td>43074.0</td>\n",
       "      <td>5</td>\n",
       "      <td>22.800000</td>\n",
       "      <td>7.573502</td>\n",
       "      <td>-1.290894</td>\n",
       "      <td>...</td>\n",
       "      <td>67</td>\n",
       "      <td>1011.0</td>\n",
       "      <td>495.0</td>\n",
       "      <td>1474.0</td>\n",
       "      <td>1</td>\n",
       "      <td>2</td>\n",
       "      <td>0.042714</td>\n",
       "      <td>3.535344</td>\n",
       "      <td>27</td>\n",
       "      <td>4</td>\n",
       "    </tr>\n",
       "    <tr>\n",
       "      <td>561</td>\n",
       "      <td>3</td>\n",
       "      <td>0</td>\n",
       "      <td>46295.0</td>\n",
       "      <td>46407.0</td>\n",
       "      <td>86561.0</td>\n",
       "      <td>87412.0</td>\n",
       "      <td>5</td>\n",
       "      <td>24.500000</td>\n",
       "      <td>7.573502</td>\n",
       "      <td>-1.290503</td>\n",
       "      <td>...</td>\n",
       "      <td>44</td>\n",
       "      <td>112.0</td>\n",
       "      <td>40154.0</td>\n",
       "      <td>851.0</td>\n",
       "      <td>2</td>\n",
       "      <td>2</td>\n",
       "      <td>0.031867</td>\n",
       "      <td>2.550774</td>\n",
       "      <td>17</td>\n",
       "      <td>1</td>\n",
       "    </tr>\n",
       "    <tr>\n",
       "      <td>203</td>\n",
       "      <td>3</td>\n",
       "      <td>0</td>\n",
       "      <td>41428.0</td>\n",
       "      <td>41685.0</td>\n",
       "      <td>42439.0</td>\n",
       "      <td>42964.0</td>\n",
       "      <td>6</td>\n",
       "      <td>24.400000</td>\n",
       "      <td>7.573502</td>\n",
       "      <td>-1.281081</td>\n",
       "      <td>...</td>\n",
       "      <td>1010</td>\n",
       "      <td>257.0</td>\n",
       "      <td>754.0</td>\n",
       "      <td>525.0</td>\n",
       "      <td>2</td>\n",
       "      <td>2</td>\n",
       "      <td>0.036875</td>\n",
       "      <td>2.960588</td>\n",
       "      <td>11</td>\n",
       "      <td>2</td>\n",
       "    </tr>\n",
       "  </tbody>\n",
       "</table>\n",
       "<p>5 rows × 26 columns</p>\n",
       "</div>"
      ],
      "text/plain": [
       "     Platform_Type  Personal_Business  Pla_Time  Con_Time  Arr_Pic_Time  \\\n",
       "183              3                  0  175450.0  175469.0      175984.0   \n",
       "826              3                  0  521855.0  521957.0       44427.0   \n",
       "650              3                  0   40094.0   41105.0       41600.0   \n",
       "561              3                  0   46295.0   46407.0       86561.0   \n",
       "203              3                  0   41428.0   41685.0       42439.0   \n",
       "\n",
       "     Pickup_Time  Distance(km)  Temperature  Precipitation(mm)  Pickup_Lat  \\\n",
       "183     216407.0             8    23.255689           7.573502   -1.333275   \n",
       "826      44737.0             5    23.255689           7.573502   -1.272639   \n",
       "650      43074.0             5    22.800000           7.573502   -1.290894   \n",
       "561      87412.0             5    24.500000           7.573502   -1.290503   \n",
       "203      42964.0             6    24.400000           7.573502   -1.281081   \n",
       "\n",
       "     ...  No_of_Ratings  Conf_Pla_dif  Arr_Con_dif  Pic_Arr_dif  Rider_Exp  \\\n",
       "183  ...            171          19.0        515.0      40423.0          0   \n",
       "826  ...             45         102.0    -477530.0        310.0          1   \n",
       "650  ...             67        1011.0        495.0       1474.0          1   \n",
       "561  ...             44         112.0      40154.0        851.0          2   \n",
       "203  ...           1010         257.0        754.0        525.0          2   \n",
       "\n",
       "     Temp_Band  distance_manhattan  distance_haversine  Day_of_Month  \\\n",
       "183          2            0.076451            6.220125            27   \n",
       "826          2            0.033551            3.280436            17   \n",
       "650          2            0.042714            3.535344            27   \n",
       "561          2            0.031867            2.550774            17   \n",
       "203          2            0.036875            2.960588            11   \n",
       "\n",
       "     Day_of_Week  \n",
       "183            3  \n",
       "826            5  \n",
       "650            4  \n",
       "561            1  \n",
       "203            2  \n",
       "\n",
       "[5 rows x 26 columns]"
      ]
     },
     "execution_count": 226,
     "metadata": {},
     "output_type": "execute_result"
    }
   ],
   "source": [
    "## Feature Selection & Dropping of the Target Variable\n",
    "\n",
    "features = numeric_cols \n",
    "\n",
    "data_df = time_conv_df[features]\n",
    "\n",
    "y = time_conv_df[:train_end]['Time_Pic_Arr']\n",
    "train = data_df[:train_end]\n",
    "test = data_df[train_end:]\n",
    "\n",
    "test.head()"
   ]
  },
  {
   "cell_type": "code",
   "execution_count": null,
   "metadata": {},
   "outputs": [],
   "source": []
  },
  {
   "cell_type": "markdown",
   "metadata": {},
   "source": [
    "### 6. Building & Evaluating Models"
   ]
  },
  {
   "cell_type": "code",
   "execution_count": 227,
   "metadata": {},
   "outputs": [
    {
     "name": "stdout",
     "output_type": "stream",
     "text": [
      "(16960, 26) (4241, 26) (16960,) (4241,)\n"
     ]
    }
   ],
   "source": [
    "## Splitting the Data into Train & Test sets, ratio of 80:20 & inspecting the shape\n",
    "\n",
    "X_train, X_test, y_train, y_test = train_test_split(train, y, test_size=0.2, shuffle=True)\n",
    "print(X_train.shape, X_test.shape, y_train.shape, y_test.shape)"
   ]
  },
  {
   "cell_type": "markdown",
   "metadata": {},
   "source": [
    "### K-fold Cross Validation\n",
    "\n",
    "##### The general procedure is as follows:\n",
    "\n",
    "Shuffle the dataset randomly.\n",
    "Split the dataset into k groups\n",
    "For each unique group:\n",
    "Take the group as a hold out or test data set\n",
    "Take the remaining groups as a training data set\n",
    "Fit a model on the training set and evaluate it on the test set\n",
    "Retain the evaluation score and discard the model\n",
    "Summarize the skill of the model using the sample of model evaluation scores\n",
    "Importantly, each observation in the data sample is assigned to an individual group and stays in that group for the duration of the procedure. This means that each sample is given the opportunity to be used in the hold out set 1 time and used to train the model k-1 times."
   ]
  },
  {
   "cell_type": "code",
   "execution_count": 228,
   "metadata": {},
   "outputs": [
    {
     "name": "stdout",
     "output_type": "stream",
     "text": [
      "  Algorithm  CrossValMeans  CrossValErrors\n",
      "5      LGBM     745.025632       14.476620\n",
      "1       GBR     758.421659       15.869290\n",
      "4      XGBR     767.805775       18.467528\n",
      "3       RFR     811.472917       17.313583\n",
      "2       EXR     907.140659       17.551456\n",
      "0       SVR    1003.691213       14.268424\n"
     ]
    }
   ],
   "source": [
    "##  k-fold cross-validation procedure for estimating the skill of machine learning models\n",
    "\n",
    "rs = 3\n",
    "kfold = KFold(n_splits=10, random_state=rs, shuffle=True)\n",
    "\n",
    "regressors = []\n",
    "regressors.append(SVR())\n",
    "regressors.append(GradientBoostingRegressor(random_state=rs))\n",
    "regressors.append(ExtraTreesRegressor(n_estimators=rs))\n",
    "regressors.append(RandomForestRegressor(random_state=rs))\n",
    "regressors.append(xgb.XGBRegressor(random_state=rs, objective=\"reg:squarederror\"))\n",
    "regressors.append(lgb.LGBMRegressor(random_state=rs))\n",
    "\n",
    "cv_results = []\n",
    "for regressor in regressors:     #scores to be minimised are negated (neg)\n",
    "    cv_results.append(np.sqrt(abs(cross_val_score(regressor, X_train, y=y_train, scoring='neg_mean_squared_error', cv=kfold))))\n",
    "\n",
    "cv_means = []\n",
    "cv_stds = []\n",
    "for cv_result in cv_results:\n",
    "    cv_means.append(cv_result.mean())\n",
    "    cv_stds.append(cv_result.std())\n",
    "    \n",
    "cv_res = pd.DataFrame({ \n",
    "    \"Algorithm\": [\"SVR\", \"GBR\", \"EXR\", \"RFR\", \"XGBR\", \"LGBM\"],\n",
    "    \"CrossValMeans\": cv_means, \"CrossValErrors\": cv_stds\n",
    "                       })\n",
    "cv_res = cv_res.sort_values(\"CrossValMeans\", ascending=True)\n",
    "print(cv_res)"
   ]
  },
  {
   "cell_type": "markdown",
   "metadata": {},
   "source": [
    "##### Based on the above LGBM"
   ]
  },
  {
   "cell_type": "code",
   "execution_count": 229,
   "metadata": {},
   "outputs": [
    {
     "name": "stdout",
     "output_type": "stream",
     "text": [
      "{'learning_rate': 0.1, 'min_data_in_leaf': 300, 'n_estimators': 75, 'num_leaves': 15, 'objective': 'regression', 'reg_alpha': 0.02} 749.6880592875951\n"
     ]
    }
   ],
   "source": [
    "params = {\n",
    "    'n_estimators':[75], # [75, 95],\n",
    "    'num_leaves': [15], #[12,15, 17],\n",
    "    'reg_alpha': [0.02], #[0.02, 0.05],\n",
    "    'min_data_in_leaf': [300],  #[250, 280, 300]\n",
    "    'learning_rate': [0.1], #[0.05, 0.1, 0.25],\n",
    "    'objective': ['regression'] #['regression', None]\n",
    "    }\n",
    "\n",
    "lsearch = GridSearchCV(estimator = lgb.LGBMRegressor(random_state=rs), cv=kfold,scoring='neg_mean_squared_error', param_grid=params)\n",
    "lgbm = lsearch.fit(X_train, y_train)\n",
    "\n",
    "l_params = lgbm.best_params_\n",
    "l_score = np.sqrt(abs(lgbm.best_score_))\n",
    "print(lgbm.best_params_, np.sqrt(abs(lgbm.best_score_)))\n"
   ]
  },
  {
   "cell_type": "code",
   "execution_count": 230,
   "metadata": {},
   "outputs": [
    {
     "name": "stdout",
     "output_type": "stream",
     "text": [
      "760.0116106684333 {'max_depth': None, 'max_features': 3, 'min_samples_leaf': 3, 'min_samples_split': 10, 'n_estimators': 300}\n"
     ]
    }
   ],
   "source": [
    "RFC = RandomForestRegressor(random_state=rs)\n",
    "rf_param = {\"max_depth\":[None], \"max_features\":[3], \"min_samples_split\":[10],\n",
    "           \"min_samples_leaf\": [3], \"n_estimators\":[300]}\n",
    "rsearch = GridSearchCV(RFC, cv=kfold, scoring='neg_mean_squared_error',param_grid=rf_param)\n",
    "rfm = rsearch.fit(X_train, y_train)\n",
    "\n",
    "r_score = np.sqrt(abs(rfm.best_score_))\n",
    "r_params = rfm.best_params_\n",
    "print(r_score, r_params)"
   ]
  },
  {
   "cell_type": "markdown",
   "metadata": {},
   "source": [
    "#### Plotting the Learning curves"
   ]
  },
  {
   "cell_type": "code",
   "execution_count": 231,
   "metadata": {},
   "outputs": [],
   "source": [
    "def plot_learning_curve(estimator, title, X, y, ylim=None, n_jobs=-1, cv=None, train_sizes=np.linspace(.1, 1.0, 5)):\n",
    "    \"\"\"Generating a plot of test and training learning curve\"\"\"\n",
    "    plt.figure()\n",
    "    plt.title(title)\n",
    "    \n",
    "    if ylim is not None:\n",
    "        plt.ylim(*ylim)\n",
    "    plt.xlabel(\"Training examples\")\n",
    "    plt.ylabel(\"Score\")\n",
    "    train_sizes, train_scores, test_scores = learning_curve(estimator, X, y, cv=cv, n_jobs=n_jobs, train_sizes=train_sizes, scoring='neg_mean_squared_error', shuffle=True)\n",
    "    \n",
    "    #scores - 5 runs, each with 10 fold\n",
    "    train_scores_mean = -np.mean(train_scores, axis=1) #5 means (each size)\n",
    "    train_scores_std = np.std(train_scores, axis=1)\n",
    "    test_scores_mean = -np.mean(test_scores, axis=1)\n",
    "    test_scores_std = np.std(test_scores, axis=1)\n",
    "    \n",
    "    plt.grid()\n",
    "    \n",
    "    plt.fill_between(train_sizes, train_scores_mean - train_scores_std, train_scores_mean + train_scores_std, alpha=0.1, color='r' )\n",
    "    plt.fill_between(train_sizes, test_scores_mean - test_scores_std, test_scores_mean + test_scores_std, alpha=0.1, color='g')\n",
    "    \n",
    "    plt.plot(train_sizes, train_scores_mean, 'o-', color='r', label='Training score')\n",
    "    plt.plot(train_sizes, test_scores_mean, 'o-', color='g', label='Cross-validation score')\n",
    "    \n",
    "    plt.legend(loc='best')\n",
    "    return plt\n"
   ]
  },
  {
   "cell_type": "code",
   "execution_count": 232,
   "metadata": {
    "scrolled": false
   },
   "outputs": [
    {
     "data": {
      "image/png": "[encoded data removed]",
      "text/plain": [
       "<Figure size 432x288 with 1 Axes>"
      ]
     },
     "metadata": {},
     "output_type": "display_data"
    },
    {
     "data": {
      "image/png": "[encoded data removed]",
      "text/plain": [
       "<Figure size 432x288 with 1 Axes>"
      ]
     },
     "metadata": {},
     "output_type": "display_data"
    }
   ],
   "source": [
    "#Learning Curves\n",
    "\n",
    "g = plot_learning_curve(lgbm.best_estimator_, \"lgbm learning curves\", X_train, y_train, cv=kfold)\n",
    "g = plot_learning_curve(rfm.best_estimator_, \"random forest_learning_curve\", X_train, y_train, cv=kfold)\n",
    "\n",
    "#lgbm: mse error comment here\n",
    "#rf: mse error comment here"
   ]
  },
  {
   "cell_type": "markdown",
   "metadata": {},
   "source": [
    "##### From the above learning curves we can see that the LGBM curve seems to continue to decrease, at a decreasing rate, as the number of samples increases. The RFC however, seems to have levelled off just above 8000 samples."
   ]
  },
  {
   "cell_type": "markdown",
   "metadata": {},
   "source": [
    "#### We can now plot the Feature Importance of the two models, which will enable us to fine tune them further"
   ]
  },
  {
   "cell_type": "code",
   "execution_count": 233,
   "metadata": {},
   "outputs": [
    {
     "data": {
      "image/png": "[encoded data removed]",
      "text/plain": [
       "<Figure size 864x576 with 2 Axes>"
      ]
     },
     "metadata": {},
     "output_type": "display_data"
    }
   ],
   "source": [
    "vals = lgbm.best_estimator_.feature_importances_\n",
    "l_importance = np.array([ val/sum(vals) for val in vals ])\n",
    "r_importance  = rfm.best_estimator_.feature_importances_\n",
    "feats = np.array(features)\n",
    "\n",
    "fig,axes = plt.subplots(1,2, figsize=(12, 8))\n",
    "plt.subplots_adjust(top=0.6, bottom=0.2, hspace=.6, wspace=0.8)\n",
    "\n",
    "indices = np.argsort(l_importance)[::-1]\n",
    "g = sns.barplot(y=feats[indices], x=l_importance[indices], orient='h', ax=axes[0])\n",
    "g.set_xlabel(\"Relative importances\", fontsize=12)\n",
    "g.set_ylabel(\"Features\", fontsize=12)\n",
    "g.tick_params(labelsize=9)\n",
    "g.set_title(\" LGBM feature importance\")\n",
    "\n",
    "index = np.argsort(r_importance)[::-1]\n",
    "g = sns.barplot(y=feats[index], x=r_importance[index], orient='h', ax=axes[1])\n",
    "g.set_xlabel(\"Relative importances\", fontsize=12)\n",
    "g.set_ylabel(\"Features\", fontsize=12)\n",
    "g.tick_params(labelsize=9)\n",
    "g.set_title(\" Random Forest feature importance\")\n",
    "plt.show()"
   ]
  },
  {
   "cell_type": "code",
   "execution_count": null,
   "metadata": {},
   "outputs": [],
   "source": []
  },
  {
   "cell_type": "markdown",
   "metadata": {},
   "source": [
    "### 7. Training the Model and making a prediction"
   ]
  },
  {
   "cell_type": "code",
   "execution_count": 234,
   "metadata": {
    "collapsed": true
   },
   "outputs": [
    {
     "name": "stdout",
     "output_type": "stream",
     "text": [
      "[1]\tvalid_0's l2: 917262\n",
      "Training until validation scores don't improve for 20 rounds\n",
      "[2]\tvalid_0's l2: 864899\n",
      "[3]\tvalid_0's l2: 822303\n",
      "[4]\tvalid_0's l2: 786132\n",
      "[5]\tvalid_0's l2: 755915\n",
      "[6]\tvalid_0's l2: 731275\n",
      "[7]\tvalid_0's l2: 710992\n",
      "[8]\tvalid_0's l2: 694173\n",
      "[9]\tvalid_0's l2: 680575\n",
      "[10]\tvalid_0's l2: 669408\n",
      "[11]\tvalid_0's l2: 659976\n",
      "[12]\tvalid_0's l2: 651955\n",
      "[13]\tvalid_0's l2: 644467\n",
      "[14]\tvalid_0's l2: 638351\n",
      "[15]\tvalid_0's l2: 633958\n",
      "[16]\tvalid_0's l2: 629941\n",
      "[17]\tvalid_0's l2: 626051\n",
      "[18]\tvalid_0's l2: 622843\n",
      "[19]\tvalid_0's l2: 620182\n",
      "[20]\tvalid_0's l2: 617475\n",
      "[21]\tvalid_0's l2: 615771\n",
      "[22]\tvalid_0's l2: 613523\n",
      "[23]\tvalid_0's l2: 611395\n",
      "[24]\tvalid_0's l2: 608675\n",
      "[25]\tvalid_0's l2: 606703\n",
      "[26]\tvalid_0's l2: 604685\n",
      "[27]\tvalid_0's l2: 603408\n",
      "[28]\tvalid_0's l2: 602108\n",
      "[29]\tvalid_0's l2: 600739\n",
      "[30]\tvalid_0's l2: 599724\n",
      "[31]\tvalid_0's l2: 597931\n",
      "[32]\tvalid_0's l2: 596262\n",
      "[33]\tvalid_0's l2: 594961\n",
      "[34]\tvalid_0's l2: 593941\n",
      "[35]\tvalid_0's l2: 592630\n",
      "[36]\tvalid_0's l2: 591781\n",
      "[37]\tvalid_0's l2: 590470\n",
      "[38]\tvalid_0's l2: 589180\n",
      "[39]\tvalid_0's l2: 588207\n",
      "[40]\tvalid_0's l2: 587224\n",
      "[41]\tvalid_0's l2: 586287\n",
      "[42]\tvalid_0's l2: 585268\n",
      "[43]\tvalid_0's l2: 584423\n",
      "[44]\tvalid_0's l2: 583258\n",
      "[45]\tvalid_0's l2: 582382\n",
      "[46]\tvalid_0's l2: 581217\n",
      "[47]\tvalid_0's l2: 580732\n",
      "[48]\tvalid_0's l2: 580116\n",
      "[49]\tvalid_0's l2: 579617\n",
      "[50]\tvalid_0's l2: 579266\n",
      "[51]\tvalid_0's l2: 578655\n",
      "[52]\tvalid_0's l2: 578091\n",
      "[53]\tvalid_0's l2: 577137\n",
      "[54]\tvalid_0's l2: 576011\n",
      "[55]\tvalid_0's l2: 575488\n",
      "[56]\tvalid_0's l2: 575103\n",
      "[57]\tvalid_0's l2: 574369\n",
      "[58]\tvalid_0's l2: 573875\n",
      "[59]\tvalid_0's l2: 573481\n",
      "[60]\tvalid_0's l2: 572997\n",
      "[61]\tvalid_0's l2: 572427\n",
      "[62]\tvalid_0's l2: 572055\n",
      "[63]\tvalid_0's l2: 571503\n",
      "[64]\tvalid_0's l2: 571104\n",
      "[65]\tvalid_0's l2: 570848\n",
      "[66]\tvalid_0's l2: 570464\n",
      "[67]\tvalid_0's l2: 570157\n",
      "[68]\tvalid_0's l2: 569585\n",
      "[69]\tvalid_0's l2: 569146\n",
      "[70]\tvalid_0's l2: 568804\n",
      "[71]\tvalid_0's l2: 568458\n",
      "[72]\tvalid_0's l2: 568139\n",
      "[73]\tvalid_0's l2: 567814\n",
      "[74]\tvalid_0's l2: 567303\n",
      "[75]\tvalid_0's l2: 566527\n",
      "Did not meet early stopping. Best iteration is:\n",
      "[75]\tvalid_0's l2: 566527\n",
      "The RMSE of prediction is  752.6801143458496\n"
     ]
    }
   ],
   "source": [
    "lgb_train = lgb.Dataset(X_train, y_train)\n",
    "lgb_eval = lgb.Dataset(X_test, y_test, reference=lgb_train)\n",
    "\n",
    "lparams = {\n",
    "           'learning_rate': 0.1, 'min_data_in_leaf': 300, \n",
    "           'n_estimators': 75, 'num_leaves': 20, 'random_state':rs,\n",
    "           'objective': 'regression', 'reg_alpha': 0.02,\n",
    "          'feature_fraction': 0.9, 'bagging_fraction':0.9}\n",
    "\n",
    "\n",
    "lgbm = lgb.train(lparams, lgb_train, valid_sets=lgb_eval, num_boost_round=20, early_stopping_rounds=20)\n",
    "\n",
    "lpred = lgbm.predict(X_test, num_iteration=lgbm.best_iteration)\n",
    "\n",
    "print(\"The RMSE of prediction is \", mean_squared_error(y_test, lpred)**0.5)\n"
   ]
  },
  {
   "cell_type": "code",
   "execution_count": null,
   "metadata": {},
   "outputs": [],
   "source": []
  },
  {
   "cell_type": "markdown",
   "metadata": {},
   "source": [
    "### 8. Generating a Submission File for ZINDI"
   ]
  },
  {
   "cell_type": "code",
   "execution_count": 235,
   "metadata": {},
   "outputs": [],
   "source": [
    "lgbm_y = lgbm.predict(test, num_iteration=lgbm.best_iteration)\n",
    "lgbm_output = pd.DataFrame({\"Order No\":test_df['Order No'], \n",
    "                           \"Time from Pickup to Arrival\": lgbm_y })\n",
    "lgbm_output.to_csv(r\"C:\\Users\\TERENCE.VENGATASS\\Desktop\\art\\submission_2.csv\", index=False)"
   ]
  },
  {
   "cell_type": "code",
   "execution_count": null,
   "metadata": {},
   "outputs": [],
   "source": []
  },
  {
   "cell_type": "markdown",
   "metadata": {},
   "source": [
    "### 9. References"
   ]
  },
  {
   "cell_type": "markdown",
   "metadata": {},
   "source": [
    "1. A Gentle Introduction to k-fold Cross-Validation\n",
    "by Jason Brownlee on May 23, 2018 in Statistics : https://machinelearningmastery.com/k-fold-cross-validation/\n"
   ]
  },
  {
   "cell_type": "markdown",
   "metadata": {},
   "source": [
    "2. How to Implement Resampling Methods From Scratch In Python\n",
    "by Jason Brownlee on October 17, 2016 in Code Algorithms From Scratch : https://machinelearningmastery.com/implement-resampling-methods-scratch-python/"
   ]
  },
  {
   "cell_type": "markdown",
   "metadata": {},
   "source": [
    "3. What is the Difference Between Test and Validation Datasets?\n",
    "by Jason Brownlee on July 14, 2017 in Machine Learning Process : https://machinelearningmastery.com/difference-test-validation-datasets/"
   ]
  },
  {
   "cell_type": "markdown",
   "metadata": {},
   "source": [
    "4. ZINDI Discussion Board - Orginal Competition:\n",
    "https://zindi.africa/competitions/sendy-logistics-challenge/discussions"
   ]
  },
  {
   "cell_type": "code",
   "execution_count": null,
   "metadata": {},
   "outputs": [],
   "source": []
  }
 ],
 "metadata": {
  "kernelspec": {
   "display_name": "Python 3.7.4 64-bit ('base': conda)",
   "language": "python",
   "name": "python37464bitbaseconda7eca13f508994d009bce4c19c1107f0c"
  },
  "language_info": {
   "codemirror_mode": {
    "name": "ipython",
    "version": 3
   },
   "file_extension": ".py",
   "mimetype": "text/x-python",
   "name": "python",
   "nbconvert_exporter": "python",
   "pygments_lexer": "ipython3",
   "version": "3.7.4"
  }
 },
 "nbformat": 4,
 "nbformat_minor": 2
}
