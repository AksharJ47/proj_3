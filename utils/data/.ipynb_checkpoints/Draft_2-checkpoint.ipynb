{
 "cells": [
  {
   "cell_type": "code",
   "execution_count": 1,
   "metadata": {},
   "outputs": [],
   "source": [
    "#Load all required packages\n",
    "import pandas as pd\n",
    "import math\n",
    "import numpy as np\n",
    "import matplotlib.pyplot as plt\n",
    "from statsmodels.graphics.correlation import plot_corr\n",
    "from sklearn.impute import SimpleImputer\n",
    "from sklearn.model_selection import train_test_split\n",
    "from sklearn.metrics import mean_squared_error,make_scorer"
   ]
  },
  {
   "cell_type": "code",
   "execution_count": 2,
   "metadata": {},
   "outputs": [],
   "source": [
    "# load training data and test data\n",
    "train_df = pd.read_csv('Train_Zindi.csv', index_col = 0)\n",
    "test_df = pd.read_csv('Test_Zindi.csv', index_col = 0)\n",
    "riders_df = pd.read_csv('Riders_Zindi.csv', index_col = 0)\n",
    "sub_sample_df = pd.read_csv('SampleSubmission_Zindi.csv',index_col = 0)"
   ]
  },
  {
   "cell_type": "code",
   "execution_count": 3,
   "metadata": {},
   "outputs": [],
   "source": [
    "#Join train_df with riders dataframe\n",
    "# train_df = pd.merge(train_df,riders_df,how='left',on=['Rider Id','Rider Id'])"
   ]
  },
  {
   "cell_type": "code",
   "execution_count": 4,
   "metadata": {},
   "outputs": [],
   "source": [
    "#Function to convert time rows to seconds after midnight\n",
    "def time_fn(row):\n",
    "    b = row.split(' ')\n",
    "    if b[1] == 'AM':\n",
    "        c = 0\n",
    "    else:\n",
    "        c = 12\n",
    "    b = b[0].split(':')\n",
    "    b = [int(i) for i in b]\n",
    "    if b[0] == 12:\n",
    "        c -= 12\n",
    "    # convertion to minutes\n",
    "    b[0] = (b[0] + c)*60*60\n",
    "    b[1] = (b[1])*60\n",
    "    row = sum(b)\n",
    "    return(row)\n",
    "#Function for column time conversion:\n",
    "def time_change(df):\n",
    "    time_columns = [\n",
    "                'Placement - Time',\\\n",
    "                'Confirmation - Time',\\\n",
    "                'Arrival at Pickup - Time',\\\n",
    "                'Pickup - Time',\\\n",
    "                'Arrival at Destination - Time',\\\n",
    "               ]\n",
    "    for i in df.columns:\n",
    "        if i in time_columns:\n",
    "            if df[i].dtype not in ['int', 'int8','int16','int64']:\n",
    "                df[i] = df[i].apply(lambda x: time_fn(x))\n",
    "            else:\n",
    "                pass\n",
    "    return(df)"
   ]
  },
  {
   "cell_type": "code",
   "execution_count": 5,
   "metadata": {},
   "outputs": [],
   "source": [
    "#apply time_change on dataframe\n",
    "train_df_1 = time_change(train_df)"
   ]
  },
  {
   "cell_type": "code",
   "execution_count": 6,
   "metadata": {},
   "outputs": [],
   "source": [
    "# Remove rows where placement_day != confirmation day and pickup_day\n",
    "train_df_1 = train_df.drop(train_df[(train_df['Placement - Day of Month'] !=\\\n",
    "                                   train_df['Confirmation - Day of Month'])|\\\n",
    "                                  (train_df['Confirmation - Day of Month'] !=\\\n",
    "                                   train_df['Arrival at Destination - Day of Month'])].index)"
   ]
  },
  {
   "cell_type": "code",
   "execution_count": 7,
   "metadata": {},
   "outputs": [
    {
     "data": {
      "image/png": "[encoded data removed]",
      "text/plain": [
       "<Figure size 432x288 with 1 Axes>"
      ]
     },
     "metadata": {
      "needs_background": "light"
     },
     "output_type": "display_data"
    }
   ],
   "source": [
    "#Histogram of the distribution of the response\n",
    "plt.hist(train_df_1['Time from Pickup to Arrival'],bins = 20)\n",
    "plt.show()"
   ]
  },
  {
   "cell_type": "code",
   "execution_count": 8,
   "metadata": {},
   "outputs": [],
   "source": [
    "#Based on histogram above the outliers can be removed(...so far they were chosen abitrarily)\n",
    "train_df_1 = train_df_1[(train_df_1['Distance (KM)']*3600.0/train_df_1['Time from Pickup to Arrival']) < 60]"
   ]
  },
  {
   "cell_type": "code",
   "execution_count": null,
   "metadata": {},
   "outputs": [],
   "source": [
    "#Based on histogram above the outliers can be removed(...so far they were chosen abitrarily)\n",
    "# train_df_1 = train_df_1.drop(train_df_1[train_df_1['Time from Pickup to Arrival'] < 500].index)\n",
    "# train_df_1 = train_df_1.drop(train_df_1[train_df_1['Time from Pickup to Arrival'] > 5000].index)"
   ]
  },
  {
   "cell_type": "code",
   "execution_count": 9,
   "metadata": {},
   "outputs": [],
   "source": [
    "# Impute Null Temperature values with average temperature       \n",
    "def imputer_fun(df):\n",
    "    imputing_cols = ['Temperature','Precipitation in millimeters']\n",
    "    imputer_avg = SimpleImputer(missing_values = np.nan, strategy = 'mean')\n",
    "    imputer_zero = SimpleImputer(missing_values = np.nan, strategy = 'constant',fill_value = 0)\n",
    "    for feat in imputing_cols:\n",
    "        if feat in df.columns:\n",
    "            if feat == 'Temperature':\n",
    "                df.loc[:,[feat]] = imputer_avg.fit_transform(df.loc[:,[feat]])\n",
    "            if feat == 'Precipitation in millimeters':\n",
    "                df.loc[:,[feat]] = imputer_zero.fit_transform(df.loc[:,[feat]])\n",
    "    return(df)\n",
    "train_df_1 = imputer_fun(train_df_1)"
   ]
  },
  {
   "cell_type": "code",
   "execution_count": 12,
   "metadata": {},
   "outputs": [],
   "source": [
    "# Choose model_features and model target(Note 'Arrival at destination is dropped')\n",
    "Features = ['Platform Type',\\\n",
    "            'Personal or Business',\\\n",
    "            'Placement - Day of Month',\\\n",
    "            'Placement - Weekday (Mo = 1)',\\\n",
    "#             'Placement - Time',\\\n",
    "#             'Confirmation - Time',\\\n",
    "#             'Arrival at Pickup - Time',\\\n",
    "            'Pickup - Time',\\\n",
    "            'Distance (KM)',\\\n",
    "            'Temperature',\\\n",
    "            'Precipitation in millimeters',\\\n",
    "#             'No_Of_Orders',\\\n",
    "#             'Age',\\\n",
    "#             'Average_Rating',\\\n",
    "#             'No_of_Ratings'\n",
    "           ]\n",
    "X = train_df_1[Features]\n",
    "Y = train_df_1['Time from Pickup to Arrival']"
   ]
  },
  {
   "cell_type": "code",
   "execution_count": 13,
   "metadata": {},
   "outputs": [],
   "source": [
    "# One-Hot Encode nominal categories\n",
    "categorical_columns = ['Platform Type','Personal or Business','Placement - Weekday (Mo = 1)','Placement - Day of Month']\n",
    "OH_X = pd.get_dummies(X,columns = categorical_columns)"
   ]
  },
  {
   "cell_type": "code",
   "execution_count": null,
   "metadata": {},
   "outputs": [],
   "source": [
    "# # Check for linearity\n",
    "# fig, axs = plt.subplots(17,3, figsize=(14,40),)\n",
    "# fig.subplots_adjust(hspace = 0.5, wspace=.2)\n",
    "# axs = axs.ravel()\n",
    "\n",
    "# for index, column in enumerate(OH_X.columns):\n",
    "#     axs[index].set_title(\"{} vs. Ar at dest\".format(column),fontsize=8)\n",
    "#     axs[index].scatter(x=OH_X[column],y=Y,c='blue',edgecolor='k')"
   ]
  },
  {
   "cell_type": "code",
   "execution_count": null,
   "metadata": {},
   "outputs": [],
   "source": [
    "import seaborn as sns\n",
    "corr = X.corr()\n",
    "ax = sns.heatmap(\n",
    "    corr, \n",
    "    vmin=-1, vmax=1, center=0,\n",
    "    cmap=sns.diverging_palette(20, 220, n=200),\n",
    "    square=True\n",
    ")\n",
    "ax.set_xticklabels(\n",
    "    ax.get_xticklabels(),\n",
    "    rotation=90,\n",
    "    horizontalalignment='right'\n",
    ")\n",
    "plt.show()"
   ]
  },
  {
   "cell_type": "code",
   "execution_count": null,
   "metadata": {},
   "outputs": [],
   "source": [
    "# Feature Scaling (Feature scale numeric data on training set)\n",
    "# def Feature_scaler (df):\n",
    "#     from sklearn.preprocessing import StandardScaler\n",
    "#     sc = StandardScaler()\n",
    "#     numeric = []\n",
    "#     for col in df.columns:\n",
    "#         if col not in categorical_columns:\n",
    "#             print(col)\n",
    "# #     df[numeric] = sc.fit_transform(df[numeric_columns])\n",
    "\n",
    "# Feature_scaler(train_df)\n",
    "# # X_test = Feature_scaler(X_test)"
   ]
  },
  {
   "cell_type": "code",
   "execution_count": 14,
   "metadata": {},
   "outputs": [
    {
     "data": {
      "text/plain": [
       "LinearRegression(copy_X=True, fit_intercept=True, n_jobs=None, normalize=False)"
      ]
     },
     "execution_count": 14,
     "metadata": {},
     "output_type": "execute_result"
    }
   ],
   "source": [
    "# Import Linear REGRESSION MODEL\n",
    "from sklearn.linear_model import LinearRegression\n",
    "LM_model = LinearRegression()"
   ]
  },
  {
   "cell_type": "code",
   "execution_count": 16,
   "metadata": {},
   "outputs": [
    {
     "data": {
      "text/plain": [
       "RandomForestRegressor(bootstrap=True, criterion='mse', max_depth=10,\n",
       "                      max_features='auto', max_leaf_nodes=None,\n",
       "                      min_impurity_decrease=0.0, min_impurity_split=None,\n",
       "                      min_samples_leaf=1, min_samples_split=2,\n",
       "                      min_weight_fraction_leaf=0.0, n_estimators=50,\n",
       "                      n_jobs=None, oob_score=False, random_state=None,\n",
       "                      verbose=0, warm_start=False)"
      ]
     },
     "execution_count": 16,
     "metadata": {},
     "output_type": "execute_result"
    }
   ],
   "source": [
    "#Import Random Forest regression model\n",
    "from sklearn.ensemble import RandomForestRegressor\n",
    "rfr = RandomForestRegressor(n_estimators = 50,max_depth = 10)"
   ]
  },
  {
   "cell_type": "code",
   "execution_count": 17,
   "metadata": {},
   "outputs": [
    {
     "data": {
      "text/plain": [
       "XGBRegressor(base_score=0.5, booster=None, colsample_bylevel=1,\n",
       "             colsample_bynode=1, colsample_bytree=1, gamma=0, gpu_id=-1,\n",
       "             importance_type='gain', interaction_constraints=None,\n",
       "             learning_rate=0.1, max_delta_step=0, max_depth=6,\n",
       "             min_child_weight=1, missing=nan, monotone_constraints=None,\n",
       "             n_estimators=100, n_jobs=4, num_parallel_tree=1,\n",
       "             objective='reg:squarederror', random_state=0, reg_alpha=0,\n",
       "             reg_lambda=1, scale_pos_weight=1, subsample=1, tree_method=None,\n",
       "             validate_parameters=False, verbosity=None)"
      ]
     },
     "execution_count": 17,
     "metadata": {},
     "output_type": "execute_result"
    }
   ],
   "source": [
    "#Import Gradient Booster\n",
    "from xgboost import XGBRegressor\n",
    "XGB = XGBRegressor(n_estimators=100, learning_rate=0.1, n_jobs=4)"
   ]
  },
  {
   "cell_type": "code",
   "execution_count": 18,
   "metadata": {},
   "outputs": [],
   "source": [
    "#Import DecisionTreeRegressor\n",
    "from sklearn.tree import DecisionTreeRegressor\n",
    "dtr = DecisionTreeRegressor(max_depth=5)"
   ]
  },
  {
   "cell_type": "code",
   "execution_count": 19,
   "metadata": {},
   "outputs": [
    {
     "name": "stdout",
     "output_type": "stream",
     "text": [
      "Linear_Model RMSE: 759.5968794194137\n",
      "Random Forest Tree RMSE: 763.4780725192797\n",
      "Gradient Boost RMSE: 763.1821247237881\n",
      "Desicion_Tree RMSE: 761.9009736037274\n"
     ]
    }
   ],
   "source": [
    "# Cross validation to test model accuracy\n",
    "from sklearn.model_selection import cross_val_score\n",
    "from sklearn.metrics import make_scorer\n",
    "models = {'Linear_Model': LM_model,\\\n",
    "         'Random Forest Tree': rfr,\\\n",
    "         'Gradient Boost': XGB,\\\n",
    "         'Desicion_Tree': dtr\n",
    "         }\n",
    "rmse_scorer = make_scorer(mean_squared_error)\n",
    "for name,model in models.items():\n",
    "    cv = np.sqrt(cross_val_score(estimator = model,X =OH_X, y = Y, cv = 10, scoring = rmse_scorer))\n",
    "    cv = cv.mean()\n",
    "    print(str(name)+' RMSE: ' + str(cv))"
   ]
  },
  {
   "cell_type": "code",
   "execution_count": 20,
   "metadata": {},
   "outputs": [
    {
     "name": "stdout",
     "output_type": "stream",
     "text": [
      "Linear_Model RMSE: 758.5343410238193\n",
      "Random Forest Tree RMSE: 679.6335201016456\n",
      "Gradient Boost RMSE: 703.5278758905126\n",
      "Desicion_Tree RMSE: 754.5058287287507\n"
     ]
    }
   ],
   "source": [
    "for name,model in models.items():\n",
    "    model.fit(OH_X,Y)\n",
    "    cv = math.sqrt(mean_squared_error(model.predict(OH_X),Y))\n",
    "    print(str(name)+' RMSE: ' + str(cv))"
   ]
  },
  {
   "cell_type": "code",
   "execution_count": null,
   "metadata": {},
   "outputs": [],
   "source": [
    "X_sub = test_df[Features].copy()\n",
    "X_sub = time_change(X_sub)\n",
    "\n",
    "# Impute Null Temperature values with average temperature\n",
    "imputing_col = ['Temperature','Precipitation in millimeters']\n",
    "imputer_avg = SimpleImputer(missing_values = np.nan, strategy = 'mean')\n",
    "imputer_zero = SimpleImputer(missing_values = np.nan, strategy = 'constant',fill_value = 0)\n",
    "for col in imputing_col:\n",
    "    if col == 'Temperature':\n",
    "        X_sub[col] = imputer_avg.fit_transform(X_sub.loc[:,[col]])\n",
    "    else:\n",
    "        X_sub[col] = imputer_zero.fit_transform(X_sub.loc[:,[col]])\n",
    "OH_X_sub = pd.get_dummies(X_sub,columns = categorical_columns)\n",
    "OH_X_sub[numeric_columns] = sc.fit_transform(OH_X_sub[numeric_columns])"
   ]
  },
  {
   "cell_type": "code",
   "execution_count": null,
   "metadata": {},
   "outputs": [],
   "source": []
  },
  {
   "cell_type": "code",
   "execution_count": null,
   "metadata": {},
   "outputs": [],
   "source": [
    "output = pd.DataFrame({'Time from Pickup to Arrival': LM_model.predict(OH_X_sub)},index = test_df.index)"
   ]
  },
  {
   "cell_type": "code",
   "execution_count": null,
   "metadata": {},
   "outputs": [],
   "source": [
    "output"
   ]
  },
  {
   "cell_type": "code",
   "execution_count": null,
   "metadata": {},
   "outputs": [],
   "source": [
    "output.to_csv('test1.csv')"
   ]
  },
  {
   "cell_type": "code",
   "execution_count": null,
   "metadata": {},
   "outputs": [],
   "source": []
  },
  {
   "cell_type": "code",
   "execution_count": null,
   "metadata": {},
   "outputs": [],
   "source": [
    "from pandas.api.types import is_numeric_dtype\n",
    "for i in train_df.columns:\n",
    "    print (is_numeric_dtype(train_df[i]))"
   ]
  },
  {
   "cell_type": "code",
   "execution_count": null,
   "metadata": {},
   "outputs": [],
   "source": []
  },
  {
   "cell_type": "code",
   "execution_count": null,
   "metadata": {},
   "outputs": [],
   "source": []
  },
  {
   "cell_type": "code",
   "execution_count": null,
   "metadata": {},
   "outputs": [],
   "source": []
  },
  {
   "cell_type": "code",
   "execution_count": null,
   "metadata": {},
   "outputs": [],
   "source": []
  },
  {
   "cell_type": "code",
   "execution_count": null,
   "metadata": {},
   "outputs": [],
   "source": []
  }
 ],
 "metadata": {
  "kernelspec": {
   "display_name": "Python 3",
   "language": "python",
   "name": "python3"
  },
  "language_info": {
   "codemirror_mode": {
    "name": "ipython",
    "version": 3
   },
   "file_extension": ".py",
   "mimetype": "text/x-python",
   "name": "python",
   "nbconvert_exporter": "python",
   "pygments_lexer": "ipython3",
   "version": "3.7.4"
  }
 },
 "nbformat": 4,
 "nbformat_minor": 2
}
