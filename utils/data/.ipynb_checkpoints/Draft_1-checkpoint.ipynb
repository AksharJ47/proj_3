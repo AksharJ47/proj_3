{
 "cells": [
  {
   "cell_type": "code",
   "execution_count": null,
   "metadata": {},
   "outputs": [],
   "source": [
    "#Load all required packages\n",
    "import pandas as pd\n",
    "import numpy as np\n",
    "import matplotlib.pyplot as plt\n",
    "from sklearn.impute import SimpleImputer"
   ]
  },
  {
   "cell_type": "code",
   "execution_count": null,
   "metadata": {},
   "outputs": [],
   "source": [
    "# load training data and test data\n",
    "train_df = pd.read_csv('Train_Zindi.csv', index_col=0)\n",
    "test_df = pd.read_csv('Test_Zindi.csv', index_col=0)\n",
    "riders_df = pd.read_csv('Riders_Zindi.csv', index_col=0)"
   ]
  },
  {
   "cell_type": "code",
   "execution_count": null,
   "metadata": {},
   "outputs": [],
   "source": [
    "#Function to convert time rows to seconds after midnight\n",
    "def time_fn(row):\n",
    "    b = row.split(' ')\n",
    "    if b[1] == 'AM':\n",
    "        c = 0\n",
    "    else:\n",
    "        c = 12\n",
    "    b = b[0].split(':')\n",
    "    b = [int(i) for i in b]\n",
    "    if b[0] == 12:\n",
    "        c -= 12\n",
    "    # convertion to minutes\n",
    "    b[0] = (b[0] + c)*60*60\n",
    "    b[1] = (b[1])*60\n",
    "    row = sum(b)\n",
    "    return(row)"
   ]
  },
  {
   "cell_type": "code",
   "execution_count": null,
   "metadata": {},
   "outputs": [],
   "source": [
    "#Convertion of times to seconds past midnight:\n",
    "train_df['Placement - Time'] = train_df['Placement - Time'].apply(lambda x:time_fn(x))\n",
    "train_df['Confirmation - Time'] = train_df['Confirmation - Time'].apply(lambda x:time_fn(x))\n",
    "train_df['Arrival at Pickup - Time'] = train_df['Arrival at Pickup - Time'].apply(lambda x:time_fn(x))\n",
    "train_df['Pickup - Time'] = train_df['Pickup - Time'].apply(lambda x:time_fn(x))\n",
    "train_df['Arrival at Destination - Time'] = train_df['Arrival at Destination - Time'].apply(lambda x:time_fn(x))"
   ]
  },
  {
   "cell_type": "code",
   "execution_count": null,
   "metadata": {},
   "outputs": [],
   "source": [
    "# Remove rows where placement_day != confirmation day and pickup_day\n",
    "train_df = train_df.drop(train_df[(train_df.iloc[:,4] != train_df.iloc[:,7]) | (train_df.iloc[:,7] != train_df.iloc[:,16])].index)"
   ]
  },
  {
   "cell_type": "code",
   "execution_count": null,
   "metadata": {},
   "outputs": [],
   "source": [
    "#Join train_df with riders dataframe\n",
    "train_df = pd.merge(train_df,riders_df,how='left',on=['Rider Id','Rider Id'])"
   ]
  },
  {
   "cell_type": "code",
   "execution_count": null,
   "metadata": {},
   "outputs": [],
   "source": [
    "# Choose model_features and model target\n",
    "X_train = train_df.loc[:,['Platform Type',\\\n",
    "                    'Personal or Business',\\\n",
    "                    'Placement - Day of Month',\\\n",
    "                    'Placement - Weekday (Mo = 1)',\\\n",
    "                    'Placement - Time',\\\n",
    "                    'Confirmation - Time',\\\n",
    "                    'Arrival at Pickup - Time',\\\n",
    "                    'Pickup - Time',\\\n",
    "                    'Distance (KM)',\\\n",
    "                    'Temperature',\\\n",
    "                    'No_Of_Orders',\\\n",
    "                    'Age',\\\n",
    "                    'Average_Rating',\\\n",
    "                    'No_of_Ratings']]\n",
    "y_train = train_df.loc[:,'Arrival at Destination - Time']"
   ]
  },
  {
   "cell_type": "code",
   "execution_count": null,
   "metadata": {},
   "outputs": [],
   "source": [
    "# Impute Null Temperature values with average temperature\n",
    "imputing_col = ['Temperature']\n",
    "imputer_avg = SimpleImputer(missing_values = np.nan, strategy = 'mean')\n",
    "for col in imputing_col:\n",
    "    X_train[col] = imputer_avg.fit_transform(X_train.loc[:,[col]])"
   ]
  },
  {
   "cell_type": "code",
   "execution_count": null,
   "metadata": {},
   "outputs": [],
   "source": [
    "# One-Hot Encode nominal categories\n",
    "categorical_columns = ['Platform Type','Personal or Business','Placement - Day of Month','Placement - Weekday (Mo = 1)']\n",
    "X_train_2 = pd.get_dummies(X_train,columns = categorical_columns)"
   ]
  },
  {
   "cell_type": "code",
   "execution_count": null,
   "metadata": {},
   "outputs": [],
   "source": [
    "# Check for linearity\n",
    "fig, axs = plt.subplots(18,3, figsize=(14,98))\n",
    "fig.subplots_adjust(hspace = 0.5, wspace=.2)\n",
    "axs = axs.ravel()\n",
    "\n",
    "for index, column in enumerate(X_train_2.columns):\n",
    "    axs[index].set_title(\"{} vs. Ar at dest\".format(column))\n",
    "    axs[index].scatter(x=X_train_2[column],y=y_train,c='blue',edgecolor='k')"
   ]
  },
  {
   "cell_type": "code",
   "execution_count": null,
   "metadata": {},
   "outputs": [],
   "source": [
    "#check for collinear variables\n",
    "corr = X_train_2.corr()\n",
    "fig, axz = plt.subplots(1,1, figsize=(14, 10))\n",
    "fig = plot_corr(corr,xnames=corr_2.columns,ax=axz)"
   ]
  },
  {
   "cell_type": "code",
   "execution_count": null,
   "metadata": {},
   "outputs": [],
   "source": []
  },
  {
   "cell_type": "code",
   "execution_count": null,
   "metadata": {},
   "outputs": [],
   "source": []
  },
  {
   "cell_type": "code",
   "execution_count": null,
   "metadata": {},
   "outputs": [],
   "source": []
  },
  {
   "cell_type": "code",
   "execution_count": null,
   "metadata": {},
   "outputs": [],
   "source": []
  }
 ],
 "metadata": {
  "kernelspec": {
   "display_name": "Python 3",
   "language": "python",
   "name": "python3"
  },
  "language_info": {
   "codemirror_mode": {
    "name": "ipython",
    "version": 3
   },
   "file_extension": ".py",
   "mimetype": "text/x-python",
   "name": "python",
   "nbconvert_exporter": "python",
   "pygments_lexer": "ipython3",
   "version": "3.7.4"
  }
 },
 "nbformat": 4,
 "nbformat_minor": 2
}
