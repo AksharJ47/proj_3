{
 "cells": [
  {
   "cell_type": "markdown",
   "metadata": {},
   "source": [
    "# EDSA Sendy Logistics Challenge"
   ]
  },
  {
   "cell_type": "markdown",
   "metadata": {},
   "source": [
    " "
   ]
  },
  {
   "cell_type": "markdown",
   "metadata": {},
   "source": [
    " "
   ]
  },
  {
   "cell_type": "markdown",
   "metadata": {},
   "source": [
    "## Contents\n",
    "\n",
    " 1. Required Imports & Libraries\n",
    " 2. Import the Data\n",
    " 3. Data Cleaning & Formatting\n",
    " 4. Exploratory Data Analysis\n",
    " 5. Feature Engineering and selection\n",
    " 6. Building & Evaluating Models\n",
    " 7. Training the Model and making a prediction\n",
    " 8. Generating a Submission file for ZINDI\n",
    " 9. References"
   ]
  },
  {
   "cell_type": "markdown",
   "metadata": {},
   "source": [
    "### 1. Required Imports & Libraries"
   ]
  },
  {
   "cell_type": "code",
   "execution_count": 17,
   "metadata": {},
   "outputs": [],
   "source": [
    "## Required Libraries & imports for the model\n",
    "\n",
    "import pandas as pd\n",
    "import numpy as np\n",
    "import datetime as dt\n",
    "import matplotlib.pyplot as plt\n",
    "%matplotlib inline\n",
    "import seaborn as sns\n",
    "\n",
    "# from sklearn.preprocessing import LabelEncoder\n",
    "from sklearn.model_selection import train_test_split, KFold, GridSearchCV \n",
    "from sklearn.model_selection import cross_val_score, learning_curve\n",
    "from sklearn.metrics import mean_squared_error\n",
    "\n",
    "from sklearn.svm import SVR\n",
    "from sklearn.ensemble import ExtraTreesRegressor, RandomForestRegressor, GradientBoostingRegressor\n",
    "from sklearn.linear_model import LinearRegression\n",
    "\n",
    "import xgboost as xgb\n",
    "import lightgbm as lgb\n",
    "\n",
    "sns.set(style='white', context='notebook', palette='deep')"
   ]
  },
  {
   "cell_type": "markdown",
   "metadata": {},
   "source": [
    "### 2. Import the Data"
   ]
  },
  {
   "cell_type": "code",
   "execution_count": 19,
   "metadata": {},
   "outputs": [
    {
     "name": "stdout",
     "output_type": "stream",
     "text": [
      "(21201, 29) (7068, 25) (960, 5)\n"
     ]
    },
    {
     "data": {
      "text/html": [
       "<div>\n",
       "<style scoped>\n",
       "    .dataframe tbody tr th:only-of-type {\n",
       "        vertical-align: middle;\n",
       "    }\n",
       "\n",
       "    .dataframe tbody tr th {\n",
       "        vertical-align: top;\n",
       "    }\n",
       "\n",
       "    .dataframe thead th {\n",
       "        text-align: right;\n",
       "    }\n",
       "</style>\n",
       "<table border=\"1\" class=\"dataframe\">\n",
       "  <thead>\n",
       "    <tr style=\"text-align: right;\">\n",
       "      <th></th>\n",
       "      <th>Order No</th>\n",
       "      <th>User Id</th>\n",
       "      <th>Vehicle Type</th>\n",
       "      <th>Platform Type</th>\n",
       "      <th>Personal or Business</th>\n",
       "      <th>Placement - Day of Month</th>\n",
       "      <th>Placement - Weekday (Mo = 1)</th>\n",
       "      <th>Placement - Time</th>\n",
       "      <th>Confirmation - Day of Month</th>\n",
       "      <th>Confirmation - Weekday (Mo = 1)</th>\n",
       "      <th>...</th>\n",
       "      <th>Arrival at Destination - Time</th>\n",
       "      <th>Distance (KM)</th>\n",
       "      <th>Temperature</th>\n",
       "      <th>Precipitation in millimeters</th>\n",
       "      <th>Pickup Lat</th>\n",
       "      <th>Pickup Long</th>\n",
       "      <th>Destination Lat</th>\n",
       "      <th>Destination Long</th>\n",
       "      <th>Rider Id</th>\n",
       "      <th>Time from Pickup to Arrival</th>\n",
       "    </tr>\n",
       "  </thead>\n",
       "  <tbody>\n",
       "    <tr>\n",
       "      <td>0</td>\n",
       "      <td>Order_No_4211</td>\n",
       "      <td>User_Id_633</td>\n",
       "      <td>Bike</td>\n",
       "      <td>3</td>\n",
       "      <td>Business</td>\n",
       "      <td>9</td>\n",
       "      <td>5</td>\n",
       "      <td>9:35:46 AM</td>\n",
       "      <td>9</td>\n",
       "      <td>5</td>\n",
       "      <td>...</td>\n",
       "      <td>10:39:55 AM</td>\n",
       "      <td>4</td>\n",
       "      <td>20.4</td>\n",
       "      <td>NaN</td>\n",
       "      <td>-1.317755</td>\n",
       "      <td>36.830370</td>\n",
       "      <td>-1.300406</td>\n",
       "      <td>36.829741</td>\n",
       "      <td>Rider_Id_432</td>\n",
       "      <td>745</td>\n",
       "    </tr>\n",
       "    <tr>\n",
       "      <td>1</td>\n",
       "      <td>Order_No_25375</td>\n",
       "      <td>User_Id_2285</td>\n",
       "      <td>Bike</td>\n",
       "      <td>3</td>\n",
       "      <td>Personal</td>\n",
       "      <td>12</td>\n",
       "      <td>5</td>\n",
       "      <td>11:16:16 AM</td>\n",
       "      <td>12</td>\n",
       "      <td>5</td>\n",
       "      <td>...</td>\n",
       "      <td>12:17:22 PM</td>\n",
       "      <td>16</td>\n",
       "      <td>26.4</td>\n",
       "      <td>NaN</td>\n",
       "      <td>-1.351453</td>\n",
       "      <td>36.899315</td>\n",
       "      <td>-1.295004</td>\n",
       "      <td>36.814358</td>\n",
       "      <td>Rider_Id_856</td>\n",
       "      <td>1993</td>\n",
       "    </tr>\n",
       "    <tr>\n",
       "      <td>2</td>\n",
       "      <td>Order_No_1899</td>\n",
       "      <td>User_Id_265</td>\n",
       "      <td>Bike</td>\n",
       "      <td>3</td>\n",
       "      <td>Business</td>\n",
       "      <td>30</td>\n",
       "      <td>2</td>\n",
       "      <td>12:39:25 PM</td>\n",
       "      <td>30</td>\n",
       "      <td>2</td>\n",
       "      <td>...</td>\n",
       "      <td>1:00:38 PM</td>\n",
       "      <td>3</td>\n",
       "      <td>NaN</td>\n",
       "      <td>NaN</td>\n",
       "      <td>-1.308284</td>\n",
       "      <td>36.843419</td>\n",
       "      <td>-1.300921</td>\n",
       "      <td>36.828195</td>\n",
       "      <td>Rider_Id_155</td>\n",
       "      <td>455</td>\n",
       "    </tr>\n",
       "    <tr>\n",
       "      <td>3</td>\n",
       "      <td>Order_No_9336</td>\n",
       "      <td>User_Id_1402</td>\n",
       "      <td>Bike</td>\n",
       "      <td>3</td>\n",
       "      <td>Business</td>\n",
       "      <td>15</td>\n",
       "      <td>5</td>\n",
       "      <td>9:25:34 AM</td>\n",
       "      <td>15</td>\n",
       "      <td>5</td>\n",
       "      <td>...</td>\n",
       "      <td>10:05:27 AM</td>\n",
       "      <td>9</td>\n",
       "      <td>19.2</td>\n",
       "      <td>NaN</td>\n",
       "      <td>-1.281301</td>\n",
       "      <td>36.832396</td>\n",
       "      <td>-1.257147</td>\n",
       "      <td>36.795063</td>\n",
       "      <td>Rider_Id_855</td>\n",
       "      <td>1341</td>\n",
       "    </tr>\n",
       "    <tr>\n",
       "      <td>4</td>\n",
       "      <td>Order_No_27883</td>\n",
       "      <td>User_Id_1737</td>\n",
       "      <td>Bike</td>\n",
       "      <td>1</td>\n",
       "      <td>Personal</td>\n",
       "      <td>13</td>\n",
       "      <td>1</td>\n",
       "      <td>9:55:18 AM</td>\n",
       "      <td>13</td>\n",
       "      <td>1</td>\n",
       "      <td>...</td>\n",
       "      <td>10:25:37 AM</td>\n",
       "      <td>9</td>\n",
       "      <td>15.4</td>\n",
       "      <td>NaN</td>\n",
       "      <td>-1.266597</td>\n",
       "      <td>36.792118</td>\n",
       "      <td>-1.295041</td>\n",
       "      <td>36.809817</td>\n",
       "      <td>Rider_Id_770</td>\n",
       "      <td>1214</td>\n",
       "    </tr>\n",
       "  </tbody>\n",
       "</table>\n",
       "<p>5 rows × 29 columns</p>\n",
       "</div>"
      ],
      "text/plain": [
       "         Order No       User Id Vehicle Type  Platform Type  \\\n",
       "0   Order_No_4211   User_Id_633         Bike              3   \n",
       "1  Order_No_25375  User_Id_2285         Bike              3   \n",
       "2   Order_No_1899   User_Id_265         Bike              3   \n",
       "3   Order_No_9336  User_Id_1402         Bike              3   \n",
       "4  Order_No_27883  User_Id_1737         Bike              1   \n",
       "\n",
       "  Personal or Business  Placement - Day of Month  \\\n",
       "0             Business                         9   \n",
       "1             Personal                        12   \n",
       "2             Business                        30   \n",
       "3             Business                        15   \n",
       "4             Personal                        13   \n",
       "\n",
       "   Placement - Weekday (Mo = 1) Placement - Time  Confirmation - Day of Month  \\\n",
       "0                             5       9:35:46 AM                            9   \n",
       "1                             5      11:16:16 AM                           12   \n",
       "2                             2      12:39:25 PM                           30   \n",
       "3                             5       9:25:34 AM                           15   \n",
       "4                             1       9:55:18 AM                           13   \n",
       "\n",
       "   Confirmation - Weekday (Mo = 1)  ... Arrival at Destination - Time  \\\n",
       "0                                5  ...                   10:39:55 AM   \n",
       "1                                5  ...                   12:17:22 PM   \n",
       "2                                2  ...                    1:00:38 PM   \n",
       "3                                5  ...                   10:05:27 AM   \n",
       "4                                1  ...                   10:25:37 AM   \n",
       "\n",
       "   Distance (KM)  Temperature Precipitation in millimeters  Pickup Lat  \\\n",
       "0              4         20.4                          NaN   -1.317755   \n",
       "1             16         26.4                          NaN   -1.351453   \n",
       "2              3          NaN                          NaN   -1.308284   \n",
       "3              9         19.2                          NaN   -1.281301   \n",
       "4              9         15.4                          NaN   -1.266597   \n",
       "\n",
       "   Pickup Long Destination Lat  Destination Long      Rider Id  \\\n",
       "0    36.830370       -1.300406         36.829741  Rider_Id_432   \n",
       "1    36.899315       -1.295004         36.814358  Rider_Id_856   \n",
       "2    36.843419       -1.300921         36.828195  Rider_Id_155   \n",
       "3    36.832396       -1.257147         36.795063  Rider_Id_855   \n",
       "4    36.792118       -1.295041         36.809817  Rider_Id_770   \n",
       "\n",
       "  Time from Pickup to Arrival  \n",
       "0                         745  \n",
       "1                        1993  \n",
       "2                         455  \n",
       "3                        1341  \n",
       "4                        1214  \n",
       "\n",
       "[5 rows x 29 columns]"
      ]
     },
     "execution_count": 19,
     "metadata": {},
     "output_type": "execute_result"
    }
   ],
   "source": [
    "##Importing Training Data CSV file\n",
    "train_url = 'https://raw.githubusercontent.com/AksharJ47/regression-predict-api-template/master/utils/data/Train_Zindi.csv'\n",
    "train_df = pd.read_csv(train_url)\n",
    "\n",
    "##Importing Test Data\n",
    "test_url = 'https://raw.githubusercontent.com/AksharJ47/regression-predict-api-template/master/utils/data/Test_Zindi.csv'\n",
    "test_df = pd.read_csv(test_url)\n",
    "\n",
    "##Importing Riders Data CSV file\n",
    "riders_url = 'https://raw.githubusercontent.com/AksharJ47/regression-predict-api-template/master/utils/data/Riders_Zindi.csv'\n",
    "riders_df = pd.read_csv(riders_url)\n",
    "\n",
    "print(train_df.shape, test_df.shape, riders_df.shape)\n",
    "train_df.head()"
   ]
  },
  {
   "cell_type": "code",
   "execution_count": 20,
   "metadata": {},
   "outputs": [
    {
     "name": "stdout",
     "output_type": "stream",
     "text": [
      "<class 'pandas.core.frame.DataFrame'>\n",
      "RangeIndex: 21201 entries, 0 to 21200\n",
      "Data columns (total 29 columns):\n",
      "Order No                                     21201 non-null object\n",
      "User Id                                      21201 non-null object\n",
      "Vehicle Type                                 21201 non-null object\n",
      "Platform Type                                21201 non-null int64\n",
      "Personal or Business                         21201 non-null object\n",
      "Placement - Day of Month                     21201 non-null int64\n",
      "Placement - Weekday (Mo = 1)                 21201 non-null int64\n",
      "Placement - Time                             21201 non-null object\n",
      "Confirmation - Day of Month                  21201 non-null int64\n",
      "Confirmation - Weekday (Mo = 1)              21201 non-null int64\n",
      "Confirmation - Time                          21201 non-null object\n",
      "Arrival at Pickup - Day of Month             21201 non-null int64\n",
      "Arrival at Pickup - Weekday (Mo = 1)         21201 non-null int64\n",
      "Arrival at Pickup - Time                     21201 non-null object\n",
      "Pickup - Day of Month                        21201 non-null int64\n",
      "Pickup - Weekday (Mo = 1)                    21201 non-null int64\n",
      "Pickup - Time                                21201 non-null object\n",
      "Arrival at Destination - Day of Month        21201 non-null int64\n",
      "Arrival at Destination - Weekday (Mo = 1)    21201 non-null int64\n",
      "Arrival at Destination - Time                21201 non-null object\n",
      "Distance (KM)                                21201 non-null int64\n",
      "Temperature                                  16835 non-null float64\n",
      "Precipitation in millimeters                 552 non-null float64\n",
      "Pickup Lat                                   21201 non-null float64\n",
      "Pickup Long                                  21201 non-null float64\n",
      "Destination Lat                              21201 non-null float64\n",
      "Destination Long                             21201 non-null float64\n",
      "Rider Id                                     21201 non-null object\n",
      "Time from Pickup to Arrival                  21201 non-null int64\n",
      "dtypes: float64(6), int64(13), object(10)\n",
      "memory usage: 4.7+ MB\n"
     ]
    }
   ],
   "source": [
    "train_df.info()"
   ]
  },
  {
   "cell_type": "markdown",
   "metadata": {},
   "source": [
    "### 3. Data Cleaning & Formatting"
   ]
  },
  {
   "cell_type": "code",
   "execution_count": 21,
   "metadata": {},
   "outputs": [],
   "source": [
    "#Drop data not available in test, Pickup Time + label = Arrival times\n",
    "\n",
    "train_df = train_df.drop(['Arrival at Destination - Day of Month', 'Arrival at Destination - Weekday (Mo = 1)',\n",
    "                          'Arrival at Destination - Time'], axis=1)"
   ]
  },
  {
   "cell_type": "code",
   "execution_count": 22,
   "metadata": {},
   "outputs": [
    {
     "data": {
      "text/plain": [
       "((21201, 26), (7068, 26), (28269, 26), (28269, 30))"
      ]
     },
     "execution_count": 22,
     "metadata": {},
     "output_type": "execute_result"
    }
   ],
   "source": [
    "# Combine train & test to create a full df\n",
    "train_end = train_df.shape[0]\n",
    "test_df['Time from Pickup to Arrival'] = [np.nan]*test_df.shape[0]\n",
    "full_df = pd.concat([train_df, test_df], axis=0, ignore_index=True)\n",
    "full_riders_df = pd.merge(full_df, riders_df, how='left',\n",
    "                          left_on='Rider Id',\n",
    "                          right_on='Rider Id',\n",
    "                          left_index=True)\n",
    "train_df.shape, test_df.shape, full_df.shape, full_riders_df.shape"
   ]
  },
  {
   "cell_type": "code",
   "execution_count": 23,
   "metadata": {},
   "outputs": [
    {
     "name": "stdout",
     "output_type": "stream",
     "text": [
      "<class 'pandas.core.frame.DataFrame'>\n",
      "Int64Index: 28269 entries, 27 to 785\n",
      "Data columns (total 30 columns):\n",
      "Order No                                28269 non-null object\n",
      "User Id                                 28269 non-null object\n",
      "Vehicle Type                            28269 non-null object\n",
      "Platform Type                           28269 non-null int64\n",
      "Personal or Business                    28269 non-null object\n",
      "Placement - Day of Month                28269 non-null int64\n",
      "Placement - Weekday (Mo = 1)            28269 non-null int64\n",
      "Placement - Time                        28269 non-null object\n",
      "Confirmation - Day of Month             28269 non-null int64\n",
      "Confirmation - Weekday (Mo = 1)         28269 non-null int64\n",
      "Confirmation - Time                     28269 non-null object\n",
      "Arrival at Pickup - Day of Month        28269 non-null int64\n",
      "Arrival at Pickup - Weekday (Mo = 1)    28269 non-null int64\n",
      "Arrival at Pickup - Time                28269 non-null object\n",
      "Pickup - Day of Month                   28269 non-null int64\n",
      "Pickup - Weekday (Mo = 1)               28269 non-null int64\n",
      "Pickup - Time                           28269 non-null object\n",
      "Distance (KM)                           28269 non-null int64\n",
      "Temperature                             22466 non-null float64\n",
      "Precipitation in millimeters            751 non-null float64\n",
      "Pickup Lat                              28269 non-null float64\n",
      "Pickup Long                             28269 non-null float64\n",
      "Destination Lat                         28269 non-null float64\n",
      "Destination Long                        28269 non-null float64\n",
      "Rider Id                                28269 non-null object\n",
      "Time from Pickup to Arrival             21201 non-null float64\n",
      "No_Of_Orders                            28269 non-null int64\n",
      "Age                                     28269 non-null int64\n",
      "Average_Rating                          28269 non-null float64\n",
      "No_of_Ratings                           28269 non-null int64\n",
      "dtypes: float64(8), int64(13), object(9)\n",
      "memory usage: 6.7+ MB\n"
     ]
    }
   ],
   "source": [
    "# Check features and their data types\n",
    "# Found missing values in Temperature and Precipitation\n",
    "full_riders_df.info()"
   ]
  },
  {
   "cell_type": "code",
   "execution_count": 24,
   "metadata": {},
   "outputs": [
    {
     "data": {
      "text/plain": [
       "Index(['Order_No', 'User_Id', 'Vehicle_Type', 'Platform_Type',\n",
       "       'Personal_Business', 'Pla_Mon', 'Pla_Weekday', 'Pla_Time',\n",
       "       'Con_Day_Mon', 'Con_Weekday', 'Con_Time', 'Arr_Pic_Mon',\n",
       "       'Arr_Pic_Weekday', 'Arr_Pic_Time', 'Pickup_Mon', 'Pickup_Weekday',\n",
       "       'Pickup_Time', 'Distance(km)', 'Temperature', 'Precipitation(mm)',\n",
       "       'Pickup_Lat', 'Pickup_Lon', 'Destination_Lat', 'Destination_Lon',\n",
       "       'Rider_Id', 'Time_Pic_Arr', 'No_Of_Orders', 'Age', 'Average_Rating',\n",
       "       'No_of_Ratings'],\n",
       "      dtype='object')"
      ]
     },
     "execution_count": 24,
     "metadata": {},
     "output_type": "execute_result"
    }
   ],
   "source": [
    "# Shorten Column Names, remove whitespace to make them easier to work with\n",
    "feature_names = {\"Order No\": \"Order_No\",\n",
    "                 \"User Id\": \"User_Id\",\n",
    "                 \"Vehicle Type\": \"Vehicle_Type\",\n",
    "                 \"Personal or Business\": \"Personal_Business\",\n",
    "                 \"Placement - Day of Month\": \"Pla_Mon\",\n",
    "                 \"Placement - Weekday (Mo = 1)\": \"Pla_Weekday\",\n",
    "                 \"Placement - Time\": \"Pla_Time\",\n",
    "                 \"Confirmation - Day of Month\": \"Con_Day_Mon\",\n",
    "                 \"Confirmation - Weekday (Mo = 1)\": \"Con_Weekday\",\n",
    "                 \"Confirmation - Time\": \"Con_Time\",\n",
    "                 \"Arrival at Pickup - Day of Month\": \"Arr_Pic_Mon\",\n",
    "                 \"Arrival at Pickup - Weekday (Mo = 1)\": \"Arr_Pic_Weekday\",\n",
    "                 \"Arrival at Pickup - Time\": \"Arr_Pic_Time\",\n",
    "                 \"Platform Type\": \"Platform_Type\",\n",
    "                 \"Pickup - Day of Month\": \"Pickup_Mon\",\n",
    "                 \"Pickup - Weekday (Mo = 1)\": \"Pickup_Weekday\",\n",
    "                 \"Pickup - Time\": \"Pickup_Time\",\n",
    "                 \"Distance (KM)\": \"Distance(km)\",\n",
    "                 \"Precipitation in millimeters\": \"Precipitation(mm)\",\n",
    "                 \"Pickup Lat\": \"Pickup_Lat\",\n",
    "                 \"Pickup Long\": \"Pickup_Lon\",\n",
    "                 \"Destination Lat\": \"Destination_Lat\",\n",
    "                 \"Destination Long\": \"Destination_Lon\",\n",
    "                 \"Rider Id\": \"Rider_Id\",\n",
    "                 \"Time from Pickup to Arrival\": \"Time_Pic_Arr\"}\n",
    "renamed_df = full_riders_df.rename(columns=feature_names)\n",
    "renamed_df.columns\n"
   ]
  },
  {
   "cell_type": "code",
   "execution_count": 25,
   "metadata": {},
   "outputs": [
    {
     "data": {
      "text/plain": [
       "(28269, 30)"
      ]
     },
     "execution_count": 25,
     "metadata": {},
     "output_type": "execute_result"
    }
   ],
   "source": [
    "renamed_df.shape"
   ]
  },
  {
   "cell_type": "code",
   "execution_count": 26,
   "metadata": {},
   "outputs": [],
   "source": [
    "# Convert time to Seconds after midnight\n",
    "def time_conv(input_df):\n",
    "    '''Converts time format %H:%M:%S to seconds past midnight(00:00) of\n",
    "       the same day rounded to the nearest second.\n",
    "       ------------------------------\n",
    "       12:00:00 PM --> 43200\n",
    "       01:30:00 AM --> 5400\n",
    "       02:35:30 PM --> 9330\n",
    "     '''    \n",
    "    input_df_1 = input_df.copy()\n",
    "\n",
    "    def timetosecs(x):\n",
    "        if len(x) == 10:\n",
    "            if x[-2:] == 'AM':\n",
    "                x = (float(x[0])*3600) + (float(x[2:4])*60) + float(x[5:7])\n",
    "            else:\n",
    "                x = (float(x[0])*43200) + (float(x[2:4])*60) + float(x[5:7])\n",
    "        else:\n",
    "            if x[-2:] == 'AM':\n",
    "                x = (float(x[0:2])*3600) + (float(x[3:5])*60) + float(x[6:8])\n",
    "            else:\n",
    "                x = (float(x[0:2])*43200) + (float(x[3:5])*60) + float(x[6:8])\n",
    "        return x\n",
    "    input_df_1['Pla_Time'] = input_df_1['Pla_Time'].apply(timetosecs)\n",
    "    input_df_1['Con_Time'] = input_df_1['Con_Time'].apply(timetosecs)\n",
    "    input_df_1['Arr_Pic_Time'] = input_df_1['Arr_Pic_Time'].apply(timetosecs)\n",
    "    input_df_1['Pickup_Time'] = input_df_1['Pickup_Time'].apply(timetosecs)\n",
    "    return input_df_1\n",
    "\n",
    "time_conv_df = time_conv(renamed_df)\n"
   ]
  },
  {
   "cell_type": "code",
   "execution_count": 27,
   "metadata": {},
   "outputs": [],
   "source": [
    "# Add Columns for time differences\n",
    "def time_diffs(input_df):\n",
    "    df = input_df.copy()\n",
    "    df['Conf_Pla_dif'] = df['Con_Time'] - df['Pla_Time']\n",
    "    df['Arr_Con_dif'] = df['Arr_Pic_Time'] - df['Con_Time']\n",
    "    df['Pic_Arr_dif'] = df['Pickup_Time'] - df['Arr_Pic_Time']\n",
    "\n",
    "    return df\n"
   ]
  },
  {
   "cell_type": "code",
   "execution_count": 28,
   "metadata": {},
   "outputs": [],
   "source": [
    "time_conv_df = time_diffs(time_conv_df)"
   ]
  },
  {
   "cell_type": "markdown",
   "metadata": {},
   "source": [
    "### 4. Exploratory Data Analysis (EDA)"
   ]
  },
  {
   "cell_type": "code",
   "execution_count": null,
   "metadata": {},
   "outputs": [],
   "source": []
  },
  {
   "cell_type": "code",
   "execution_count": null,
   "metadata": {},
   "outputs": [],
   "source": []
  },
  {
   "cell_type": "code",
   "execution_count": null,
   "metadata": {},
   "outputs": [],
   "source": []
  },
  {
   "cell_type": "markdown",
   "metadata": {},
   "source": [
    "### 5.  Feature Engineering & Selection"
   ]
  },
  {
   "cell_type": "code",
   "execution_count": 29,
   "metadata": {},
   "outputs": [],
   "source": [
    "# Add Rider Experience based on Age Column - Low - Medium - High\n",
    "\n",
    "time_conv_df['Rider_Exp'] = pd.qcut(time_conv_df['Age'],\n",
    "                                    q=[0, .25, .75, 1],\n",
    "                                    labels=['low', 'medium', 'high'])\n"
   ]
  },
  {
   "cell_type": "code",
   "execution_count": 30,
   "metadata": {},
   "outputs": [],
   "source": [
    "# Filling Missing Values for Temperature and Precipitation - used the Mean\n",
    "\n",
    "time_conv_df['Temperature'] = time_conv_df['Temperature'].fillna(\n",
    "    time_conv_df['Temperature'].mean())\n",
    "time_conv_df['Precipitation(mm)'].fillna(\n",
    "    time_conv_df['Precipitation(mm)'].mean(), inplace=True)\n"
   ]
  },
  {
   "cell_type": "code",
   "execution_count": 31,
   "metadata": {},
   "outputs": [],
   "source": [
    "# Create Temperature band Column - 3 categories - low, mid, high\n",
    "\n",
    "time_conv_df['Temp_Band'] = pd.qcut(time_conv_df['Temperature'],\n",
    "                                    q=[0, .25, .75, 1],\n",
    "                                    labels=['low', 'medium', 'high'])"
   ]
  },
  {
   "cell_type": "code",
   "execution_count": 32,
   "metadata": {},
   "outputs": [],
   "source": [
    "#Manhattan distance\n",
    "def manhattan_distance(lat1, lng1, lat2, lng2):\n",
    "    a = np.abs(lat2 -lat1)\n",
    "    b = np.abs(lng1 - lng2)\n",
    "    return a + b\n"
   ]
  },
  {
   "cell_type": "code",
   "execution_count": 33,
   "metadata": {},
   "outputs": [],
   "source": [
    "##Add Manhattan to DF\n",
    "def added_manhattan(input_df):\n",
    "    df = input_df.copy()\n",
    "    df['distance_manhattan'] = manhattan_distance(df['Pickup_Lat'].values,\n",
    "                                                  df['Pickup_Lon'].values,\n",
    "                                                  df['Destination_Lat'].values,\n",
    "                                                  df['Destination_Lon'].values)\n",
    "    return df\n",
    "\n",
    "time_conv_df = added_manhattan(time_conv_df)\n",
    "\n",
    "## Add Reference for this"
   ]
  },
  {
   "cell_type": "code",
   "execution_count": 34,
   "metadata": {},
   "outputs": [],
   "source": [
    "#Haversine distance\n",
    "def haversine_array(lat1, lng1, lat2, lng2):\n",
    "    lat1, lng1, lat2, lng2 = map(np.radians, (lat1, lng1, lat2, lng2))\n",
    "    AVG_EARTH_RADIUS = 6371  # in km\n",
    "    lat = lat2 - lat1\n",
    "    lng = lng2 - lng1\n",
    "    d = np.sin(lat * 0.5) ** 2 + np.cos(lat1) * np.cos(lat2) * np.sin(lng * 0.5) ** 2\n",
    "    h = 2 * AVG_EARTH_RADIUS * np.arcsin(np.sqrt(d))\n",
    "    return h\n",
    "\n",
    "## Add Reference for this"
   ]
  },
  {
   "cell_type": "code",
   "execution_count": 35,
   "metadata": {},
   "outputs": [],
   "source": [
    "##Add Haversine Distance to DF\n",
    "\n",
    "def add_haversine(input_df):\n",
    "    input_df_1 = input_df.copy()\n",
    "    input_df_1['distance_haversine'] = haversine_array(input_df_1['Pickup_Lat'].values,\n",
    "                                                       input_df_1['Pickup_Lon'].values,\n",
    "                                                       input_df_1['Destination_Lat'].values,\n",
    "                                                       input_df_1['Destination_Lon'].values)\n",
    "    return input_df_1\n",
    "\n",
    "time_conv_df = add_haversine(time_conv_df)"
   ]
  },
  {
   "cell_type": "code",
   "execution_count": 36,
   "metadata": {},
   "outputs": [
    {
     "data": {
      "text/plain": [
       "27      1.930333\n",
       "739    11.339849\n",
       "851     1.880079\n",
       "806     4.943458\n",
       "159     3.724829\n",
       "         ...    \n",
       "611     3.631752\n",
       "119    16.407578\n",
       "134     5.398648\n",
       "205    15.688753\n",
       "785     7.294294\n",
       "Name: distance_haversine, Length: 28269, dtype: float64"
      ]
     },
     "execution_count": 36,
     "metadata": {},
     "output_type": "execute_result"
    }
   ],
   "source": [
    "time_conv_df['distance_haversine']"
   ]
  },
  {
   "cell_type": "code",
   "execution_count": 37,
   "metadata": {},
   "outputs": [
    {
     "name": "stdout",
     "output_type": "stream",
     "text": [
      "2\r"
     ]
    },
    {
     "data": {
      "text/plain": [
       "[[17, 18, 18, 18], [11, 13, 13, 13]]"
      ]
     },
     "execution_count": 37,
     "metadata": {},
     "output_type": "execute_result"
    }
   ],
   "source": [
    "# This is to check if there is any difference between the columns with Days of Month or Weekday of Month\n",
    "\n",
    "month_cols = [col for col in time_conv_df.columns if col.endswith('Mon')]\n",
    "weekday_cols = [col for col in time_conv_df.columns if col.endswith('Weekday')]\n",
    "\n",
    "count = 0\n",
    "instances_of_different_days = [];\n",
    "for i, row in time_conv_df.iterrows():\n",
    "    if len(set(row[month_cols].values)) > 1:\n",
    "        print(count+1, end='\\r')\n",
    "        count = count + 1\n",
    "        instances_of_different_days.append(list(row[month_cols].values))\n",
    "instances_of_different_days"
   ]
  },
  {
   "cell_type": "code",
   "execution_count": 39,
   "metadata": {},
   "outputs": [
    {
     "data": {
      "text/html": [
       "<div>\n",
       "<style scoped>\n",
       "    .dataframe tbody tr th:only-of-type {\n",
       "        vertical-align: middle;\n",
       "    }\n",
       "\n",
       "    .dataframe tbody tr th {\n",
       "        vertical-align: top;\n",
       "    }\n",
       "\n",
       "    .dataframe thead th {\n",
       "        text-align: right;\n",
       "    }\n",
       "</style>\n",
       "<table border=\"1\" class=\"dataframe\">\n",
       "  <thead>\n",
       "    <tr style=\"text-align: right;\">\n",
       "      <th></th>\n",
       "      <th>Order_No</th>\n",
       "      <th>User_Id</th>\n",
       "      <th>Platform_Type</th>\n",
       "      <th>Personal_Business</th>\n",
       "      <th>Pla_Time</th>\n",
       "      <th>Con_Time</th>\n",
       "      <th>Arr_Pic_Time</th>\n",
       "      <th>Pickup_Time</th>\n",
       "      <th>Distance(km)</th>\n",
       "      <th>Temperature</th>\n",
       "      <th>...</th>\n",
       "      <th>No_of_Ratings</th>\n",
       "      <th>Conf_Pla_dif</th>\n",
       "      <th>Arr_Con_dif</th>\n",
       "      <th>Pic_Arr_dif</th>\n",
       "      <th>Rider_Exp</th>\n",
       "      <th>Temp_Band</th>\n",
       "      <th>distance_manhattan</th>\n",
       "      <th>distance_haversine</th>\n",
       "      <th>Day_of_Month</th>\n",
       "      <th>Day_of_Week</th>\n",
       "    </tr>\n",
       "  </thead>\n",
       "  <tbody>\n",
       "    <tr>\n",
       "      <td>27</td>\n",
       "      <td>Order_No_4211</td>\n",
       "      <td>User_Id_633</td>\n",
       "      <td>3</td>\n",
       "      <td>Business</td>\n",
       "      <td>34546.0</td>\n",
       "      <td>34810.0</td>\n",
       "      <td>36287.0</td>\n",
       "      <td>37650.0</td>\n",
       "      <td>4</td>\n",
       "      <td>20.400000</td>\n",
       "      <td>...</td>\n",
       "      <td>549</td>\n",
       "      <td>264.0</td>\n",
       "      <td>1477.0</td>\n",
       "      <td>1363.0</td>\n",
       "      <td>high</td>\n",
       "      <td>low</td>\n",
       "      <td>0.017978</td>\n",
       "      <td>1.930333</td>\n",
       "      <td>9</td>\n",
       "      <td>5</td>\n",
       "    </tr>\n",
       "    <tr>\n",
       "      <td>739</td>\n",
       "      <td>Order_No_25375</td>\n",
       "      <td>User_Id_2285</td>\n",
       "      <td>3</td>\n",
       "      <td>Personal</td>\n",
       "      <td>40576.0</td>\n",
       "      <td>41001.0</td>\n",
       "      <td>42022.0</td>\n",
       "      <td>42249.0</td>\n",
       "      <td>16</td>\n",
       "      <td>26.400000</td>\n",
       "      <td>...</td>\n",
       "      <td>69</td>\n",
       "      <td>425.0</td>\n",
       "      <td>1021.0</td>\n",
       "      <td>227.0</td>\n",
       "      <td>low</td>\n",
       "      <td>high</td>\n",
       "      <td>0.141406</td>\n",
       "      <td>11.339849</td>\n",
       "      <td>12</td>\n",
       "      <td>5</td>\n",
       "    </tr>\n",
       "    <tr>\n",
       "      <td>851</td>\n",
       "      <td>Order_No_1899</td>\n",
       "      <td>User_Id_265</td>\n",
       "      <td>3</td>\n",
       "      <td>Business</td>\n",
       "      <td>520765.0</td>\n",
       "      <td>520964.0</td>\n",
       "      <td>521374.0</td>\n",
       "      <td>521583.0</td>\n",
       "      <td>3</td>\n",
       "      <td>23.255689</td>\n",
       "      <td>...</td>\n",
       "      <td>114</td>\n",
       "      <td>199.0</td>\n",
       "      <td>410.0</td>\n",
       "      <td>209.0</td>\n",
       "      <td>low</td>\n",
       "      <td>medium</td>\n",
       "      <td>0.022588</td>\n",
       "      <td>1.880079</td>\n",
       "      <td>30</td>\n",
       "      <td>2</td>\n",
       "    </tr>\n",
       "  </tbody>\n",
       "</table>\n",
       "<p>3 rows × 30 columns</p>\n",
       "</div>"
      ],
      "text/plain": [
       "           Order_No       User_Id  Platform_Type Personal_Business  Pla_Time  \\\n",
       "27    Order_No_4211   User_Id_633              3          Business   34546.0   \n",
       "739  Order_No_25375  User_Id_2285              3          Personal   40576.0   \n",
       "851   Order_No_1899   User_Id_265              3          Business  520765.0   \n",
       "\n",
       "     Con_Time  Arr_Pic_Time  Pickup_Time  Distance(km)  Temperature  ...  \\\n",
       "27    34810.0       36287.0      37650.0             4    20.400000  ...   \n",
       "739   41001.0       42022.0      42249.0            16    26.400000  ...   \n",
       "851  520964.0      521374.0     521583.0             3    23.255689  ...   \n",
       "\n",
       "     No_of_Ratings  Conf_Pla_dif  Arr_Con_dif  Pic_Arr_dif  Rider_Exp  \\\n",
       "27             549         264.0       1477.0       1363.0       high   \n",
       "739             69         425.0       1021.0        227.0        low   \n",
       "851            114         199.0        410.0        209.0        low   \n",
       "\n",
       "    Temp_Band  distance_manhattan  distance_haversine  Day_of_Month  \\\n",
       "27        low            0.017978            1.930333             9   \n",
       "739      high            0.141406           11.339849            12   \n",
       "851    medium            0.022588            1.880079            30   \n",
       "\n",
       "     Day_of_Week  \n",
       "27             5  \n",
       "739            5  \n",
       "851            2  \n",
       "\n",
       "[3 rows x 30 columns]"
      ]
     },
     "execution_count": 39,
     "metadata": {},
     "output_type": "execute_result"
    }
   ],
   "source": [
    "# Drop columns based on:\n",
    "   #Days of Month or Weekday of Month are the same except for 2 rows. The delivery service is same day\n",
    "   #All Vehicle types are Bikes, Vehicle Type is not necessary.\n",
    "\n",
    "time_conv_df['Day_of_Month'] = time_conv_df[month_cols[0]]\n",
    "time_conv_df['Day_of_Week'] = time_conv_df[weekday_cols[0]]\n",
    "\n",
    "time_conv_df.drop(month_cols+weekday_cols, axis=1, inplace=True)\n",
    "time_conv_df.drop('Vehicle_Type', axis=1, inplace=True)\n",
    "\n",
    "time_conv_df.head(3)\n"
   ]
  },
  {
   "cell_type": "code",
   "execution_count": 40,
   "metadata": {},
   "outputs": [
    {
     "data": {
      "text/plain": [
       "27     0\n",
       "739    1\n",
       "Name: Personal_Business, dtype: int32"
      ]
     },
     "execution_count": 40,
     "metadata": {},
     "output_type": "execute_result"
    }
   ],
   "source": [
    "#Convert Personal_Business Temp_Band using LabelEncoding\n",
    "\n",
    "le = LabelEncoder()\n",
    "le.fit(time_conv_df['Personal_Business'])\n",
    "time_conv_df['Personal_Business'] = le.transform(time_conv_df['Personal_Business'])\n",
    "time_conv_df['Personal_Business'][:2]\n"
   ]
  },
  {
   "cell_type": "code",
   "execution_count": 41,
   "metadata": {},
   "outputs": [
    {
     "data": {
      "text/plain": [
       "27     0\n",
       "739    1\n",
       "Name: Rider_Exp, dtype: int32"
      ]
     },
     "execution_count": 41,
     "metadata": {},
     "output_type": "execute_result"
    }
   ],
   "source": [
    "# Rider_Exp convert Label Encoding\n",
    "\n",
    "le.fit(time_conv_df['Rider_Exp'])\n",
    "time_conv_df['Rider_Exp'] = le.transform(time_conv_df['Rider_Exp'])\n",
    "time_conv_df['Rider_Exp'][:2]"
   ]
  },
  {
   "cell_type": "code",
   "execution_count": 42,
   "metadata": {},
   "outputs": [
    {
     "data": {
      "text/plain": [
       "27     1\n",
       "739    0\n",
       "Name: Temp_Band, dtype: int32"
      ]
     },
     "execution_count": 42,
     "metadata": {},
     "output_type": "execute_result"
    }
   ],
   "source": [
    "## Convert Temp_Band using LabelEncoding\n",
    "\n",
    "le.fit(time_conv_df['Temp_Band'])\n",
    "time_conv_df['Temp_Band'] = le.transform(time_conv_df['Temp_Band'])\n",
    "time_conv_df['Temp_Band'][:2]"
   ]
  },
  {
   "cell_type": "code",
   "execution_count": 43,
   "metadata": {
    "scrolled": true
   },
   "outputs": [
    {
     "data": {
      "text/html": [
       "<div>\n",
       "<style scoped>\n",
       "    .dataframe tbody tr th:only-of-type {\n",
       "        vertical-align: middle;\n",
       "    }\n",
       "\n",
       "    .dataframe tbody tr th {\n",
       "        vertical-align: top;\n",
       "    }\n",
       "\n",
       "    .dataframe thead th {\n",
       "        text-align: right;\n",
       "    }\n",
       "</style>\n",
       "<table border=\"1\" class=\"dataframe\">\n",
       "  <thead>\n",
       "    <tr style=\"text-align: right;\">\n",
       "      <th></th>\n",
       "      <th>Platform_Type</th>\n",
       "      <th>Personal_Business</th>\n",
       "      <th>Pla_Time</th>\n",
       "      <th>Con_Time</th>\n",
       "      <th>Arr_Pic_Time</th>\n",
       "      <th>Pickup_Time</th>\n",
       "      <th>Distance(km)</th>\n",
       "      <th>Temperature</th>\n",
       "      <th>Precipitation(mm)</th>\n",
       "      <th>Pickup_Lat</th>\n",
       "      <th>...</th>\n",
       "      <th>No_of_Ratings</th>\n",
       "      <th>Conf_Pla_dif</th>\n",
       "      <th>Arr_Con_dif</th>\n",
       "      <th>Pic_Arr_dif</th>\n",
       "      <th>Rider_Exp</th>\n",
       "      <th>Temp_Band</th>\n",
       "      <th>distance_manhattan</th>\n",
       "      <th>distance_haversine</th>\n",
       "      <th>Day_of_Month</th>\n",
       "      <th>Day_of_Week</th>\n",
       "    </tr>\n",
       "  </thead>\n",
       "  <tbody>\n",
       "    <tr>\n",
       "      <td>27</td>\n",
       "      <td>3</td>\n",
       "      <td>0</td>\n",
       "      <td>34546.0</td>\n",
       "      <td>34810.0</td>\n",
       "      <td>36287.0</td>\n",
       "      <td>37650.0</td>\n",
       "      <td>4</td>\n",
       "      <td>20.400000</td>\n",
       "      <td>7.573502</td>\n",
       "      <td>-1.317755</td>\n",
       "      <td>...</td>\n",
       "      <td>549</td>\n",
       "      <td>264.0</td>\n",
       "      <td>1477.0</td>\n",
       "      <td>1363.0</td>\n",
       "      <td>0</td>\n",
       "      <td>1</td>\n",
       "      <td>0.017978</td>\n",
       "      <td>1.930333</td>\n",
       "      <td>9</td>\n",
       "      <td>5</td>\n",
       "    </tr>\n",
       "    <tr>\n",
       "      <td>739</td>\n",
       "      <td>3</td>\n",
       "      <td>1</td>\n",
       "      <td>40576.0</td>\n",
       "      <td>41001.0</td>\n",
       "      <td>42022.0</td>\n",
       "      <td>42249.0</td>\n",
       "      <td>16</td>\n",
       "      <td>26.400000</td>\n",
       "      <td>7.573502</td>\n",
       "      <td>-1.351453</td>\n",
       "      <td>...</td>\n",
       "      <td>69</td>\n",
       "      <td>425.0</td>\n",
       "      <td>1021.0</td>\n",
       "      <td>227.0</td>\n",
       "      <td>1</td>\n",
       "      <td>0</td>\n",
       "      <td>0.141406</td>\n",
       "      <td>11.339849</td>\n",
       "      <td>12</td>\n",
       "      <td>5</td>\n",
       "    </tr>\n",
       "    <tr>\n",
       "      <td>851</td>\n",
       "      <td>3</td>\n",
       "      <td>0</td>\n",
       "      <td>520765.0</td>\n",
       "      <td>520964.0</td>\n",
       "      <td>521374.0</td>\n",
       "      <td>521583.0</td>\n",
       "      <td>3</td>\n",
       "      <td>23.255689</td>\n",
       "      <td>7.573502</td>\n",
       "      <td>-1.308284</td>\n",
       "      <td>...</td>\n",
       "      <td>114</td>\n",
       "      <td>199.0</td>\n",
       "      <td>410.0</td>\n",
       "      <td>209.0</td>\n",
       "      <td>1</td>\n",
       "      <td>2</td>\n",
       "      <td>0.022588</td>\n",
       "      <td>1.880079</td>\n",
       "      <td>30</td>\n",
       "      <td>2</td>\n",
       "    </tr>\n",
       "  </tbody>\n",
       "</table>\n",
       "<p>3 rows × 26 columns</p>\n",
       "</div>"
      ],
      "text/plain": [
       "     Platform_Type  Personal_Business  Pla_Time  Con_Time  Arr_Pic_Time  \\\n",
       "27               3                  0   34546.0   34810.0       36287.0   \n",
       "739              3                  1   40576.0   41001.0       42022.0   \n",
       "851              3                  0  520765.0  520964.0      521374.0   \n",
       "\n",
       "     Pickup_Time  Distance(km)  Temperature  Precipitation(mm)  Pickup_Lat  \\\n",
       "27       37650.0             4    20.400000           7.573502   -1.317755   \n",
       "739      42249.0            16    26.400000           7.573502   -1.351453   \n",
       "851     521583.0             3    23.255689           7.573502   -1.308284   \n",
       "\n",
       "     ...  No_of_Ratings  Conf_Pla_dif  Arr_Con_dif  Pic_Arr_dif  Rider_Exp  \\\n",
       "27   ...            549         264.0       1477.0       1363.0          0   \n",
       "739  ...             69         425.0       1021.0        227.0          1   \n",
       "851  ...            114         199.0        410.0        209.0          1   \n",
       "\n",
       "     Temp_Band  distance_manhattan  distance_haversine  Day_of_Month  \\\n",
       "27           1            0.017978            1.930333             9   \n",
       "739          0            0.141406           11.339849            12   \n",
       "851          2            0.022588            1.880079            30   \n",
       "\n",
       "     Day_of_Week  \n",
       "27             5  \n",
       "739            5  \n",
       "851            2  \n",
       "\n",
       "[3 rows x 26 columns]"
      ]
     },
     "execution_count": 43,
     "metadata": {},
     "output_type": "execute_result"
    }
   ],
   "source": [
    "## This function splits Columns into Data types - this makes it easier to select & plot numeric features\n",
    "## against the Target Variable\n",
    "\n",
    "numeric_cols = []\n",
    "object_cols = []\n",
    "time_cols = []\n",
    "for k, v in time_conv_df.dtypes.items():\n",
    "    if (v != object):\n",
    "        if (k != \"Time_Pic_Arr\"):\n",
    "            numeric_cols.append(k)\n",
    "    elif k.endswith(\"Time\"):\n",
    "        time_cols.append(k)\n",
    "    else:\n",
    "        object_cols.append(k)\n",
    "time_conv_df[numeric_cols].head(3) "
   ]
  },
  {
   "cell_type": "code",
   "execution_count": 44,
   "metadata": {},
   "outputs": [
    {
     "data": {
      "text/html": [
       "<div>\n",
       "<style scoped>\n",
       "    .dataframe tbody tr th:only-of-type {\n",
       "        vertical-align: middle;\n",
       "    }\n",
       "\n",
       "    .dataframe tbody tr th {\n",
       "        vertical-align: top;\n",
       "    }\n",
       "\n",
       "    .dataframe thead th {\n",
       "        text-align: right;\n",
       "    }\n",
       "</style>\n",
       "<table border=\"1\" class=\"dataframe\">\n",
       "  <thead>\n",
       "    <tr style=\"text-align: right;\">\n",
       "      <th></th>\n",
       "      <th>Platform_Type</th>\n",
       "      <th>Personal_Business</th>\n",
       "      <th>Pla_Time</th>\n",
       "      <th>Con_Time</th>\n",
       "      <th>Arr_Pic_Time</th>\n",
       "      <th>Pickup_Time</th>\n",
       "      <th>Distance(km)</th>\n",
       "      <th>Temperature</th>\n",
       "      <th>Precipitation(mm)</th>\n",
       "      <th>Pickup_Lat</th>\n",
       "      <th>...</th>\n",
       "      <th>No_of_Ratings</th>\n",
       "      <th>Conf_Pla_dif</th>\n",
       "      <th>Arr_Con_dif</th>\n",
       "      <th>Pic_Arr_dif</th>\n",
       "      <th>Rider_Exp</th>\n",
       "      <th>Temp_Band</th>\n",
       "      <th>distance_manhattan</th>\n",
       "      <th>distance_haversine</th>\n",
       "      <th>Day_of_Month</th>\n",
       "      <th>Day_of_Week</th>\n",
       "    </tr>\n",
       "  </thead>\n",
       "  <tbody>\n",
       "    <tr>\n",
       "      <td>183</td>\n",
       "      <td>3</td>\n",
       "      <td>0</td>\n",
       "      <td>175450.0</td>\n",
       "      <td>175469.0</td>\n",
       "      <td>175984.0</td>\n",
       "      <td>216407.0</td>\n",
       "      <td>8</td>\n",
       "      <td>23.255689</td>\n",
       "      <td>7.573502</td>\n",
       "      <td>-1.333275</td>\n",
       "      <td>...</td>\n",
       "      <td>171</td>\n",
       "      <td>19.0</td>\n",
       "      <td>515.0</td>\n",
       "      <td>40423.0</td>\n",
       "      <td>0</td>\n",
       "      <td>2</td>\n",
       "      <td>0.076451</td>\n",
       "      <td>6.220125</td>\n",
       "      <td>27</td>\n",
       "      <td>3</td>\n",
       "    </tr>\n",
       "    <tr>\n",
       "      <td>826</td>\n",
       "      <td>3</td>\n",
       "      <td>0</td>\n",
       "      <td>521855.0</td>\n",
       "      <td>521957.0</td>\n",
       "      <td>44427.0</td>\n",
       "      <td>44737.0</td>\n",
       "      <td>5</td>\n",
       "      <td>23.255689</td>\n",
       "      <td>7.573502</td>\n",
       "      <td>-1.272639</td>\n",
       "      <td>...</td>\n",
       "      <td>45</td>\n",
       "      <td>102.0</td>\n",
       "      <td>-477530.0</td>\n",
       "      <td>310.0</td>\n",
       "      <td>1</td>\n",
       "      <td>2</td>\n",
       "      <td>0.033551</td>\n",
       "      <td>3.280436</td>\n",
       "      <td>17</td>\n",
       "      <td>5</td>\n",
       "    </tr>\n",
       "    <tr>\n",
       "      <td>650</td>\n",
       "      <td>3</td>\n",
       "      <td>0</td>\n",
       "      <td>40094.0</td>\n",
       "      <td>41105.0</td>\n",
       "      <td>41600.0</td>\n",
       "      <td>43074.0</td>\n",
       "      <td>5</td>\n",
       "      <td>22.800000</td>\n",
       "      <td>7.573502</td>\n",
       "      <td>-1.290894</td>\n",
       "      <td>...</td>\n",
       "      <td>67</td>\n",
       "      <td>1011.0</td>\n",
       "      <td>495.0</td>\n",
       "      <td>1474.0</td>\n",
       "      <td>1</td>\n",
       "      <td>2</td>\n",
       "      <td>0.042714</td>\n",
       "      <td>3.535344</td>\n",
       "      <td>27</td>\n",
       "      <td>4</td>\n",
       "    </tr>\n",
       "    <tr>\n",
       "      <td>561</td>\n",
       "      <td>3</td>\n",
       "      <td>0</td>\n",
       "      <td>46295.0</td>\n",
       "      <td>46407.0</td>\n",
       "      <td>86561.0</td>\n",
       "      <td>87412.0</td>\n",
       "      <td>5</td>\n",
       "      <td>24.500000</td>\n",
       "      <td>7.573502</td>\n",
       "      <td>-1.290503</td>\n",
       "      <td>...</td>\n",
       "      <td>44</td>\n",
       "      <td>112.0</td>\n",
       "      <td>40154.0</td>\n",
       "      <td>851.0</td>\n",
       "      <td>2</td>\n",
       "      <td>2</td>\n",
       "      <td>0.031867</td>\n",
       "      <td>2.550774</td>\n",
       "      <td>17</td>\n",
       "      <td>1</td>\n",
       "    </tr>\n",
       "    <tr>\n",
       "      <td>203</td>\n",
       "      <td>3</td>\n",
       "      <td>0</td>\n",
       "      <td>41428.0</td>\n",
       "      <td>41685.0</td>\n",
       "      <td>42439.0</td>\n",
       "      <td>42964.0</td>\n",
       "      <td>6</td>\n",
       "      <td>24.400000</td>\n",
       "      <td>7.573502</td>\n",
       "      <td>-1.281081</td>\n",
       "      <td>...</td>\n",
       "      <td>1010</td>\n",
       "      <td>257.0</td>\n",
       "      <td>754.0</td>\n",
       "      <td>525.0</td>\n",
       "      <td>2</td>\n",
       "      <td>2</td>\n",
       "      <td>0.036875</td>\n",
       "      <td>2.960588</td>\n",
       "      <td>11</td>\n",
       "      <td>2</td>\n",
       "    </tr>\n",
       "  </tbody>\n",
       "</table>\n",
       "<p>5 rows × 26 columns</p>\n",
       "</div>"
      ],
      "text/plain": [
       "     Platform_Type  Personal_Business  Pla_Time  Con_Time  Arr_Pic_Time  \\\n",
       "183              3                  0  175450.0  175469.0      175984.0   \n",
       "826              3                  0  521855.0  521957.0       44427.0   \n",
       "650              3                  0   40094.0   41105.0       41600.0   \n",
       "561              3                  0   46295.0   46407.0       86561.0   \n",
       "203              3                  0   41428.0   41685.0       42439.0   \n",
       "\n",
       "     Pickup_Time  Distance(km)  Temperature  Precipitation(mm)  Pickup_Lat  \\\n",
       "183     216407.0             8    23.255689           7.573502   -1.333275   \n",
       "826      44737.0             5    23.255689           7.573502   -1.272639   \n",
       "650      43074.0             5    22.800000           7.573502   -1.290894   \n",
       "561      87412.0             5    24.500000           7.573502   -1.290503   \n",
       "203      42964.0             6    24.400000           7.573502   -1.281081   \n",
       "\n",
       "     ...  No_of_Ratings  Conf_Pla_dif  Arr_Con_dif  Pic_Arr_dif  Rider_Exp  \\\n",
       "183  ...            171          19.0        515.0      40423.0          0   \n",
       "826  ...             45         102.0    -477530.0        310.0          1   \n",
       "650  ...             67        1011.0        495.0       1474.0          1   \n",
       "561  ...             44         112.0      40154.0        851.0          2   \n",
       "203  ...           1010         257.0        754.0        525.0          2   \n",
       "\n",
       "     Temp_Band  distance_manhattan  distance_haversine  Day_of_Month  \\\n",
       "183          2            0.076451            6.220125            27   \n",
       "826          2            0.033551            3.280436            17   \n",
       "650          2            0.042714            3.535344            27   \n",
       "561          2            0.031867            2.550774            17   \n",
       "203          2            0.036875            2.960588            11   \n",
       "\n",
       "     Day_of_Week  \n",
       "183            3  \n",
       "826            5  \n",
       "650            4  \n",
       "561            1  \n",
       "203            2  \n",
       "\n",
       "[5 rows x 26 columns]"
      ]
     },
     "execution_count": 44,
     "metadata": {},
     "output_type": "execute_result"
    }
   ],
   "source": [
    "## Feature Selection & Dropping of the Target Variable\n",
    "\n",
    "features = numeric_cols \n",
    "\n",
    "data_df = time_conv_df[features]\n",
    "\n",
    "y = time_conv_df[:train_end]['Time_Pic_Arr']\n",
    "train = data_df[:train_end]\n",
    "test = data_df[train_end:]\n",
    "\n",
    "test.head()"
   ]
  },
  {
   "cell_type": "code",
   "execution_count": 48,
   "metadata": {},
   "outputs": [
    {
     "data": {
      "text/plain": [
       "27      745.0\n",
       "739    1993.0\n",
       "851     455.0\n",
       "806    1341.0\n",
       "159    1214.0\n",
       "        ...  \n",
       "712       9.0\n",
       "851     770.0\n",
       "642    2953.0\n",
       "41     1380.0\n",
       "801    2128.0\n",
       "Name: Time_Pic_Arr, Length: 21201, dtype: float64"
      ]
     },
     "execution_count": 48,
     "metadata": {},
     "output_type": "execute_result"
    }
   ],
   "source": [
    "y"
   ]
  },
  {
   "cell_type": "markdown",
   "metadata": {},
   "source": [
    "### 6. Building & Evaluating Models"
   ]
  },
  {
   "cell_type": "code",
   "execution_count": 45,
   "metadata": {},
   "outputs": [
    {
     "name": "stdout",
     "output_type": "stream",
     "text": [
      "(16960, 26) (4241, 26) (16960,) (4241,)\n"
     ]
    }
   ],
   "source": [
    "## Splitting the Data into Train & Test sets, ratio of 80:20 & inspecting the shape\n",
    "\n",
    "X_train, X_test, y_train, y_test = train_test_split(train, y, test_size=0.2, shuffle=True,random_state = 42)\n",
    "print(X_train.shape, X_test.shape, y_train.shape, y_test.shape)"
   ]
  },
  {
   "cell_type": "markdown",
   "metadata": {},
   "source": [
    "### K-fold Cross Validation\n",
    "\n",
    "##### The general procedure is as follows:\n",
    "\n",
    "Shuffle the dataset randomly.\n",
    "Split the dataset into k groups\n",
    "For each unique group:\n",
    "Take the group as a hold out or test data set\n",
    "Take the remaining groups as a training data set\n",
    "Fit a model on the training set and evaluate it on the test set\n",
    "Retain the evaluation score and discard the model\n",
    "Summarize the skill of the model using the sample of model evaluation scores\n",
    "Importantly, each observation in the data sample is assigned to an individual group and stays in that group for the duration of the procedure. This means that each sample is given the opportunity to be used in the hold out set 1 time and used to train the model k-1 times."
   ]
  },
  {
   "cell_type": "code",
   "execution_count": null,
   "metadata": {},
   "outputs": [],
   "source": [
    "##  k-fold cross-validation procedure for estimating the skill of machine learning models\n",
    "from sklearn.metrics import mean_squared_error,make_scorer\n",
    "rs = 42\n",
    "kfold = KFold(n_splits=10, random_state=rs, shuffle=True)\n",
    "\n",
    "regressors = []\n",
    "regressors.append(SVR(random_state = rs))\n",
    "regressors.append(GradientBoostingRegressor(random_state=rs))\n",
    "regressors.append(ExtraTreesRegressor(n_estimators=rs))\n",
    "regressors.append(RandomForestRegressor(random_state=rs))\n",
    "regressors.append(xgb.XGBRegressor(random_state=rs, objective=\"reg:squarederror\"))\n",
    "regressors.append(lgb.LGBMRegressor(random_state=rs))\n",
    "\n",
    "cv_results = []\n",
    "rmse_scorer = make_scorer(mean_squared_error)\n",
    "for regressor in regressors:     #scores to be minimised are negated (neg)\n",
    "    cv_results.append(np.sqrt(cross_val_score(estimator = regressor,X = X_train, y = y_train, cv = kfold, scoring = rmse_scorer)))\n",
    "\n",
    "cv_means = []\n",
    "cv_stds = []\n",
    "for cv_result in cv_results:\n",
    "    cv_means.append(cv_result.mean())\n",
    "    cv_stds.append(cv_result.std())\n",
    "    \n",
    "cv_res = pd.DataFrame({ \n",
    "    \"Algorithm\": [\"SVR\", \"GBR\", \"EXR\", \"RFR\", \"XGBR\", \"LGBM\"],\n",
    "    \"CrossValMeans\": cv_means, \"CrossValErrors\": cv_stds\n",
    "                       })\n",
    "cv_res = cv_res.sort_values(\"CrossValMeans\", ascending=True)\n",
    "print(cv_res)"
   ]
  },
  {
   "cell_type": "markdown",
   "metadata": {},
   "source": [
    "##### Based on the above LGBM"
   ]
  },
  {
   "cell_type": "code",
   "execution_count": null,
   "metadata": {},
   "outputs": [],
   "source": [
    "params = {\n",
    "    'n_estimators':[75], # [75, 95],\n",
    "    'num_leaves': [15], #[12,15, 17],\n",
    "    'reg_alpha': [0.02], #[0.02, 0.05],\n",
    "    'min_data_in_leaf': [300],  #[250, 280, 300]\n",
    "    'learning_rate': [0.1], #[0.05, 0.1, 0.25],\n",
    "    'objective': ['regression'] #['regression', None]\n",
    "    }\n",
    "\n",
    "lsearch = GridSearchCV(estimator = lgb.LGBMRegressor(random_state=rs), cv=kfold,scoring=rmse_scorer, param_grid=params)\n",
    "lgbm = lsearch.fit(X_train, y_train)\n",
    "\n",
    "l_params = lgbm.best_params_\n",
    "l_score = np.sqrt(abs(lgbm.best_score_))\n",
    "print(lgbm.best_params_, np.sqrt(abs(lgbm.best_score_)))\n"
   ]
  },
  {
   "cell_type": "code",
   "execution_count": null,
   "metadata": {},
   "outputs": [],
   "source": [
    "RFC = RandomForestRegressor(random_state=rs)\n",
    "rf_param = {\"max_depth\":[None], \"max_features\":[3], \"min_samples_split\":[10],\n",
    "           \"min_samples_leaf\": [3], \"n_estimators\":[300]}\n",
    "rsearch = GridSearchCV(RFC, cv=kfold, scoring=rmse_scorer,param_grid=rf_param)\n",
    "rfm = rsearch.fit(X_train, y_train)\n",
    "\n",
    "r_score = np.sqrt(abs(rfm.best_score_))\n",
    "r_params = rfm.best_params_\n",
    "print(r_score, r_params)"
   ]
  },
  {
   "cell_type": "markdown",
   "metadata": {},
   "source": [
    "#### Plotting the Learning curves"
   ]
  },
  {
   "cell_type": "code",
   "execution_count": null,
   "metadata": {},
   "outputs": [],
   "source": [
    "def plot_learning_curve(estimator, title, X, y, ylim=None, n_jobs=-1, cv=None, train_sizes=np.linspace(.1, 1.0, 5)):\n",
    "    \"\"\"Generating a plot of test and training learning curve\"\"\"\n",
    "    plt.figure()\n",
    "    plt.title(title)\n",
    "    \n",
    "    if ylim is not None:\n",
    "        plt.ylim(*ylim)\n",
    "    plt.xlabel(\"Training examples\")\n",
    "    plt.ylabel(\"Score\")\n",
    "    train_sizes, train_scores, test_scores = learning_curve(estimator, X, y, cv=cv, n_jobs=n_jobs, train_sizes=train_sizes, scoring=rmse_scorer, shuffle=True)\n",
    "    \n",
    "    #scores - 5 runs, each with 10 fold\n",
    "    train_scores_mean = np.mean(train_scores, axis=1) #5 means (each size)\n",
    "    train_scores_std = np.std(train_scores, axis=1)\n",
    "    test_scores_mean = np.mean(test_scores, axis=1)\n",
    "    test_scores_std = np.std(test_scores, axis=1)\n",
    "    \n",
    "    plt.grid()\n",
    "    \n",
    "    plt.fill_between(train_sizes, train_scores_mean - train_scores_std, train_scores_mean + train_scores_std, alpha=0.1, color='r' )\n",
    "    plt.fill_between(train_sizes, test_scores_mean - test_scores_std, test_scores_mean + test_scores_std, alpha=0.1, color='g')\n",
    "    \n",
    "    plt.plot(train_sizes, train_scores_mean, 'o-', color='r', label='Training score')\n",
    "    plt.plot(train_sizes, test_scores_mean, 'o-', color='g', label='Cross-validation score')\n",
    "    \n",
    "    plt.legend(loc='best')\n",
    "    return plt\n"
   ]
  },
  {
   "cell_type": "code",
   "execution_count": null,
   "metadata": {
    "scrolled": false
   },
   "outputs": [],
   "source": [
    "#Learning Curves\n",
    "\n",
    "g = plot_learning_curve(lgbm.best_estimator_, \"lgbm learning curves\", X_train, y_train, cv=kfold)\n",
    "g = plot_learning_curve(rfm.best_estimator_, \"random forest_learning_curve\", X_train, y_train, cv=kfold)\n",
    "\n",
    "#lgbm: mse error comment here\n",
    "#rf: mse error comment here"
   ]
  },
  {
   "cell_type": "markdown",
   "metadata": {},
   "source": [
    "##### From the above learning curves we can see that the LGBM curve seems to continue to decrease, at a decreasing rate, as the number of samples increases. The RFC however, seems to have levelled off just above 8000 samples."
   ]
  },
  {
   "cell_type": "markdown",
   "metadata": {},
   "source": [
    "#### We can now plot the Feature Importance of the two models, which will enable us to fine tune them further"
   ]
  },
  {
   "cell_type": "code",
   "execution_count": 15,
   "metadata": {},
   "outputs": [
    {
     "ename": "NameError",
     "evalue": "name 'lgbm' is not defined",
     "output_type": "error",
     "traceback": [
      "\u001b[1;31m---------------------------------------------------------------------------\u001b[0m",
      "\u001b[1;31mNameError\u001b[0m                                 Traceback (most recent call last)",
      "\u001b[1;32m<ipython-input-15-2cc0c3468096>\u001b[0m in \u001b[0;36m<module>\u001b[1;34m\u001b[0m\n\u001b[1;32m----> 1\u001b[1;33m \u001b[0mvals\u001b[0m \u001b[1;33m=\u001b[0m \u001b[0mlgbm\u001b[0m\u001b[1;33m.\u001b[0m\u001b[0mbest_estimator_\u001b[0m\u001b[1;33m.\u001b[0m\u001b[0mfeature_importances_\u001b[0m\u001b[1;33m\u001b[0m\u001b[1;33m\u001b[0m\u001b[0m\n\u001b[0m\u001b[0;32m      2\u001b[0m \u001b[0ml_importance\u001b[0m \u001b[1;33m=\u001b[0m \u001b[0mnp\u001b[0m\u001b[1;33m.\u001b[0m\u001b[0marray\u001b[0m\u001b[1;33m(\u001b[0m\u001b[1;33m[\u001b[0m \u001b[0mval\u001b[0m\u001b[1;33m/\u001b[0m\u001b[0msum\u001b[0m\u001b[1;33m(\u001b[0m\u001b[0mvals\u001b[0m\u001b[1;33m)\u001b[0m \u001b[1;32mfor\u001b[0m \u001b[0mval\u001b[0m \u001b[1;32min\u001b[0m \u001b[0mvals\u001b[0m \u001b[1;33m]\u001b[0m\u001b[1;33m)\u001b[0m\u001b[1;33m\u001b[0m\u001b[1;33m\u001b[0m\u001b[0m\n\u001b[0;32m      3\u001b[0m \u001b[0mr_importance\u001b[0m  \u001b[1;33m=\u001b[0m \u001b[0mrfm\u001b[0m\u001b[1;33m.\u001b[0m\u001b[0mbest_estimator_\u001b[0m\u001b[1;33m.\u001b[0m\u001b[0mfeature_importances_\u001b[0m\u001b[1;33m\u001b[0m\u001b[1;33m\u001b[0m\u001b[0m\n\u001b[0;32m      4\u001b[0m \u001b[0mfeats\u001b[0m \u001b[1;33m=\u001b[0m \u001b[0mnp\u001b[0m\u001b[1;33m.\u001b[0m\u001b[0marray\u001b[0m\u001b[1;33m(\u001b[0m\u001b[0mfeatures\u001b[0m\u001b[1;33m)\u001b[0m\u001b[1;33m\u001b[0m\u001b[1;33m\u001b[0m\u001b[0m\n\u001b[0;32m      5\u001b[0m \u001b[1;33m\u001b[0m\u001b[0m\n",
      "\u001b[1;31mNameError\u001b[0m: name 'lgbm' is not defined"
     ]
    }
   ],
   "source": [
    "vals = lgbm.best_estimator_.feature_importances_\n",
    "l_importance = np.array([ val/sum(vals) for val in vals ])\n",
    "r_importance  = rfm.best_estimator_.feature_importances_\n",
    "feats = np.array(features)\n",
    "\n",
    "fig,axes = plt.subplots(1,2, figsize=(12, 8))\n",
    "plt.subplots_adjust(top=0.6, bottom=0.2, hspace=.6, wspace=0.8)\n",
    "\n",
    "indices = np.argsort(l_importance)[::-1]\n",
    "g = sns.barplot(y=feats[indices], x=l_importance[indices], orient='h', ax=axes[0])\n",
    "g.set_xlabel(\"Relative importances\", fontsize=12)\n",
    "g.set_ylabel(\"Features\", fontsize=12)\n",
    "g.tick_params(labelsize=9)\n",
    "g.set_title(\" LGBM feature importance\")\n",
    "\n",
    "index = np.argsort(r_importance)[::-1]\n",
    "g = sns.barplot(y=feats[index], x=r_importance[index], orient='h', ax=axes[1])\n",
    "g.set_xlabel(\"Relative importances\", fontsize=12)\n",
    "g.set_ylabel(\"Features\", fontsize=12)\n",
    "g.tick_params(labelsize=9)\n",
    "g.set_title(\" Random Forest feature importance\")\n",
    "plt.show()"
   ]
  },
  {
   "cell_type": "code",
   "execution_count": null,
   "metadata": {},
   "outputs": [],
   "source": []
  },
  {
   "cell_type": "markdown",
   "metadata": {},
   "source": [
    "### 7. Training the Model and making a prediction"
   ]
  },
  {
   "cell_type": "code",
   "execution_count": null,
   "metadata": {},
   "outputs": [],
   "source": [
    "lgb_train = lgb.Dataset(X_train, y_train)\n",
    "lgb_eval = lgb.Dataset(X_test, y_test, reference=lgb_train)\n",
    "\n",
    "lparams = {\n",
    "           'learning_rate': 0.1, 'min_data_in_leaf': 300, \n",
    "           'n_estimators': 75, 'num_leaves': 20, 'random_state':rs,\n",
    "           'objective': 'regression', 'reg_alpha': 0.02,\n",
    "          'feature_fraction': 0.9, 'bagging_fraction':0.9}\n",
    "\n",
    "\n",
    "lgbm = lgb.train(lparams, lgb_train, valid_sets=lgb_eval, num_boost_round=20, early_stopping_rounds=20)\n",
    "\n",
    "lpred = lgbm.predict(X_test, num_iteration=lgbm.best_iteration)\n",
    "\n",
    "print(\"The RMSE of prediction is \", mean_squared_error(y_test, lpred)**0.5)\n"
   ]
  },
  {
   "cell_type": "markdown",
   "metadata": {},
   "source": [
    "# Generating insights from data"
   ]
  },
  {
   "cell_type": "code",
   "execution_count": null,
   "metadata": {},
   "outputs": [],
   "source": [
    "plt.hist2d(x = train['Day_of_Month'],y = train['Pla_Time']/3600,bins=(10,20),\\\n",
    "          range=((0,31),(0,24)))\n",
    "plt.xlabel('Day_of_placement')\n",
    "plt.ylabel('Hour_of_placement')\n",
    "plt.xticks(np.arange(0, 31, step=2))\n",
    "plt.yticks(np.arange(0, 24, step=2))\n",
    "plt.colorbar()\n",
    "plt.show"
   ]
  },
  {
   "cell_type": "code",
   "execution_count": null,
   "metadata": {},
   "outputs": [],
   "source": [
    "platform_types = train['Platform_Type'].value_counts()\n",
    "plt.bar(platform_types.index,platform_types)\n",
    "plt.xlim(0, 5)\n",
    "plt.xlabel('Platform_type')\n",
    "plt.ylabel('Number of orders')\n",
    "plt.xticks(np.arange(0, 5, step=1))\n",
    "plt.show()"
   ]
  },
  {
   "cell_type": "code",
   "execution_count": null,
   "metadata": {},
   "outputs": [],
   "source": [
    "sns.distplot(train['Day_of_Month'], kde = False,bins = 4)\n",
    "plt.ylabel('No. of orders')"
   ]
  },
  {
   "cell_type": "raw",
   "metadata": {},
   "source": [
    "Most Orders are placed on the first quarter of the month with most orders happening between hours of 10 AM and 12 PM(last graph and the 2D histogram convey this information), on an hourly basis most orders are recieved on the last 2 days of the month between 10 AM and 12 PM.\n",
    "The majority of customers use Platform_type 3 for their packages."
   ]
  },
  {
   "cell_type": "code",
   "execution_count": null,
   "metadata": {},
   "outputs": [],
   "source": [
    "train['Rider_Exp']\n",
    "train_df['Time from Pickup to Arrival']/train_df['Distance (KM)']\n",
    "plt.scatter(train['Rider_Exp'],train_df['Time from Pickup to Arrival']/train_df['Distance (KM)'])\n",
    "plt.xticks(np.arange(0, 3, step=1))"
   ]
  },
  {
   "cell_type": "markdown",
   "metadata": {},
   "source": [
    "Displays effect of experience on driver delivery time, this shows that the time take by a "
   ]
  },
  {
   "cell_type": "code",
   "execution_count": null,
   "metadata": {},
   "outputs": [],
   "source": [
    "train_df.info()"
   ]
  },
  {
   "cell_type": "markdown",
   "metadata": {},
   "source": [
    "### 8. Generating a Submission File for ZINDI"
   ]
  },
  {
   "cell_type": "code",
   "execution_count": null,
   "metadata": {},
   "outputs": [],
   "source": [
    "lgbm_y = lgbm.predict(test, num_iteration=lgbm.best_iteration)\n",
    "lgbm_output = pd.DataFrame({\"Order No\":test_df['Order No'], \n",
    "                           \"Time from Pickup to Arrival\": lgbm_y })\n",
    "lgbm_output.to_csv(r\"C:\\Users\\TERENCE.VENGATASS\\Desktop\\art\\submission_2.csv\", index=False)"
   ]
  },
  {
   "cell_type": "code",
   "execution_count": null,
   "metadata": {},
   "outputs": [],
   "source": []
  },
  {
   "cell_type": "markdown",
   "metadata": {},
   "source": [
    "### 9. References"
   ]
  },
  {
   "cell_type": "markdown",
   "metadata": {},
   "source": [
    "1. A Gentle Introduction to k-fold Cross-Validation\n",
    "by Jason Brownlee on May 23, 2018 in Statistics : https://machinelearningmastery.com/k-fold-cross-validation/\n"
   ]
  },
  {
   "cell_type": "markdown",
   "metadata": {},
   "source": [
    "2. How to Implement Resampling Methods From Scratch In Python\n",
    "by Jason Brownlee on October 17, 2016 in Code Algorithms From Scratch : https://machinelearningmastery.com/implement-resampling-methods-scratch-python/"
   ]
  },
  {
   "cell_type": "markdown",
   "metadata": {},
   "source": [
    "3. What is the Difference Between Test and Validation Datasets?\n",
    "by Jason Brownlee on July 14, 2017 in Machine Learning Process : https://machinelearningmastery.com/difference-test-validation-datasets/"
   ]
  },
  {
   "cell_type": "markdown",
   "metadata": {},
   "source": [
    "4. ZINDI Discussion Board - Orginal Competition:\n",
    "https://zindi.africa/competitions/sendy-logistics-challenge/discussions"
   ]
  },
  {
   "cell_type": "code",
   "execution_count": null,
   "metadata": {},
   "outputs": [],
   "source": []
  }
 ],
 "metadata": {
  "kernelspec": {
   "display_name": "Python 3",
   "language": "python",
   "name": "python3"
  },
  "language_info": {
   "codemirror_mode": {
    "name": "ipython",
    "version": 3
   },
   "file_extension": ".py",
   "mimetype": "text/x-python",
   "name": "python",
   "nbconvert_exporter": "python",
   "pygments_lexer": "ipython3",
   "version": "3.7.4"
  }
 },
 "nbformat": 4,
 "nbformat_minor": 2
}
