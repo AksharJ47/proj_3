{
 "cells": [
  {
   "cell_type": "markdown",
   "metadata": {},
   "source": [
    "# Import Packages and Libraries"
   ]
  },
  {
   "cell_type": "code",
   "execution_count": 32,
   "metadata": {},
   "outputs": [],
   "source": [
    "import pandas as pd\n",
    "import numpy as np\n",
    "import matplotlib.pyplot as plt\n",
    "import seaborn as sns\n",
    "import math\n",
    "from sklearn.model_selection import train_test_split\n",
    "from sklearn.metrics import accuracy_score\n",
    "from sklearn.feature_selection import VarianceThreshold"
   ]
  },
  {
   "cell_type": "markdown",
   "metadata": {},
   "source": [
    "# Load Data"
   ]
  },
  {
   "cell_type": "code",
   "execution_count": 2,
   "metadata": {},
   "outputs": [],
   "source": [
    "train_df = pd.read_csv('https://raw.githubusercontent.com/AksharJ47/regression-predict-api-template/master/utils/data/Train_Zindi.csv')\n",
    "test_df = pd.read_csv('https://raw.githubusercontent.com/AksharJ47/regression-predict-api-template/master/utils/data/Test_Zindi.csv')\n",
    "riders_df = pd.read_csv('https://raw.githubusercontent.com/AksharJ47/regression-predict-api-template/master/utils/data/Riders_Zindi.csv')"
   ]
  },
  {
   "cell_type": "code",
   "execution_count": 3,
   "metadata": {},
   "outputs": [],
   "source": [
    "# Find datatypes and missing values\n",
    "#Drop data not available in test, Pickup Time + label = Arrival times\n",
    "train_df = train_df.drop(['Arrival at Destination - Day of Month',\n",
    "                          'Arrival at Destination - Weekday (Mo = 1)',\n",
    "                          'Arrival at Destination - Time'], axis=1)\n",
    "test_df['Time from Pickup to Arrival'] = [np.nan]*test_df.shape[0]\n",
    "full_df = pd.concat([train_df, test_df], axis=0, ignore_index=True)\n",
    "\n",
    "merged_df = pd.merge(full_df, riders_df, how='left',\n",
    "                          left_on='Rider Id',\n",
    "                          right_on='Rider Id',\n",
    "                          left_index=True)"
   ]
  },
  {
   "cell_type": "code",
   "execution_count": 4,
   "metadata": {},
   "outputs": [
    {
     "data": {
      "text/html": [
       "<div>\n",
       "<style scoped>\n",
       "    .dataframe tbody tr th:only-of-type {\n",
       "        vertical-align: middle;\n",
       "    }\n",
       "\n",
       "    .dataframe tbody tr th {\n",
       "        vertical-align: top;\n",
       "    }\n",
       "\n",
       "    .dataframe thead th {\n",
       "        text-align: right;\n",
       "    }\n",
       "</style>\n",
       "<table border=\"1\" class=\"dataframe\">\n",
       "  <thead>\n",
       "    <tr style=\"text-align: right;\">\n",
       "      <th></th>\n",
       "      <th>Order No</th>\n",
       "      <th>User Id</th>\n",
       "      <th>Vehicle Type</th>\n",
       "      <th>Platform Type</th>\n",
       "      <th>Personal or Business</th>\n",
       "      <th>Placement - Day of Month</th>\n",
       "      <th>Placement - Weekday (Mo = 1)</th>\n",
       "      <th>Placement - Time</th>\n",
       "      <th>Confirmation - Day of Month</th>\n",
       "      <th>Confirmation - Weekday (Mo = 1)</th>\n",
       "      <th>...</th>\n",
       "      <th>Pickup Lat</th>\n",
       "      <th>Pickup Long</th>\n",
       "      <th>Destination Lat</th>\n",
       "      <th>Destination Long</th>\n",
       "      <th>Rider Id</th>\n",
       "      <th>Time from Pickup to Arrival</th>\n",
       "      <th>No_Of_Orders</th>\n",
       "      <th>Age</th>\n",
       "      <th>Average_Rating</th>\n",
       "      <th>No_of_Ratings</th>\n",
       "    </tr>\n",
       "  </thead>\n",
       "  <tbody>\n",
       "    <tr>\n",
       "      <td>27</td>\n",
       "      <td>Order_No_4211</td>\n",
       "      <td>User_Id_633</td>\n",
       "      <td>Bike</td>\n",
       "      <td>3</td>\n",
       "      <td>Business</td>\n",
       "      <td>9</td>\n",
       "      <td>5</td>\n",
       "      <td>9:35:46 AM</td>\n",
       "      <td>9</td>\n",
       "      <td>5</td>\n",
       "      <td>...</td>\n",
       "      <td>-1.317755</td>\n",
       "      <td>36.830370</td>\n",
       "      <td>-1.300406</td>\n",
       "      <td>36.829741</td>\n",
       "      <td>Rider_Id_432</td>\n",
       "      <td>745.0</td>\n",
       "      <td>1637</td>\n",
       "      <td>1309</td>\n",
       "      <td>13.8</td>\n",
       "      <td>549</td>\n",
       "    </tr>\n",
       "    <tr>\n",
       "      <td>739</td>\n",
       "      <td>Order_No_25375</td>\n",
       "      <td>User_Id_2285</td>\n",
       "      <td>Bike</td>\n",
       "      <td>3</td>\n",
       "      <td>Personal</td>\n",
       "      <td>12</td>\n",
       "      <td>5</td>\n",
       "      <td>11:16:16 AM</td>\n",
       "      <td>12</td>\n",
       "      <td>5</td>\n",
       "      <td>...</td>\n",
       "      <td>-1.351453</td>\n",
       "      <td>36.899315</td>\n",
       "      <td>-1.295004</td>\n",
       "      <td>36.814358</td>\n",
       "      <td>Rider_Id_856</td>\n",
       "      <td>1993.0</td>\n",
       "      <td>396</td>\n",
       "      <td>339</td>\n",
       "      <td>13.6</td>\n",
       "      <td>69</td>\n",
       "    </tr>\n",
       "    <tr>\n",
       "      <td>851</td>\n",
       "      <td>Order_No_1899</td>\n",
       "      <td>User_Id_265</td>\n",
       "      <td>Bike</td>\n",
       "      <td>3</td>\n",
       "      <td>Business</td>\n",
       "      <td>30</td>\n",
       "      <td>2</td>\n",
       "      <td>12:39:25 PM</td>\n",
       "      <td>30</td>\n",
       "      <td>2</td>\n",
       "      <td>...</td>\n",
       "      <td>-1.308284</td>\n",
       "      <td>36.843419</td>\n",
       "      <td>-1.300921</td>\n",
       "      <td>36.828195</td>\n",
       "      <td>Rider_Id_155</td>\n",
       "      <td>455.0</td>\n",
       "      <td>1023</td>\n",
       "      <td>242</td>\n",
       "      <td>12.5</td>\n",
       "      <td>114</td>\n",
       "    </tr>\n",
       "  </tbody>\n",
       "</table>\n",
       "<p>3 rows × 30 columns</p>\n",
       "</div>"
      ],
      "text/plain": [
       "           Order No       User Id Vehicle Type  Platform Type  \\\n",
       "27    Order_No_4211   User_Id_633         Bike              3   \n",
       "739  Order_No_25375  User_Id_2285         Bike              3   \n",
       "851   Order_No_1899   User_Id_265         Bike              3   \n",
       "\n",
       "    Personal or Business  Placement - Day of Month  \\\n",
       "27              Business                         9   \n",
       "739             Personal                        12   \n",
       "851             Business                        30   \n",
       "\n",
       "     Placement - Weekday (Mo = 1) Placement - Time  \\\n",
       "27                              5       9:35:46 AM   \n",
       "739                             5      11:16:16 AM   \n",
       "851                             2      12:39:25 PM   \n",
       "\n",
       "     Confirmation - Day of Month  Confirmation - Weekday (Mo = 1)  ...  \\\n",
       "27                             9                                5  ...   \n",
       "739                           12                                5  ...   \n",
       "851                           30                                2  ...   \n",
       "\n",
       "    Pickup Lat  Pickup Long  Destination Lat Destination Long      Rider Id  \\\n",
       "27   -1.317755    36.830370        -1.300406        36.829741  Rider_Id_432   \n",
       "739  -1.351453    36.899315        -1.295004        36.814358  Rider_Id_856   \n",
       "851  -1.308284    36.843419        -1.300921        36.828195  Rider_Id_155   \n",
       "\n",
       "     Time from Pickup to Arrival No_Of_Orders   Age  Average_Rating  \\\n",
       "27                         745.0         1637  1309            13.8   \n",
       "739                       1993.0          396   339            13.6   \n",
       "851                        455.0         1023   242            12.5   \n",
       "\n",
       "     No_of_Ratings  \n",
       "27             549  \n",
       "739             69  \n",
       "851            114  \n",
       "\n",
       "[3 rows x 30 columns]"
      ]
     },
     "execution_count": 4,
     "metadata": {},
     "output_type": "execute_result"
    }
   ],
   "source": [
    "# view dataset\n",
    "merged_df.head(3)"
   ]
  },
  {
   "cell_type": "code",
   "execution_count": 5,
   "metadata": {},
   "outputs": [
    {
     "name": "stdout",
     "output_type": "stream",
     "text": [
      "<class 'pandas.core.frame.DataFrame'>\n",
      "Int64Index: 28269 entries, 27 to 785\n",
      "Data columns (total 30 columns):\n",
      "Order No                                28269 non-null object\n",
      "User Id                                 28269 non-null object\n",
      "Vehicle Type                            28269 non-null object\n",
      "Platform Type                           28269 non-null int64\n",
      "Personal or Business                    28269 non-null object\n",
      "Placement - Day of Month                28269 non-null int64\n",
      "Placement - Weekday (Mo = 1)            28269 non-null int64\n",
      "Placement - Time                        28269 non-null object\n",
      "Confirmation - Day of Month             28269 non-null int64\n",
      "Confirmation - Weekday (Mo = 1)         28269 non-null int64\n",
      "Confirmation - Time                     28269 non-null object\n",
      "Arrival at Pickup - Day of Month        28269 non-null int64\n",
      "Arrival at Pickup - Weekday (Mo = 1)    28269 non-null int64\n",
      "Arrival at Pickup - Time                28269 non-null object\n",
      "Pickup - Day of Month                   28269 non-null int64\n",
      "Pickup - Weekday (Mo = 1)               28269 non-null int64\n",
      "Pickup - Time                           28269 non-null object\n",
      "Distance (KM)                           28269 non-null int64\n",
      "Temperature                             22466 non-null float64\n",
      "Precipitation in millimeters            751 non-null float64\n",
      "Pickup Lat                              28269 non-null float64\n",
      "Pickup Long                             28269 non-null float64\n",
      "Destination Lat                         28269 non-null float64\n",
      "Destination Long                        28269 non-null float64\n",
      "Rider Id                                28269 non-null object\n",
      "Time from Pickup to Arrival             21201 non-null float64\n",
      "No_Of_Orders                            28269 non-null int64\n",
      "Age                                     28269 non-null int64\n",
      "Average_Rating                          28269 non-null float64\n",
      "No_of_Ratings                           28269 non-null int64\n",
      "dtypes: float64(8), int64(13), object(9)\n",
      "memory usage: 6.7+ MB\n"
     ]
    }
   ],
   "source": [
    "# Find datatypes and missing values\n",
    "merged_df.info()"
   ]
  },
  {
   "cell_type": "markdown",
   "metadata": {},
   "source": [
    "# Data Cleaning and Formating"
   ]
  },
  {
   "cell_type": "code",
   "execution_count": 6,
   "metadata": {},
   "outputs": [
    {
     "data": {
      "text/plain": [
       "Index(['Order_No', 'User_Id', 'Vehicle_Type', 'Platform_Type',\n",
       "       'Personal_Business', 'Pla_Mon', 'Pla_Weekday', 'Pla_Time',\n",
       "       'Con_Day_Mon', 'Con_Weekday', 'Con_Time', 'Arr_Pic_Mon',\n",
       "       'Arr_Pic_Weekday', 'Arr_Pic_Time', 'Pickup_Mon', 'Pickup_Weekday',\n",
       "       'Pickup_Time', 'Distance(km)', 'Temperature', 'Precipitation(mm)',\n",
       "       'Pickup_Lat', 'Pickup_Lon', 'Destination_Lat', 'Destination_Lon',\n",
       "       'Rider_Id', 'Time_Pic_Arr', 'No_Of_Orders', 'Age', 'Average_Rating',\n",
       "       'No_of_Ratings'],\n",
       "      dtype='object')"
      ]
     },
     "execution_count": 6,
     "metadata": {},
     "output_type": "execute_result"
    }
   ],
   "source": [
    "feature_names = {\"Order No\": \"Order_No\",\n",
    "                 \"User Id\": \"User_Id\",\n",
    "                 \"Vehicle Type\": \"Vehicle_Type\",\n",
    "                 \"Personal or Business\": \"Personal_Business\",\n",
    "                 \"Placement - Day of Month\": \"Pla_Mon\",\n",
    "                 \"Placement - Weekday (Mo = 1)\": \"Pla_Weekday\",\n",
    "                 \"Placement - Time\": \"Pla_Time\",\n",
    "                 \"Confirmation - Day of Month\": \"Con_Day_Mon\",\n",
    "                 \"Confirmation - Weekday (Mo = 1)\": \"Con_Weekday\",\n",
    "                 \"Confirmation - Time\": \"Con_Time\",\n",
    "                 \"Arrival at Pickup - Day of Month\": \"Arr_Pic_Mon\",\n",
    "                 \"Arrival at Pickup - Weekday (Mo = 1)\": \"Arr_Pic_Weekday\",\n",
    "                 \"Arrival at Pickup - Time\": \"Arr_Pic_Time\",\n",
    "                 \"Platform Type\": \"Platform_Type\",\n",
    "                 \"Pickup - Day of Month\": \"Pickup_Mon\",\n",
    "                 \"Pickup - Weekday (Mo = 1)\": \"Pickup_Weekday\",\n",
    "                 \"Pickup - Time\": \"Pickup_Time\",\n",
    "                 \"Distance (KM)\": \"Distance(km)\",\n",
    "                 \"Precipitation in millimeters\": \"Precipitation(mm)\",\n",
    "                 \"Pickup Lat\": \"Pickup_Lat\",\n",
    "                 \"Pickup Long\": \"Pickup_Lon\",\n",
    "                 \"Destination Lat\": \"Destination_Lat\",\n",
    "                 \"Destination Long\": \"Destination_Lon\",\n",
    "                 \"Rider Id\": \"Rider_Id\",\n",
    "                 \"Time from Pickup to Arrival\": \"Time_Pic_Arr\"}\n",
    "renamed_df = merged_df.rename(columns=feature_names)\n",
    "renamed_df.columns"
   ]
  },
  {
   "cell_type": "code",
   "execution_count": 8,
   "metadata": {},
   "outputs": [],
   "source": [
    "# Assume 0mm of rain where precipitation is missing\n",
    "# Impute missing temperature with average\n",
    "def Impute(input_df):\n",
    "    '''Function fills missing values on the Temperature and\n",
    "       Precipitation columns, all missing temperatures are\n",
    "       imputed with the average temperature while all\n",
    "       Precipitation columns are filled with 0mm of rain\n",
    "    '''\n",
    "    df = input_df.copy()\n",
    "    cols_to_impute = ['Temperature',\n",
    "                      'Precipitation(mm)']\n",
    "    for col in cols_to_impute:\n",
    "        if col == 'Temperature':\n",
    "            a = round(df[col].mean(),1)\n",
    "        if col == 'Precipitation(mm)':\n",
    "            a = round(df[col].mean(),1)\n",
    "        df[col] = df[col].fillna(a) \n",
    "    return (df)"
   ]
  },
  {
   "cell_type": "code",
   "execution_count": 9,
   "metadata": {},
   "outputs": [],
   "source": [
    "imputed_df = Impute(renamed_df)"
   ]
  },
  {
   "cell_type": "code",
   "execution_count": 10,
   "metadata": {},
   "outputs": [],
   "source": [
    "def time_change(input_df):\n",
    "    '''Converts time format %H:%M:%S to seconds past midnight(00:00) of\n",
    "       the same day rounded to the nearest second.\n",
    "       ------------------------------\n",
    "       12:00:00 PM --> 43200\n",
    "       01:30:00 AM --> 5400\n",
    "       02:35:30 PM --> 9330\n",
    "     '''\n",
    "    df = input_df.copy()\n",
    "    from pandas.api.types import is_numeric_dtype\n",
    "    def time_fn(row):\n",
    "        b = row.split(' ')\n",
    "        if b[1] == 'AM':\n",
    "            c = 0\n",
    "        else:\n",
    "            c = 12\n",
    "        b = b[0].split(':')\n",
    "        b = [int(i) for i in b]\n",
    "        if b[0] == 12:\n",
    "            c -= 12\n",
    "        # convertion to hours\n",
    "        b[0] = (b[0] + c)*3600\n",
    "        b[1] = (b[1])*60.0\n",
    "        b[2] = (b[2])\n",
    "        row = int(sum(b))\n",
    "        return(row)\n",
    "    time_columns = [\n",
    "                'Pla_Time',\\\n",
    "                'Con_Time',\\\n",
    "                'Arr_Pic_Time',\\\n",
    "                'Pickup_Time',\\\n",
    "               ]\n",
    "    for col in df.columns:\n",
    "        if col in time_columns:\n",
    "            if is_numeric_dtype(df[col]) is False:\n",
    "                df[col] = df[col].apply(lambda x: time_fn(x))\n",
    "            else:\n",
    "                pass\n",
    "    return(df)"
   ]
  },
  {
   "cell_type": "code",
   "execution_count": 11,
   "metadata": {},
   "outputs": [],
   "source": [
    "time_changed_df = time_change(imputed_df) "
   ]
  },
  {
   "cell_type": "code",
   "execution_count": 12,
   "metadata": {},
   "outputs": [
    {
     "data": {
      "text/html": [
       "<div>\n",
       "<style scoped>\n",
       "    .dataframe tbody tr th:only-of-type {\n",
       "        vertical-align: middle;\n",
       "    }\n",
       "\n",
       "    .dataframe tbody tr th {\n",
       "        vertical-align: top;\n",
       "    }\n",
       "\n",
       "    .dataframe thead th {\n",
       "        text-align: right;\n",
       "    }\n",
       "</style>\n",
       "<table border=\"1\" class=\"dataframe\">\n",
       "  <thead>\n",
       "    <tr style=\"text-align: right;\">\n",
       "      <th></th>\n",
       "      <th>Order_No</th>\n",
       "      <th>User_Id</th>\n",
       "      <th>Vehicle_Type</th>\n",
       "      <th>Platform_Type</th>\n",
       "      <th>Personal_Business</th>\n",
       "      <th>Pla_Mon</th>\n",
       "      <th>Pla_Weekday</th>\n",
       "      <th>Pla_Time</th>\n",
       "      <th>Con_Day_Mon</th>\n",
       "      <th>Con_Weekday</th>\n",
       "      <th>...</th>\n",
       "      <th>Pickup_Lat</th>\n",
       "      <th>Pickup_Lon</th>\n",
       "      <th>Destination_Lat</th>\n",
       "      <th>Destination_Lon</th>\n",
       "      <th>Rider_Id</th>\n",
       "      <th>Time_Pic_Arr</th>\n",
       "      <th>No_Of_Orders</th>\n",
       "      <th>Age</th>\n",
       "      <th>Average_Rating</th>\n",
       "      <th>No_of_Ratings</th>\n",
       "    </tr>\n",
       "  </thead>\n",
       "  <tbody>\n",
       "    <tr>\n",
       "      <td>27</td>\n",
       "      <td>Order_No_4211</td>\n",
       "      <td>User_Id_633</td>\n",
       "      <td>Bike</td>\n",
       "      <td>3</td>\n",
       "      <td>Business</td>\n",
       "      <td>9</td>\n",
       "      <td>5</td>\n",
       "      <td>34546</td>\n",
       "      <td>9</td>\n",
       "      <td>5</td>\n",
       "      <td>...</td>\n",
       "      <td>-1.317755</td>\n",
       "      <td>36.830370</td>\n",
       "      <td>-1.300406</td>\n",
       "      <td>36.829741</td>\n",
       "      <td>Rider_Id_432</td>\n",
       "      <td>745.0</td>\n",
       "      <td>1637</td>\n",
       "      <td>1309</td>\n",
       "      <td>13.8</td>\n",
       "      <td>549</td>\n",
       "    </tr>\n",
       "    <tr>\n",
       "      <td>739</td>\n",
       "      <td>Order_No_25375</td>\n",
       "      <td>User_Id_2285</td>\n",
       "      <td>Bike</td>\n",
       "      <td>3</td>\n",
       "      <td>Personal</td>\n",
       "      <td>12</td>\n",
       "      <td>5</td>\n",
       "      <td>40576</td>\n",
       "      <td>12</td>\n",
       "      <td>5</td>\n",
       "      <td>...</td>\n",
       "      <td>-1.351453</td>\n",
       "      <td>36.899315</td>\n",
       "      <td>-1.295004</td>\n",
       "      <td>36.814358</td>\n",
       "      <td>Rider_Id_856</td>\n",
       "      <td>1993.0</td>\n",
       "      <td>396</td>\n",
       "      <td>339</td>\n",
       "      <td>13.6</td>\n",
       "      <td>69</td>\n",
       "    </tr>\n",
       "    <tr>\n",
       "      <td>851</td>\n",
       "      <td>Order_No_1899</td>\n",
       "      <td>User_Id_265</td>\n",
       "      <td>Bike</td>\n",
       "      <td>3</td>\n",
       "      <td>Business</td>\n",
       "      <td>30</td>\n",
       "      <td>2</td>\n",
       "      <td>45565</td>\n",
       "      <td>30</td>\n",
       "      <td>2</td>\n",
       "      <td>...</td>\n",
       "      <td>-1.308284</td>\n",
       "      <td>36.843419</td>\n",
       "      <td>-1.300921</td>\n",
       "      <td>36.828195</td>\n",
       "      <td>Rider_Id_155</td>\n",
       "      <td>455.0</td>\n",
       "      <td>1023</td>\n",
       "      <td>242</td>\n",
       "      <td>12.5</td>\n",
       "      <td>114</td>\n",
       "    </tr>\n",
       "  </tbody>\n",
       "</table>\n",
       "<p>3 rows × 30 columns</p>\n",
       "</div>"
      ],
      "text/plain": [
       "           Order_No       User_Id Vehicle_Type  Platform_Type  \\\n",
       "27    Order_No_4211   User_Id_633         Bike              3   \n",
       "739  Order_No_25375  User_Id_2285         Bike              3   \n",
       "851   Order_No_1899   User_Id_265         Bike              3   \n",
       "\n",
       "    Personal_Business  Pla_Mon  Pla_Weekday  Pla_Time  Con_Day_Mon  \\\n",
       "27           Business        9            5     34546            9   \n",
       "739          Personal       12            5     40576           12   \n",
       "851          Business       30            2     45565           30   \n",
       "\n",
       "     Con_Weekday  ...  Pickup_Lat  Pickup_Lon  Destination_Lat  \\\n",
       "27             5  ...   -1.317755   36.830370        -1.300406   \n",
       "739            5  ...   -1.351453   36.899315        -1.295004   \n",
       "851            2  ...   -1.308284   36.843419        -1.300921   \n",
       "\n",
       "     Destination_Lon      Rider_Id  Time_Pic_Arr  No_Of_Orders   Age  \\\n",
       "27         36.829741  Rider_Id_432         745.0          1637  1309   \n",
       "739        36.814358  Rider_Id_856        1993.0           396   339   \n",
       "851        36.828195  Rider_Id_155         455.0          1023   242   \n",
       "\n",
       "     Average_Rating  No_of_Ratings  \n",
       "27             13.8            549  \n",
       "739            13.6             69  \n",
       "851            12.5            114  \n",
       "\n",
       "[3 rows x 30 columns]"
      ]
     },
     "execution_count": 12,
     "metadata": {},
     "output_type": "execute_result"
    }
   ],
   "source": [
    "time_changed_df.head(3)"
   ]
  },
  {
   "cell_type": "markdown",
   "metadata": {},
   "source": [
    "# Model Feature Engineering"
   ]
  },
  {
   "cell_type": "markdown",
   "metadata": {},
   "source": [
    "**New Columns added to dataset**\n",
    "1. Rider Experience (Low,Medium,High):\n",
    "   Age < 25th percentile --> Low Experience\n",
    "   25th percentile < Age < 75th percentile --> medium experience\n",
    "   Age > 75th percentile --> High experience\n",
    "2. Temp_Band (Low,Medium,High)\n",
    "   Temp. < 25th percentile --> Low T\n",
    "   25th percentile < T < 75th percentile --> medium T\n",
    "   T > 75th percentile --> High T\n",
    "3. Conf_Pla_dif\n",
    "   The time duration between placement and confirmation in seconds\n",
    "4. Arr_Con_dif\n",
    "   Time difference between arrival and confirmation time in seconds\n",
    "5. Pic_Arr_dif\n",
    "   Time difference between pickup and package arrival in seconds\n",
    "6. Manhattand and harvesine distance between the pickup and\n",
    "   destination points"
   ]
  },
  {
   "cell_type": "code",
   "execution_count": 13,
   "metadata": {},
   "outputs": [],
   "source": [
    "# Add ride experience column\n",
    "time_changed_df['Rider_Exp'] = pd.qcut(time_changed_df['Age'],\n",
    "                                       q=[0, .25, .75, 1],\n",
    "                                       labels=['low', 'medium', 'high'])"
   ]
  },
  {
   "cell_type": "code",
   "execution_count": 14,
   "metadata": {},
   "outputs": [],
   "source": [
    "# Create Temperature band Column - 3 categories - low, mid, high\n",
    "time_changed_df['Temp_Band'] = pd.qcut(time_changed_df['Temperature'],\n",
    "                                       q=[0, .25, .75, 1],\n",
    "                                       labels=['low', 'medium', 'high'])"
   ]
  },
  {
   "cell_type": "code",
   "execution_count": 15,
   "metadata": {},
   "outputs": [],
   "source": [
    "def time_diffs(input_df):\n",
    "    df = input_df.copy()\n",
    "    df['Conf_Pla_dif'] = df['Con_Time'] - df['Pla_Time']\n",
    "    df['Arr_Con_dif'] = df['Arr_Pic_Time'] - df['Con_Time']\n",
    "    df['Pic_Arr_dif'] = df['Pickup_Time'] - df['Arr_Pic_Time']\n",
    "\n",
    "    return df\n",
    "time_changed_df = time_diffs(time_changed_df)"
   ]
  },
  {
   "cell_type": "code",
   "execution_count": 16,
   "metadata": {},
   "outputs": [],
   "source": [
    "# Create manhattan dist\n",
    "def manhattan(input_df):\n",
    "    '''Calculates the manhattan distance between two location given\n",
    "       the longitude and latitude of the locations\n",
    "    '''\n",
    "    df = input_df.copy()\n",
    "    a = np.abs(df['Pickup_Lat'] - df['Destination_Lat'])\n",
    "    b = np.abs(df['Pickup_Lon'] - df['Destination_Lon'])\n",
    "    df['manhattan_dist'] = a + b\n",
    "    return (df)"
   ]
  },
  {
   "cell_type": "code",
   "execution_count": 17,
   "metadata": {},
   "outputs": [],
   "source": [
    "manhattan_df = manhattan(time_changed_df)"
   ]
  },
  {
   "cell_type": "code",
   "execution_count": null,
   "metadata": {},
   "outputs": [],
   "source": [
    "# days where placement date != delivery date\n",
    "days_to_drop = manhattan_df[(manhattan_df['Pla_Mon']\n",
    "                             != manhattan_df['Con_Day_Mon'])]"
   ]
  },
  {
   "cell_type": "code",
   "execution_count": 18,
   "metadata": {},
   "outputs": [],
   "source": [
    "def haversine_array(lat1, lng1, lat2, lng2):\n",
    "    lat1, lng1, lat2, lng2 = map(np.radians, (lat1, lng1, lat2, lng2))\n",
    "    AVG_EARTH_RADIUS = 6371  # in km\n",
    "    lat = lat2 - lat1\n",
    "    lng = lng2 - lng1\n",
    "    d = np.sin(lat * 0.5) ** 2 + np.cos(lat1) * np.cos(lat2) * np.sin(lng * 0.5) ** 2\n",
    "    h = 2 * AVG_EARTH_RADIUS * np.arcsin(np.sqrt(d))\n",
    "    return h\n",
    "def add_haversine(input_df):\n",
    "    input_df_1 = input_df.copy()\n",
    "    input_df_1['distance_haversine'] = haversine_array(input_df_1['Pickup_Lat'].values,\n",
    "                                                       input_df_1['Pickup_Lon'].values,\n",
    "                                                       input_df_1['Destination_Lat'].values,\n",
    "                                                       input_df_1['Destination_Lon'].values)\n",
    "    return input_df_1"
   ]
  },
  {
   "cell_type": "code",
   "execution_count": 19,
   "metadata": {},
   "outputs": [
    {
     "data": {
      "text/plain": [
       "27      1.930333\n",
       "739    11.339849\n",
       "851     1.880079\n",
       "806     4.943458\n",
       "159     3.724829\n",
       "         ...    \n",
       "611     3.631752\n",
       "119    16.407578\n",
       "134     5.398648\n",
       "205    15.688753\n",
       "785     7.294294\n",
       "Name: distance_haversine, Length: 28269, dtype: float64"
      ]
     },
     "execution_count": 19,
     "metadata": {},
     "output_type": "execute_result"
    }
   ],
   "source": [
    "harvestine_df = add_haversine(manhattan_df)\n",
    "harvestine_df['distance_haversine']"
   ]
  },
  {
   "cell_type": "code",
   "execution_count": 20,
   "metadata": {},
   "outputs": [],
   "source": [
    "# Encode Rider Exp,Temp_Band and Personal/Business\n",
    "def encode(input_df):\n",
    "    df = input_df.copy()\n",
    "    to_encode = ['Rider_Exp',\n",
    "                 'Personal_Business',\n",
    "                 'Temp_Band']\n",
    "    df = pd.get_dummies(harvestine_df,columns = to_encode,drop_first = True)\n",
    "    return(df)\n",
    "data_encoded_df = encode(harvestine_df)"
   ]
  },
  {
   "cell_type": "code",
   "execution_count": 30,
   "metadata": {},
   "outputs": [],
   "source": [
    "from pandas.api.types import is_numeric_dtype\n",
    "all_numeric_cols = [i for i in data_encoded_df.columns if\n",
    "                    is_numeric_dtype(data_encoded_df[i])]\n",
    "new_data = data_encoded_df.copy()[all_numeric_cols]\n",
    "training_features = new_data.drop(\"Time_Pic_Arr\",axis = 1)[:len(train_df)]\n"
   ]
  },
  {
   "cell_type": "markdown",
   "metadata": {},
   "source": [
    "**Remove constant features and quasiconstant features** (https://stackabuse.com/applying-filter-methods-in-python-for-feature-selection/)"
   ]
  },
  {
   "cell_type": "code",
   "execution_count": 39,
   "metadata": {},
   "outputs": [
    {
     "name": "stdout",
     "output_type": "stream",
     "text": [
      "total_columns: \n",
      "34\n",
      "columns with constant values:\n",
      "0\n"
     ]
    }
   ],
   "source": [
    "data_1 = training_features.copy()\n",
    "constant_filter = VarianceThreshold(threshold=0)\n",
    "constant_filter.fit(data_1)\n",
    "constant_columns = [i for i in data_1.columns if i not in\n",
    "                    data_1.columns[constant_filter.get_support()]]\n",
    "\n",
    "print('total_columns: ')\n",
    "print(str(len(data_1.columns)))\n",
    "print('columns with constant values:')\n",
    "print (len(constant_columns))"
   ]
  },
  {
   "cell_type": "code",
   "execution_count": 38,
   "metadata": {},
   "outputs": [],
   "source": [
    "# remove constant columns\n",
    "data_2 = data_1.drop(constant_columns,axis=1)"
   ]
  },
  {
   "cell_type": "markdown",
   "metadata": {},
   "source": [
    "**Remove quasi-constant columns**"
   ]
  },
  {
   "cell_type": "code",
   "execution_count": 42,
   "metadata": {},
   "outputs": [
    {
     "name": "stdout",
     "output_type": "stream",
     "text": [
      "total_columns: \n",
      "34\n",
      "columns with quasi-constant values:\n",
      "5\n"
     ]
    }
   ],
   "source": [
    "# Set variance threshold at 99%.\n",
    "qconstant_filter = VarianceThreshold(threshold=0.01)\n",
    "qconstant_filter.fit(data_2)\n",
    "qconstant_columns = [i for i in data_2.columns if i\n",
    "                     not in data_2.columns[qconstant_filter.get_support()]]\n",
    "\n",
    "print('total_columns: ')\n",
    "print(str(len(data_2.columns)))\n",
    "print('columns with quasi-constant values:')\n",
    "print (len(qconstant_columns))"
   ]
  },
  {
   "cell_type": "code",
   "execution_count": 43,
   "metadata": {},
   "outputs": [],
   "source": [
    "quasi_data = data_2.drop(data_2[qconstant_columns],axis = 1)"
   ]
  },
  {
   "cell_type": "markdown",
   "metadata": {},
   "source": [
    "**Remove similar/Duplicate columns**"
   ]
  },
  {
   "cell_type": "code",
   "execution_count": 45,
   "metadata": {},
   "outputs": [],
   "source": [
    "dupli_df = quasi_data.copy()\n",
    "dupli_df_T = dupli_df.T"
   ]
  },
  {
   "cell_type": "code",
   "execution_count": 48,
   "metadata": {},
   "outputs": [
    {
     "name": "stdout",
     "output_type": "stream",
     "text": [
      "Number of duplicated(similar) columns: \n",
      "4\n"
     ]
    }
   ],
   "source": [
    "print('Number of duplicated(similar) columns: ')\n",
    "print(dupli_df_T.duplicated().sum())"
   ]
  },
  {
   "cell_type": "code",
   "execution_count": 49,
   "metadata": {},
   "outputs": [],
   "source": [
    "non_duplicated = dupli_df_T.drop_duplicates(keep='first').T\n",
    "duplicated_features = [dup_col for dup_col in dupli_df.columns\n",
    "                       if dup_col not in non_duplicated.columns]"
   ]
  },
  {
   "cell_type": "markdown",
   "metadata": {},
   "source": [
    "**Remove values with a correlation greater than 0.8**"
   ]
  },
  {
   "cell_type": "code",
   "execution_count": 54,
   "metadata": {},
   "outputs": [],
   "source": [
    "corr = non_duplicated.copy()\n",
    "correlated_features = set()\n",
    "correlation_matrix = corr.corr()\n",
    "for i in range(len(correlation_matrix .columns)):\n",
    "    for j in range(i):\n",
    "        if abs(correlation_matrix.iloc[i, j]) > 0.8:\n",
    "            colname = correlation_matrix.columns[i]\n",
    "            correlated_features.add(colname)"
   ]
  },
  {
   "cell_type": "code",
   "execution_count": 56,
   "metadata": {},
   "outputs": [],
   "source": [
    "correlated_features = list(correlated_features)\n",
    "correlated_features\n",
    "no_corr = corr.drop(corr[correlated_features],axis=1)"
   ]
  },
  {
   "cell_type": "code",
   "execution_count": 61,
   "metadata": {},
   "outputs": [],
   "source": [
    "# Reduced dataset\n",
    "no_corr\n",
    "\n",
    "model_columns = [col for col in no_corr.columns] + [\"Time_Pic_Arr\"]"
   ]
  },
  {
   "cell_type": "code",
   "execution_count": 67,
   "metadata": {},
   "outputs": [],
   "source": [
    "model_columns\n",
    "data = data_encoded_df[model_columns]\n",
    "X = data.drop(['Time_Pic_Arr'],axis = 1)[:len(train_df)]\n",
    "y = data_encoded_df[:len(train_df)]['Time_Pic_Arr']\n",
    "test = data.drop(['Time_Pic_Arr'],axis=1)[len(train_df):]"
   ]
  },
  {
   "cell_type": "code",
   "execution_count": 68,
   "metadata": {},
   "outputs": [
    {
     "data": {
      "text/html": [
       "<div>\n",
       "<style scoped>\n",
       "    .dataframe tbody tr th:only-of-type {\n",
       "        vertical-align: middle;\n",
       "    }\n",
       "\n",
       "    .dataframe tbody tr th {\n",
       "        vertical-align: top;\n",
       "    }\n",
       "\n",
       "    .dataframe thead th {\n",
       "        text-align: right;\n",
       "    }\n",
       "</style>\n",
       "<table border=\"1\" class=\"dataframe\">\n",
       "  <thead>\n",
       "    <tr style=\"text-align: right;\">\n",
       "      <th></th>\n",
       "      <th>Platform_Type</th>\n",
       "      <th>Pla_Mon</th>\n",
       "      <th>Pla_Weekday</th>\n",
       "      <th>Pla_Time</th>\n",
       "      <th>Distance(km)</th>\n",
       "      <th>Temperature</th>\n",
       "      <th>Precipitation(mm)</th>\n",
       "      <th>No_Of_Orders</th>\n",
       "      <th>Age</th>\n",
       "      <th>Average_Rating</th>\n",
       "      <th>Conf_Pla_dif</th>\n",
       "      <th>Arr_Con_dif</th>\n",
       "      <th>Pic_Arr_dif</th>\n",
       "      <th>Rider_Exp_medium</th>\n",
       "      <th>Personal_Business_Personal</th>\n",
       "      <th>Temp_Band_medium</th>\n",
       "      <th>Temp_Band_high</th>\n",
       "    </tr>\n",
       "  </thead>\n",
       "  <tbody>\n",
       "    <tr>\n",
       "      <td>183</td>\n",
       "      <td>3</td>\n",
       "      <td>27</td>\n",
       "      <td>3</td>\n",
       "      <td>60250</td>\n",
       "      <td>8</td>\n",
       "      <td>23.3</td>\n",
       "      <td>7.6</td>\n",
       "      <td>439</td>\n",
       "      <td>1511</td>\n",
       "      <td>13.3</td>\n",
       "      <td>19</td>\n",
       "      <td>515</td>\n",
       "      <td>823</td>\n",
       "      <td>0</td>\n",
       "      <td>0</td>\n",
       "      <td>1</td>\n",
       "      <td>0</td>\n",
       "    </tr>\n",
       "    <tr>\n",
       "      <td>826</td>\n",
       "      <td>3</td>\n",
       "      <td>17</td>\n",
       "      <td>5</td>\n",
       "      <td>46655</td>\n",
       "      <td>5</td>\n",
       "      <td>23.3</td>\n",
       "      <td>7.6</td>\n",
       "      <td>488</td>\n",
       "      <td>273</td>\n",
       "      <td>14.4</td>\n",
       "      <td>102</td>\n",
       "      <td>1270</td>\n",
       "      <td>310</td>\n",
       "      <td>0</td>\n",
       "      <td>0</td>\n",
       "      <td>1</td>\n",
       "      <td>0</td>\n",
       "    </tr>\n",
       "    <tr>\n",
       "      <td>650</td>\n",
       "      <td>3</td>\n",
       "      <td>27</td>\n",
       "      <td>4</td>\n",
       "      <td>40094</td>\n",
       "      <td>5</td>\n",
       "      <td>22.8</td>\n",
       "      <td>7.6</td>\n",
       "      <td>833</td>\n",
       "      <td>460</td>\n",
       "      <td>13.1</td>\n",
       "      <td>1011</td>\n",
       "      <td>495</td>\n",
       "      <td>1474</td>\n",
       "      <td>0</td>\n",
       "      <td>0</td>\n",
       "      <td>1</td>\n",
       "      <td>0</td>\n",
       "    </tr>\n",
       "    <tr>\n",
       "      <td>561</td>\n",
       "      <td>3</td>\n",
       "      <td>17</td>\n",
       "      <td>1</td>\n",
       "      <td>49895</td>\n",
       "      <td>5</td>\n",
       "      <td>24.5</td>\n",
       "      <td>7.6</td>\n",
       "      <td>487</td>\n",
       "      <td>560</td>\n",
       "      <td>13.7</td>\n",
       "      <td>112</td>\n",
       "      <td>554</td>\n",
       "      <td>851</td>\n",
       "      <td>1</td>\n",
       "      <td>0</td>\n",
       "      <td>1</td>\n",
       "      <td>0</td>\n",
       "    </tr>\n",
       "    <tr>\n",
       "      <td>203</td>\n",
       "      <td>3</td>\n",
       "      <td>11</td>\n",
       "      <td>2</td>\n",
       "      <td>41428</td>\n",
       "      <td>6</td>\n",
       "      <td>24.4</td>\n",
       "      <td>7.6</td>\n",
       "      <td>4761</td>\n",
       "      <td>1120</td>\n",
       "      <td>14.1</td>\n",
       "      <td>257</td>\n",
       "      <td>754</td>\n",
       "      <td>525</td>\n",
       "      <td>1</td>\n",
       "      <td>0</td>\n",
       "      <td>1</td>\n",
       "      <td>0</td>\n",
       "    </tr>\n",
       "    <tr>\n",
       "      <td>...</td>\n",
       "      <td>...</td>\n",
       "      <td>...</td>\n",
       "      <td>...</td>\n",
       "      <td>...</td>\n",
       "      <td>...</td>\n",
       "      <td>...</td>\n",
       "      <td>...</td>\n",
       "      <td>...</td>\n",
       "      <td>...</td>\n",
       "      <td>...</td>\n",
       "      <td>...</td>\n",
       "      <td>...</td>\n",
       "      <td>...</td>\n",
       "      <td>...</td>\n",
       "      <td>...</td>\n",
       "      <td>...</td>\n",
       "      <td>...</td>\n",
       "    </tr>\n",
       "    <tr>\n",
       "      <td>611</td>\n",
       "      <td>3</td>\n",
       "      <td>7</td>\n",
       "      <td>1</td>\n",
       "      <td>38149</td>\n",
       "      <td>5</td>\n",
       "      <td>24.8</td>\n",
       "      <td>7.6</td>\n",
       "      <td>1018</td>\n",
       "      <td>504</td>\n",
       "      <td>13.1</td>\n",
       "      <td>75</td>\n",
       "      <td>189</td>\n",
       "      <td>485</td>\n",
       "      <td>1</td>\n",
       "      <td>0</td>\n",
       "      <td>1</td>\n",
       "      <td>0</td>\n",
       "    </tr>\n",
       "    <tr>\n",
       "      <td>119</td>\n",
       "      <td>3</td>\n",
       "      <td>10</td>\n",
       "      <td>3</td>\n",
       "      <td>53982</td>\n",
       "      <td>22</td>\n",
       "      <td>30.7</td>\n",
       "      <td>7.6</td>\n",
       "      <td>6728</td>\n",
       "      <td>2702</td>\n",
       "      <td>13.9</td>\n",
       "      <td>75</td>\n",
       "      <td>1060</td>\n",
       "      <td>187</td>\n",
       "      <td>0</td>\n",
       "      <td>0</td>\n",
       "      <td>0</td>\n",
       "      <td>1</td>\n",
       "    </tr>\n",
       "    <tr>\n",
       "      <td>134</td>\n",
       "      <td>3</td>\n",
       "      <td>5</td>\n",
       "      <td>3</td>\n",
       "      <td>53112</td>\n",
       "      <td>10</td>\n",
       "      <td>25.1</td>\n",
       "      <td>7.6</td>\n",
       "      <td>1601</td>\n",
       "      <td>1337</td>\n",
       "      <td>13.7</td>\n",
       "      <td>24</td>\n",
       "      <td>879</td>\n",
       "      <td>457</td>\n",
       "      <td>0</td>\n",
       "      <td>0</td>\n",
       "      <td>1</td>\n",
       "      <td>0</td>\n",
       "    </tr>\n",
       "    <tr>\n",
       "      <td>205</td>\n",
       "      <td>3</td>\n",
       "      <td>29</td>\n",
       "      <td>2</td>\n",
       "      <td>55106</td>\n",
       "      <td>18</td>\n",
       "      <td>23.6</td>\n",
       "      <td>7.6</td>\n",
       "      <td>225</td>\n",
       "      <td>878</td>\n",
       "      <td>14.1</td>\n",
       "      <td>79</td>\n",
       "      <td>1262</td>\n",
       "      <td>348</td>\n",
       "      <td>1</td>\n",
       "      <td>1</td>\n",
       "      <td>1</td>\n",
       "      <td>0</td>\n",
       "    </tr>\n",
       "    <tr>\n",
       "      <td>785</td>\n",
       "      <td>3</td>\n",
       "      <td>4</td>\n",
       "      <td>2</td>\n",
       "      <td>56229</td>\n",
       "      <td>8</td>\n",
       "      <td>22.3</td>\n",
       "      <td>7.6</td>\n",
       "      <td>847</td>\n",
       "      <td>297</td>\n",
       "      <td>14.0</td>\n",
       "      <td>391</td>\n",
       "      <td>865</td>\n",
       "      <td>398</td>\n",
       "      <td>0</td>\n",
       "      <td>0</td>\n",
       "      <td>1</td>\n",
       "      <td>0</td>\n",
       "    </tr>\n",
       "  </tbody>\n",
       "</table>\n",
       "<p>7068 rows × 17 columns</p>\n",
       "</div>"
      ],
      "text/plain": [
       "     Platform_Type  Pla_Mon  Pla_Weekday  Pla_Time  Distance(km)  Temperature  \\\n",
       "183              3       27            3     60250             8         23.3   \n",
       "826              3       17            5     46655             5         23.3   \n",
       "650              3       27            4     40094             5         22.8   \n",
       "561              3       17            1     49895             5         24.5   \n",
       "203              3       11            2     41428             6         24.4   \n",
       "..             ...      ...          ...       ...           ...          ...   \n",
       "611              3        7            1     38149             5         24.8   \n",
       "119              3       10            3     53982            22         30.7   \n",
       "134              3        5            3     53112            10         25.1   \n",
       "205              3       29            2     55106            18         23.6   \n",
       "785              3        4            2     56229             8         22.3   \n",
       "\n",
       "     Precipitation(mm)  No_Of_Orders   Age  Average_Rating  Conf_Pla_dif  \\\n",
       "183                7.6           439  1511            13.3            19   \n",
       "826                7.6           488   273            14.4           102   \n",
       "650                7.6           833   460            13.1          1011   \n",
       "561                7.6           487   560            13.7           112   \n",
       "203                7.6          4761  1120            14.1           257   \n",
       "..                 ...           ...   ...             ...           ...   \n",
       "611                7.6          1018   504            13.1            75   \n",
       "119                7.6          6728  2702            13.9            75   \n",
       "134                7.6          1601  1337            13.7            24   \n",
       "205                7.6           225   878            14.1            79   \n",
       "785                7.6           847   297            14.0           391   \n",
       "\n",
       "     Arr_Con_dif  Pic_Arr_dif  Rider_Exp_medium  Personal_Business_Personal  \\\n",
       "183          515          823                 0                           0   \n",
       "826         1270          310                 0                           0   \n",
       "650          495         1474                 0                           0   \n",
       "561          554          851                 1                           0   \n",
       "203          754          525                 1                           0   \n",
       "..           ...          ...               ...                         ...   \n",
       "611          189          485                 1                           0   \n",
       "119         1060          187                 0                           0   \n",
       "134          879          457                 0                           0   \n",
       "205         1262          348                 1                           1   \n",
       "785          865          398                 0                           0   \n",
       "\n",
       "     Temp_Band_medium  Temp_Band_high  \n",
       "183                 1               0  \n",
       "826                 1               0  \n",
       "650                 1               0  \n",
       "561                 1               0  \n",
       "203                 1               0  \n",
       "..                ...             ...  \n",
       "611                 1               0  \n",
       "119                 0               1  \n",
       "134                 1               0  \n",
       "205                 1               0  \n",
       "785                 1               0  \n",
       "\n",
       "[7068 rows x 17 columns]"
      ]
     },
     "execution_count": 68,
     "metadata": {},
     "output_type": "execute_result"
    }
   ],
   "source": [
    "test"
   ]
  },
  {
   "cell_type": "markdown",
   "metadata": {},
   "source": [
    "# Model Building and Evaluation "
   ]
  },
  {
   "cell_type": "code",
   "execution_count": 69,
   "metadata": {},
   "outputs": [],
   "source": [
    "# Split data into training and validation sets\n",
    "X_train, X_test, y_train, y_test = train_test_split(X, y,\n",
    "                                                    test_size=0.2,\n",
    "                                                    shuffle=True,\n",
    "                                                    random_state = 42)"
   ]
  },
  {
   "cell_type": "markdown",
   "metadata": {},
   "source": [
    "## Model Selection\n",
    "The data was first validated using 6 Regression models to analyse which model potentially fits the data best, kfold cross validation was used with the data split into 10 different test and validation sets."
   ]
  },
  {
   "cell_type": "markdown",
   "metadata": {},
   "source": [
    "**Import and load models** "
   ]
  },
  {
   "cell_type": "code",
   "execution_count": 70,
   "metadata": {},
   "outputs": [],
   "source": [
    "from sklearn.svm import SVR\n",
    "from sklearn.ensemble import ExtraTreesRegressor,RandomForestRegressor,GradientBoostingRegressor\n",
    "from sklearn.linear_model import LinearRegression\n",
    "import xgboost as xgb\n",
    "import lightgbm as lgb"
   ]
  },
  {
   "cell_type": "code",
   "execution_count": 71,
   "metadata": {},
   "outputs": [
    {
     "name": "stderr",
     "output_type": "stream",
     "text": [
      "C:\\Users\\Besodea\\Anaconda3\\lib\\site-packages\\sklearn\\svm\\base.py:193: FutureWarning: The default value of gamma will change from 'auto' to 'scale' in version 0.22 to account better for unscaled features. Set gamma explicitly to 'auto' or 'scale' to avoid this warning.\n",
      "  \"avoid this warning.\", FutureWarning)\n",
      "C:\\Users\\Besodea\\Anaconda3\\lib\\site-packages\\sklearn\\svm\\base.py:193: FutureWarning: The default value of gamma will change from 'auto' to 'scale' in version 0.22 to account better for unscaled features. Set gamma explicitly to 'auto' or 'scale' to avoid this warning.\n",
      "  \"avoid this warning.\", FutureWarning)\n",
      "C:\\Users\\Besodea\\Anaconda3\\lib\\site-packages\\sklearn\\svm\\base.py:193: FutureWarning: The default value of gamma will change from 'auto' to 'scale' in version 0.22 to account better for unscaled features. Set gamma explicitly to 'auto' or 'scale' to avoid this warning.\n",
      "  \"avoid this warning.\", FutureWarning)\n",
      "C:\\Users\\Besodea\\Anaconda3\\lib\\site-packages\\sklearn\\svm\\base.py:193: FutureWarning: The default value of gamma will change from 'auto' to 'scale' in version 0.22 to account better for unscaled features. Set gamma explicitly to 'auto' or 'scale' to avoid this warning.\n",
      "  \"avoid this warning.\", FutureWarning)\n",
      "C:\\Users\\Besodea\\Anaconda3\\lib\\site-packages\\sklearn\\svm\\base.py:193: FutureWarning: The default value of gamma will change from 'auto' to 'scale' in version 0.22 to account better for unscaled features. Set gamma explicitly to 'auto' or 'scale' to avoid this warning.\n",
      "  \"avoid this warning.\", FutureWarning)\n",
      "C:\\Users\\Besodea\\Anaconda3\\lib\\site-packages\\sklearn\\svm\\base.py:193: FutureWarning: The default value of gamma will change from 'auto' to 'scale' in version 0.22 to account better for unscaled features. Set gamma explicitly to 'auto' or 'scale' to avoid this warning.\n",
      "  \"avoid this warning.\", FutureWarning)\n",
      "C:\\Users\\Besodea\\Anaconda3\\lib\\site-packages\\sklearn\\svm\\base.py:193: FutureWarning: The default value of gamma will change from 'auto' to 'scale' in version 0.22 to account better for unscaled features. Set gamma explicitly to 'auto' or 'scale' to avoid this warning.\n",
      "  \"avoid this warning.\", FutureWarning)\n",
      "C:\\Users\\Besodea\\Anaconda3\\lib\\site-packages\\sklearn\\svm\\base.py:193: FutureWarning: The default value of gamma will change from 'auto' to 'scale' in version 0.22 to account better for unscaled features. Set gamma explicitly to 'auto' or 'scale' to avoid this warning.\n",
      "  \"avoid this warning.\", FutureWarning)\n",
      "C:\\Users\\Besodea\\Anaconda3\\lib\\site-packages\\sklearn\\svm\\base.py:193: FutureWarning: The default value of gamma will change from 'auto' to 'scale' in version 0.22 to account better for unscaled features. Set gamma explicitly to 'auto' or 'scale' to avoid this warning.\n",
      "  \"avoid this warning.\", FutureWarning)\n",
      "C:\\Users\\Besodea\\Anaconda3\\lib\\site-packages\\sklearn\\svm\\base.py:193: FutureWarning: The default value of gamma will change from 'auto' to 'scale' in version 0.22 to account better for unscaled features. Set gamma explicitly to 'auto' or 'scale' to avoid this warning.\n",
      "  \"avoid this warning.\", FutureWarning)\n",
      "C:\\Users\\Besodea\\Anaconda3\\lib\\site-packages\\sklearn\\ensemble\\forest.py:245: FutureWarning: The default value of n_estimators will change from 10 in version 0.20 to 100 in 0.22.\n",
      "  \"10 in version 0.20 to 100 in 0.22.\", FutureWarning)\n",
      "C:\\Users\\Besodea\\Anaconda3\\lib\\site-packages\\sklearn\\ensemble\\forest.py:245: FutureWarning: The default value of n_estimators will change from 10 in version 0.20 to 100 in 0.22.\n",
      "  \"10 in version 0.20 to 100 in 0.22.\", FutureWarning)\n",
      "C:\\Users\\Besodea\\Anaconda3\\lib\\site-packages\\sklearn\\ensemble\\forest.py:245: FutureWarning: The default value of n_estimators will change from 10 in version 0.20 to 100 in 0.22.\n",
      "  \"10 in version 0.20 to 100 in 0.22.\", FutureWarning)\n",
      "C:\\Users\\Besodea\\Anaconda3\\lib\\site-packages\\sklearn\\ensemble\\forest.py:245: FutureWarning: The default value of n_estimators will change from 10 in version 0.20 to 100 in 0.22.\n",
      "  \"10 in version 0.20 to 100 in 0.22.\", FutureWarning)\n",
      "C:\\Users\\Besodea\\Anaconda3\\lib\\site-packages\\sklearn\\ensemble\\forest.py:245: FutureWarning: The default value of n_estimators will change from 10 in version 0.20 to 100 in 0.22.\n",
      "  \"10 in version 0.20 to 100 in 0.22.\", FutureWarning)\n",
      "C:\\Users\\Besodea\\Anaconda3\\lib\\site-packages\\sklearn\\ensemble\\forest.py:245: FutureWarning: The default value of n_estimators will change from 10 in version 0.20 to 100 in 0.22.\n",
      "  \"10 in version 0.20 to 100 in 0.22.\", FutureWarning)\n",
      "C:\\Users\\Besodea\\Anaconda3\\lib\\site-packages\\sklearn\\ensemble\\forest.py:245: FutureWarning: The default value of n_estimators will change from 10 in version 0.20 to 100 in 0.22.\n",
      "  \"10 in version 0.20 to 100 in 0.22.\", FutureWarning)\n",
      "C:\\Users\\Besodea\\Anaconda3\\lib\\site-packages\\sklearn\\ensemble\\forest.py:245: FutureWarning: The default value of n_estimators will change from 10 in version 0.20 to 100 in 0.22.\n",
      "  \"10 in version 0.20 to 100 in 0.22.\", FutureWarning)\n",
      "C:\\Users\\Besodea\\Anaconda3\\lib\\site-packages\\sklearn\\ensemble\\forest.py:245: FutureWarning: The default value of n_estimators will change from 10 in version 0.20 to 100 in 0.22.\n",
      "  \"10 in version 0.20 to 100 in 0.22.\", FutureWarning)\n",
      "C:\\Users\\Besodea\\Anaconda3\\lib\\site-packages\\sklearn\\ensemble\\forest.py:245: FutureWarning: The default value of n_estimators will change from 10 in version 0.20 to 100 in 0.22.\n",
      "  \"10 in version 0.20 to 100 in 0.22.\", FutureWarning)\n"
     ]
    },
    {
     "name": "stdout",
     "output_type": "stream",
     "text": [
      "  Algorithm  CrossValMeans  CrossValErrors\n",
      "5      LGBM     755.381988       35.476391\n",
      "1       GBR     759.647047       35.425073\n",
      "4      XGBR     779.355873       37.949892\n",
      "2       EXR     792.704824       31.219455\n",
      "3       RFR     817.373394       31.171373\n",
      "0       SVR    1004.831483       31.714105\n"
     ]
    }
   ],
   "source": [
    "from sklearn.metrics import mean_squared_error,make_scorer\n",
    "from sklearn.model_selection import KFold, GridSearchCV \n",
    "from sklearn.model_selection import cross_val_score, learning_curve\n",
    "rs = 42\n",
    "kfold = KFold(n_splits=10, random_state=rs, shuffle=True)\n",
    "\n",
    "regressors = []\n",
    "regressors.append(SVR())\n",
    "regressors.append(GradientBoostingRegressor(random_state=rs))\n",
    "regressors.append(ExtraTreesRegressor(n_estimators=rs))\n",
    "regressors.append(RandomForestRegressor(random_state=rs))\n",
    "regressors.append(xgb.XGBRegressor(random_state=rs, objective=\"reg:squarederror\"))\n",
    "regressors.append(lgb.LGBMRegressor(random_state=rs))\n",
    "\n",
    "cv_results = []\n",
    "rmse_scorer = make_scorer(mean_squared_error)\n",
    "for regressor in regressors:     #scores to be minimised are negated (neg)\n",
    "    cv_results.append(np.sqrt(cross_val_score(estimator = regressor,\n",
    "                                              X = X_train,\n",
    "                                              y = y_train,\n",
    "                                              cv = kfold,\n",
    "                                              scoring = rmse_scorer)))\n",
    "\n",
    "cv_means = []\n",
    "cv_stds = []\n",
    "for cv_result in cv_results:\n",
    "    cv_means.append(cv_result.mean())\n",
    "    cv_stds.append(cv_result.std())\n",
    "    \n",
    "cv_res = pd.DataFrame({ \n",
    "    \"Algorithm\": [\"SVR\", \"GBR\", \"EXR\", \"RFR\", \"XGBR\", \"LGBM\"],\n",
    "    \"CrossValMeans\": cv_means, \"CrossValErrors\": cv_stds\n",
    "                       })\n",
    "cv_res = cv_res.sort_values(\"CrossValMeans\", ascending=True)\n",
    "print(cv_res)"
   ]
  },
  {
   "cell_type": "markdown",
   "metadata": {},
   "source": [
    "## Hyperparemeter tuning\n",
    "From the above validation it can be seen that the following models produces the lowest errors:\n",
    "1. LGBM\n",
    "2. GBR\n",
    "3. XGBR"
   ]
  },
  {
   "cell_type": "code",
   "execution_count": 72,
   "metadata": {},
   "outputs": [
    {
     "name": "stdout",
     "output_type": "stream",
     "text": [
      "{'learning_rate': 0.1, 'min_data_in_leaf': 300, 'n_estimators': 75, 'num_leaves': 15, 'objective': 'regression', 'reg_alpha': 0.02} 759.6324888786204\n"
     ]
    }
   ],
   "source": [
    "params = {\n",
    "    'n_estimators':[75], # [75, 95],\n",
    "    'num_leaves': [15], #[12,15, 17],\n",
    "    'reg_alpha': [0.02], #[0.02, 0.05],\n",
    "    'min_data_in_leaf': [300],  #[250, 280, 300]\n",
    "    'learning_rate': [0.1], #[0.05, 0.1, 0.25],\n",
    "    'objective': ['regression'] #['regression', None]\n",
    "    }\n",
    "\n",
    "lsearch = GridSearchCV(estimator = lgb.LGBMRegressor(random_state=rs), cv=kfold,scoring=rmse_scorer, param_grid=params)\n",
    "lgbm = lsearch.fit(X_train, y_train)\n",
    "\n",
    "l_params = lgbm.best_params_\n",
    "l_score = np.sqrt(abs(lgbm.best_score_))\n",
    "print(lgbm.best_params_, np.sqrt(abs(lgbm.best_score_)))\n"
   ]
  },
  {
   "cell_type": "code",
   "execution_count": 73,
   "metadata": {},
   "outputs": [
    {
     "name": "stdout",
     "output_type": "stream",
     "text": [
      "767.7519094872429 {'max_depth': None, 'max_features': 3, 'min_samples_leaf': 3, 'min_samples_split': 10, 'n_estimators': 300}\n"
     ]
    }
   ],
   "source": [
    "RFC = RandomForestRegressor(random_state=rs)\n",
    "rf_param = {\"max_depth\":[None], \"max_features\":[3], \"min_samples_split\":[10],\n",
    "           \"min_samples_leaf\": [3], \"n_estimators\":[300]}\n",
    "rsearch = GridSearchCV(RFC, cv=kfold, scoring=rmse_scorer,param_grid=rf_param)\n",
    "rfm = rsearch.fit(X_train, y_train)\n",
    "\n",
    "r_score = np.sqrt(abs(rfm.best_score_))\n",
    "r_params = rfm.best_params_\n",
    "print(r_score, r_params)"
   ]
  },
  {
   "cell_type": "code",
   "execution_count": 74,
   "metadata": {},
   "outputs": [],
   "source": [
    "def plot_learning_curve(estimator, title, X, y, ylim=None, n_jobs=-1, cv=None, train_sizes=np.linspace(.1, 1.0, 5)):\n",
    "    \"\"\"Generating a plot of test and training learning curve\"\"\"\n",
    "    plt.figure()\n",
    "    plt.title(title)\n",
    "    \n",
    "    if ylim is not None:\n",
    "        plt.ylim(*ylim)\n",
    "    plt.xlabel(\"Training examples\")\n",
    "    plt.ylabel(\"RMSE\")\n",
    "    train_sizes, train_scores, test_scores = learning_curve(estimator, X, y, cv=cv, n_jobs=n_jobs, train_sizes=train_sizes, scoring=rmse_scorer, shuffle=True)\n",
    "    \n",
    "    #scores - 5 runs, each with 10 fold\n",
    "    train_scores_mean = np.mean(np.sqrt(train_scores), axis=1) #5 means (each size)\n",
    "    train_scores_std = np.std(np.sqrt(train_scores), axis=1)\n",
    "    test_scores_mean = np.mean(np.sqrt(test_scores), axis=1)\n",
    "    test_scores_std = np.std(np.sqrt(test_scores), axis=1)\n",
    "    \n",
    "    plt.grid()\n",
    "    \n",
    "    plt.fill_between(train_sizes, train_scores_mean - train_scores_std, train_scores_mean + train_scores_std, alpha=0.1, color='r' )\n",
    "    plt.fill_between(train_sizes, test_scores_mean - test_scores_std, test_scores_mean + test_scores_std, alpha=0.1, color='g')\n",
    "    \n",
    "    plt.plot(train_sizes, train_scores_mean, 'o-', color='r', label='Training score')\n",
    "    plt.plot(train_sizes, test_scores_mean, 'o-', color='g', label='Cross-validation score')\n",
    "    \n",
    "    plt.legend(loc='best')\n",
    "    return plt"
   ]
  },
  {
   "cell_type": "code",
   "execution_count": 75,
   "metadata": {},
   "outputs": [
    {
     "data": {
      "image/png": "[encoded data removed]",
      "text/plain": [
       "<Figure size 432x288 with 1 Axes>"
      ]
     },
     "metadata": {
      "needs_background": "light"
     },
     "output_type": "display_data"
    },
    {
     "data": {
      "image/png": "[encoded data removed]",
      "text/plain": [
       "<Figure size 432x288 with 1 Axes>"
      ]
     },
     "metadata": {
      "needs_background": "light"
     },
     "output_type": "display_data"
    }
   ],
   "source": [
    "#Learning Curves\n",
    "g = plot_learning_curve(lgbm.best_estimator_, \"LGBM Learning Curves\", X_train, y_train, cv=kfold)\n",
    "g = plot_learning_curve(rfm.best_estimator_, \"RFR Learning Curves\", X_train, y_train, cv=kfold)\n",
    "#lgbm: mse error comment here\n",
    "#rf: mse error comment here"
   ]
  },
  {
   "cell_type": "code",
   "execution_count": 76,
   "metadata": {},
   "outputs": [
    {
     "data": {
      "image/png": "[encoded data removed]",
      "text/plain": [
       "<Figure size 864x576 with 2 Axes>"
      ]
     },
     "metadata": {
      "needs_background": "light"
     },
     "output_type": "display_data"
    }
   ],
   "source": [
    "vals = lgbm.best_estimator_.feature_importances_\n",
    "l_importance = np.array([ val/sum(vals) for val in vals ])\n",
    "r_importance  = rfm.best_estimator_.feature_importances_\n",
    "feats = X_train.columns\n",
    "\n",
    "fig,axes = plt.subplots(1,2, figsize=(12, 8))\n",
    "plt.subplots_adjust(top=0.6, bottom=0.2, hspace=.6, wspace=0.8)\n",
    "\n",
    "indices = np.argsort(l_importance)[::-1]\n",
    "g = sns.barplot(y=feats[indices], x=l_importance[indices], orient='h', ax=axes[0])\n",
    "g.set_xlabel(\"Relative importances\", fontsize=12)\n",
    "g.set_ylabel(\"Features\", fontsize=12)\n",
    "g.tick_params(labelsize=9)\n",
    "g.set_title(\" LGBM feature importance\")\n",
    "\n",
    "index = np.argsort(r_importance)[::-1]\n",
    "g = sns.barplot(y=feats[index], x=r_importance[index], orient='h', ax=axes[1])\n",
    "g.set_xlabel(\"Relative importances\", fontsize=12)\n",
    "g.set_ylabel(\"Features\", fontsize=12)\n",
    "g.tick_params(labelsize=9)\n",
    "g.set_title(\" Random Forest feature importance\")\n",
    "plt.show()"
   ]
  },
  {
   "cell_type": "markdown",
   "metadata": {},
   "source": [
    "## Model Building"
   ]
  },
  {
   "cell_type": "code",
   "execution_count": 77,
   "metadata": {},
   "outputs": [
    {
     "name": "stderr",
     "output_type": "stream",
     "text": [
      "C:\\Users\\Besodea\\Anaconda3\\lib\\site-packages\\lightgbm\\engine.py:148: UserWarning: Found `n_estimators` in params. Will use it instead of argument\n",
      "  warnings.warn(\"Found `{}` in params. Will use it instead of argument\".format(alias))\n"
     ]
    },
    {
     "name": "stdout",
     "output_type": "stream",
     "text": [
      "[1]\tvalid_0's l2: 904698\n",
      "Training until validation scores don't improve for 20 rounds\n",
      "[2]\tvalid_0's l2: 850528\n",
      "[3]\tvalid_0's l2: 806848\n",
      "[4]\tvalid_0's l2: 771269\n",
      "[5]\tvalid_0's l2: 741915\n",
      "[6]\tvalid_0's l2: 717777\n",
      "[7]\tvalid_0's l2: 697773\n",
      "[8]\tvalid_0's l2: 681340\n",
      "[9]\tvalid_0's l2: 667536\n",
      "[10]\tvalid_0's l2: 656077\n",
      "[11]\tvalid_0's l2: 646276\n",
      "[12]\tvalid_0's l2: 637998\n",
      "[13]\tvalid_0's l2: 631351\n",
      "[14]\tvalid_0's l2: 626177\n",
      "[15]\tvalid_0's l2: 621409\n",
      "[16]\tvalid_0's l2: 617462\n",
      "[17]\tvalid_0's l2: 614171\n",
      "[18]\tvalid_0's l2: 611148\n",
      "[19]\tvalid_0's l2: 608711\n",
      "[20]\tvalid_0's l2: 606408\n",
      "[21]\tvalid_0's l2: 604691\n",
      "[22]\tvalid_0's l2: 602929\n",
      "[23]\tvalid_0's l2: 601705\n",
      "[24]\tvalid_0's l2: 600063\n",
      "[25]\tvalid_0's l2: 599139\n",
      "[26]\tvalid_0's l2: 597913\n",
      "[27]\tvalid_0's l2: 596678\n",
      "[28]\tvalid_0's l2: 595707\n",
      "[29]\tvalid_0's l2: 595352\n",
      "[30]\tvalid_0's l2: 594001\n",
      "[31]\tvalid_0's l2: 592907\n",
      "[32]\tvalid_0's l2: 592308\n",
      "[33]\tvalid_0's l2: 591310\n",
      "[34]\tvalid_0's l2: 590167\n",
      "[35]\tvalid_0's l2: 589612\n",
      "[36]\tvalid_0's l2: 589575\n",
      "[37]\tvalid_0's l2: 588891\n",
      "[38]\tvalid_0's l2: 588023\n",
      "[39]\tvalid_0's l2: 587502\n",
      "[40]\tvalid_0's l2: 587300\n",
      "[41]\tvalid_0's l2: 586981\n",
      "[42]\tvalid_0's l2: 586837\n",
      "[43]\tvalid_0's l2: 586366\n",
      "[44]\tvalid_0's l2: 586130\n",
      "[45]\tvalid_0's l2: 585897\n",
      "[46]\tvalid_0's l2: 585771\n",
      "[47]\tvalid_0's l2: 585253\n",
      "[48]\tvalid_0's l2: 585131\n",
      "[49]\tvalid_0's l2: 584358\n",
      "[50]\tvalid_0's l2: 584222\n",
      "[51]\tvalid_0's l2: 584060\n",
      "[52]\tvalid_0's l2: 583484\n",
      "[53]\tvalid_0's l2: 583027\n",
      "[54]\tvalid_0's l2: 582606\n",
      "[55]\tvalid_0's l2: 582587\n",
      "[56]\tvalid_0's l2: 582490\n",
      "[57]\tvalid_0's l2: 581842\n",
      "[58]\tvalid_0's l2: 581852\n",
      "[59]\tvalid_0's l2: 581942\n",
      "[60]\tvalid_0's l2: 581379\n",
      "[61]\tvalid_0's l2: 581195\n",
      "[62]\tvalid_0's l2: 580979\n",
      "[63]\tvalid_0's l2: 580661\n",
      "[64]\tvalid_0's l2: 580503\n",
      "[65]\tvalid_0's l2: 580320\n",
      "[66]\tvalid_0's l2: 580206\n",
      "[67]\tvalid_0's l2: 580307\n",
      "[68]\tvalid_0's l2: 580215\n",
      "[69]\tvalid_0's l2: 580197\n",
      "[70]\tvalid_0's l2: 580028\n",
      "[71]\tvalid_0's l2: 579858\n",
      "[72]\tvalid_0's l2: 579753\n",
      "[73]\tvalid_0's l2: 579645\n",
      "[74]\tvalid_0's l2: 579702\n",
      "[75]\tvalid_0's l2: 579992\n",
      "Did not meet early stopping. Best iteration is:\n",
      "[73]\tvalid_0's l2: 579645\n",
      "The RMSE of prediction is  761.3444312852362\n"
     ]
    }
   ],
   "source": [
    "lgb_train = lgb.Dataset(X_train, y_train)\n",
    "lgb_eval = lgb.Dataset(X_test, y_test, reference=lgb_train)\n",
    "\n",
    "lparams = {\n",
    "           'learning_rate': 0.1, 'min_data_in_leaf': 300, \n",
    "           'n_estimators': 75, 'num_leaves': 20, 'random_state':rs,\n",
    "           'objective': 'regression', 'reg_alpha': 0.02,\n",
    "          'feature_fraction': 0.9, 'bagging_fraction':0.9}\n",
    "\n",
    "\n",
    "lgbm = lgb.train(lparams, lgb_train, valid_sets=lgb_eval, num_boost_round=20, early_stopping_rounds=20)\n",
    "\n",
    "lpred = lgbm.predict(X_test, num_iteration=lgbm.best_iteration)\n",
    "\n",
    "print(\"The RMSE of prediction is \", mean_squared_error(y_test, lpred)**0.5)\n"
   ]
  },
  {
   "cell_type": "markdown",
   "metadata": {},
   "source": [
    "# Data Insights"
   ]
  },
  {
   "cell_type": "code",
   "execution_count": 78,
   "metadata": {},
   "outputs": [
    {
     "data": {
      "text/plain": [
       "<function matplotlib.pyplot.show(*args, **kw)>"
      ]
     },
     "execution_count": 78,
     "metadata": {},
     "output_type": "execute_result"
    },
    {
     "data": {
      "image/png": "[encoded data removed]",
      "text/plain": [
       "<Figure size 432x288 with 2 Axes>"
      ]
     },
     "metadata": {
      "needs_background": "light"
     },
     "output_type": "display_data"
    }
   ],
   "source": [
    "plt.hist2d(x = time_changed_df['Pla_Mon'],y = time_changed_df['Pla_Time']/3600,\n",
    "           bins=(10,20),\n",
    "           range=((0,31),(0,24)))\n",
    "plt.xlabel('Day_of_placement')\n",
    "plt.ylabel('Hour_of_placement')\n",
    "plt.title('service hours distribution')\n",
    "plt.xticks(np.arange(0, 31, step=2))\n",
    "plt.yticks(np.arange(0, 24, step=2))\n",
    "plt.colorbar()\n",
    "plt.show"
   ]
  },
  {
   "cell_type": "code",
   "execution_count": 79,
   "metadata": {},
   "outputs": [
    {
     "data": {
      "image/png": "[encoded data removed]",
      "text/plain": [
       "<Figure size 432x288 with 1 Axes>"
      ]
     },
     "metadata": {
      "needs_background": "light"
     },
     "output_type": "display_data"
    }
   ],
   "source": [
    "platform_types = time_changed_df['Platform_Type'].value_counts()\n",
    "plt.bar(platform_types.index,platform_types)\n",
    "plt.xlim(0, 5)\n",
    "plt.title('Platform Type Frequency')\n",
    "plt.xlabel('Platform_type')\n",
    "plt.ylabel('Number of orders')\n",
    "plt.xticks(np.arange(0, 5, step=1))\n",
    "plt.show()"
   ]
  },
  {
   "cell_type": "code",
   "execution_count": 80,
   "metadata": {},
   "outputs": [
    {
     "data": {
      "text/plain": [
       "Text(0, 0.5, 'No. of orders')"
      ]
     },
     "execution_count": 80,
     "metadata": {},
     "output_type": "execute_result"
    },
    {
     "data": {
      "image/png": "[encoded data removed]",
      "text/plain": [
       "<Figure size 432x288 with 1 Axes>"
      ]
     },
     "metadata": {
      "needs_background": "light"
     },
     "output_type": "display_data"
    }
   ],
   "source": [
    "sns.distplot(time_changed_df[\"Pla_Mon\"], kde = False,bins = 4)\n",
    "plt.ylabel('No. of orders')"
   ]
  },
  {
   "cell_type": "markdown",
   "metadata": {},
   "source": [
    "Most Orders are placed on the first quarter of the month with most orders happening between hours of 10 AM and 12 PM(last graph and the 2D histogram convey this information), on an hourly basis most orders are recieved on the last 2 days of the month between 10 AM and 12 PM.\n",
    "The majority of customers use Platform_type 3 for their packages."
   ]
  },
  {
   "cell_type": "code",
   "execution_count": 81,
   "metadata": {},
   "outputs": [
    {
     "data": {
      "text/plain": [
       "([<matplotlib.axis.XTick at 0x14fa9984c88>,\n",
       "  <matplotlib.axis.XTick at 0x14fac0a1448>,\n",
       "  <matplotlib.axis.XTick at 0x14fac0c1408>],\n",
       " <a list of 3 Text xticklabel objects>)"
      ]
     },
     "execution_count": 81,
     "metadata": {},
     "output_type": "execute_result"
    },
    {
     "data": {
      "image/png": "[encoded data removed]",
      "text/plain": [
       "<Figure size 432x288 with 1 Axes>"
      ]
     },
     "metadata": {
      "needs_background": "light"
     },
     "output_type": "display_data"
    }
   ],
   "source": [
    "# Displays effect of experience on driver delivery time\n",
    "time_changed_df['Rider_Exp']\n",
    "time_changed_df['Time_Pic_Arr']/time_changed_df['Distance(km)']\n",
    "plt.scatter(time_changed_df['Rider_Exp'],time_changed_df['Time_Pic_Arr']/time_changed_df['Distance(km)'])\n",
    "plt.xticks(np.arange(0, 3, step=1))"
   ]
  },
  {
   "cell_type": "markdown",
   "metadata": {},
   "source": [
    "# Zindi Submission File"
   ]
  },
  {
   "cell_type": "code",
   "execution_count": 82,
   "metadata": {},
   "outputs": [],
   "source": [
    "lgbm_y = lgbm.predict(test, num_iteration=lgbm.best_iteration)\n",
    "lgbm_output = pd.DataFrame({\"Order No\":test_df['Order No'], \n",
    "                           \"Time from Pickup to Arrival\": lgbm_y })\n",
    "lgbm_output.to_csv(\"submission_2.csv\", index=False)"
   ]
  },
  {
   "cell_type": "markdown",
   "metadata": {},
   "source": [
    "# References"
   ]
  },
  {
   "cell_type": "markdown",
   "metadata": {},
   "source": [
    "1. A Gentle Introduction to k-fold Cross-Validation\n",
    "by Jason Brownlee on May 23, 2018 in Statistics : https://machinelearningmastery.com/k-fold-cross-validation/\n",
    "\n",
    "2. How to Implement Resampling Methods From Scratch In Python\n",
    "by Jason Brownlee on October 17, 2016 in Code Algorithms From Scratch : https://machinelearningmastery.com/implement-resampling-methods-scratch-python/\n",
    "\n",
    "3. What is the Difference Between Test and Validation Datasets?\n",
    "by Jason Brownlee on July 14, 2017 in Machine Learning Process : https://machinelearningmastery.com/difference-test-validation-datasets/\n",
    "\n",
    "4. ZINDI Discussion Board - Orginal Competition:\n",
    "https://zindi.africa/competitions/sendy-logistics-challenge/discussions"
   ]
  }
 ],
 "metadata": {
  "kernelspec": {
   "display_name": "Python 3",
   "language": "python",
   "name": "python3"
  },
  "language_info": {
   "codemirror_mode": {
    "name": "ipython",
    "version": 3
   },
   "file_extension": ".py",
   "mimetype": "text/x-python",
   "name": "python",
   "nbconvert_exporter": "python",
   "pygments_lexer": "ipython3",
   "version": "3.7.4"
  }
 },
 "nbformat": 4,
 "nbformat_minor": 2
}
