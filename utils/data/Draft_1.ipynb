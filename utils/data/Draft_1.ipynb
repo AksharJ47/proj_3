{
 "cells": [
  {
   "cell_type": "code",
   "execution_count": null,
   "metadata": {},
   "outputs": [],
   "source": [
    "#Load all required packages\n",
    "import pandas as pd\n",
    "import math\n",
    "import numpy as np\n",
    "import matplotlib.pyplot as plt\n",
    "from statsmodels.graphics.correlation import plot_corr\n",
    "from sklearn.impute import SimpleImputer\n",
    "from sklearn.model_selection import train_test_split\n",
    "from sklearn.preprocessing import StandardScaler\n",
    "from sklearn.metrics import mean_squared_error"
   ]
  },
  {
   "cell_type": "code",
   "execution_count": null,
   "metadata": {},
   "outputs": [],
   "source": [
    "# load training data and test data\n",
    "train_df = pd.read_csv('Train_Zindi.csv', index_col=0)\n",
    "test_df = pd.read_csv('Test_Zindi.csv', index_col=0)\n",
    "riders_df = pd.read_csv('Riders_Zindi.csv', index_col=0)"
   ]
  },
  {
   "cell_type": "code",
   "execution_count": null,
   "metadata": {},
   "outputs": [],
   "source": [
    "#Function to convert time rows to seconds after midnight\n",
    "def time_fn(row):\n",
    "    b = row.split(' ')\n",
    "    if b[1] == 'AM':\n",
    "        c = 0\n",
    "    else:\n",
    "        c = 12\n",
    "    b = b[0].split(':')\n",
    "    b = [int(i) for i in b]\n",
    "    if b[0] == 12:\n",
    "        c -= 12\n",
    "    # convertion to minutes\n",
    "    b[0] = (b[0] + c)*60*60\n",
    "    b[1] = (b[1])*60\n",
    "    row = sum(b)\n",
    "    return(row)"
   ]
  },
  {
   "cell_type": "code",
   "execution_count": null,
   "metadata": {},
   "outputs": [],
   "source": [
    "#Convertion of times to seconds past midnight:\n",
    "train_df['Placement - Time'] = train_df['Placement - Time'].apply(lambda x:time_fn(x))\n",
    "train_df['Confirmation - Time'] = train_df['Confirmation - Time'].apply(lambda x:time_fn(x))\n",
    "train_df['Arrival at Pickup - Time'] = train_df['Arrival at Pickup - Time'].apply(lambda x:time_fn(x))\n",
    "train_df['Pickup - Time'] = train_df['Pickup - Time'].apply(lambda x:time_fn(x))\n",
    "train_df['Arrival at Destination - Time'] = train_df['Arrival at Destination - Time'].apply(lambda x:time_fn(x))"
   ]
  },
  {
   "cell_type": "code",
   "execution_count": null,
   "metadata": {},
   "outputs": [],
   "source": [
    "# Remove rows where placement_day != confirmation day and pickup_day\n",
    "train_df = train_df.drop(train_df[(train_df.iloc[:,4] != train_df.iloc[:,7]) | (train_df.iloc[:,7] != train_df.iloc[:,16])].index)"
   ]
  },
  {
   "cell_type": "code",
   "execution_count": null,
   "metadata": {},
   "outputs": [],
   "source": [
    "# Check if any values of delivery time are anomalous\n",
    "train_df = train_df[(train_df['Placement - Time'] < train_df['Confirmation - Time'])\\\n",
    "|(train_df['Arrival at Pickup - Time'] < train_df['Pickup - Time'])\\\n",
    "|(train_df['Pickup - Time'] < train_df['Arrival at Destination - Time'])]"
   ]
  },
  {
   "cell_type": "code",
   "execution_count": null,
   "metadata": {},
   "outputs": [],
   "source": [
    "#Histogram of the distribution of the response\n",
    "plt.hist(train_df['Time from Pickup to Arrival'],bins = 20)\n",
    "plt.show()"
   ]
  },
  {
   "cell_type": "code",
   "execution_count": null,
   "metadata": {},
   "outputs": [],
   "source": [
    "#Based on histogram above the outliers can be removed(so far they were chosen abitrarily)\n",
    "train_df = train_df.drop(train_df[train_df['Time from Pickup to Arrival'] < 500].index)\n",
    "train_df = train_df.drop(train_df[train_df['Time from Pickup to Arrival'] > 5000].index)"
   ]
  },
  {
   "cell_type": "code",
   "execution_count": null,
   "metadata": {},
   "outputs": [],
   "source": [
    "#Join train_df with riders dataframe\n",
    "# train_df = pd.merge(train_df,riders_df,how='left',on=['Rider Id','Rider Id'])"
   ]
  },
  {
   "cell_type": "code",
   "execution_count": null,
   "metadata": {},
   "outputs": [],
   "source": [
    "# Choose model_features and model target(Note 'Arrival at destination is dropped')\n",
    "X = train_df.loc[:,['Platform Type',\\\n",
    "                    'Personal or Business',\\\n",
    "                    'Placement - Day of Month',\\\n",
    "                    'Placement - Weekday (Mo = 1)',\\\n",
    "                    'Placement - Time',\\\n",
    "                    'Confirmation - Time',\\\n",
    "                    'Arrival at Pickup - Time',\\\n",
    "                    'Pickup - Time',\\\n",
    "                    'Distance (KM)',\\\n",
    "                    'Temperature',\\\n",
    "                    'Precipitation in millimeters',\\\n",
    "#                     'No_Of_Orders',\\\n",
    "#                     'Age',\\\n",
    "#                     'Average_Rating',\\\n",
    "#                     'No_of_Ratings'\n",
    "                   ]]\n",
    "Y = train_df.loc[:,'Time from Pickup to Arrival']\n",
    "# Y_arr = train_df.loc[:,'Arrival at Destination - Time']"
   ]
  },
  {
   "cell_type": "code",
   "execution_count": null,
   "metadata": {},
   "outputs": [],
   "source": [
    "# Impute Null Temperature values with average temperature\n",
    "imputing_col = ['Temperature','Precipitation in millimeters']\n",
    "imputer_avg = SimpleImputer(missing_values = np.nan, strategy = 'mean')\n",
    "imputer_zero = SimpleImputer(missing_values = np.nan, strategy = 'constant',fill_value = 0)\n",
    "for col in imputing_col:\n",
    "    if col == 'Temperature':\n",
    "        X[col] = imputer_avg.fit_transform(X.loc[:,[col]])\n",
    "    else:\n",
    "        X[col] = imputer_zero.fit_transform(X.loc[:,[col]]) "
   ]
  },
  {
   "cell_type": "code",
   "execution_count": null,
   "metadata": {},
   "outputs": [],
   "source": [
    "# One-Hot Encode nominal categories\n",
    "categorical_columns = ['Platform Type','Personal or Business','Placement - Weekday (Mo = 1)','Placement - Day of Month']\n",
    "OH_X = pd.get_dummies(X,columns = categorical_columns)"
   ]
  },
  {
   "cell_type": "code",
   "execution_count": null,
   "metadata": {},
   "outputs": [],
   "source": [
    "# Check for linearity\n",
    "fig, axs = plt.subplots(9,3, figsize=(14,98))\n",
    "fig.subplots_adjust(hspace = 0.5, wspace=.2)\n",
    "axs = axs.ravel()\n",
    "\n",
    "for index, column in enumerate(OH_X.columns):\n",
    "    axs[index].set_title(\"{} vs. Ar at dest\".format(column))\n",
    "    axs[index].scatter(x=OH_X[column],y=Y,c='blue',edgecolor='k')"
   ]
  },
  {
   "cell_type": "code",
   "execution_count": null,
   "metadata": {},
   "outputs": [],
   "source": [
    "#check for collinear variables\n",
    "corr = OH_X.corr()\n",
    "fig, axz = plt.subplots(1,1, figsize=(14, 10))\n",
    "fig = plot_corr(corr,xnames=corr.columns,ax=axz)"
   ]
  },
  {
   "cell_type": "code",
   "execution_count": null,
   "metadata": {},
   "outputs": [],
   "source": [
    "# Separate data into training, test data and validation data\n",
    "X_train,X_test,Y_train,Y_test = train_test_split(OH_X,Y, test_size =0.2, random_state = 42)\n",
    "X_train,X_val,Y_train,Y_val = train_test_split(X_train,Y_train, test_size = 0.125, random_state =42)"
   ]
  },
  {
   "cell_type": "code",
   "execution_count": null,
   "metadata": {},
   "outputs": [],
   "source": [
    "# Feature Scaling (Feature scale numeric data on training set)\n",
    "# sc = StandardScaler()\n",
    "# numeric_columns = ['Placement - Time',\\\n",
    "#                     'Confirmation - Time',\\\n",
    "#                     'Arrival at Pickup - Time',\\\n",
    "#                     'Pickup - Time',\\\n",
    "#                     'Distance (KM)',\\\n",
    "#                     'Temperature',\\\n",
    "# #                     'No_Of_Orders',\\\n",
    "# #                     'Age',\\\n",
    "# #                     'Average_Rating',\\\n",
    "# #                     'No_of_Ratings'\n",
    "#                   ]\n",
    "# X_train.loc[:,numeric_columns] = sc.fit_transform(X_train.loc[:,numeric_columns])"
   ]
  },
  {
   "cell_type": "code",
   "execution_count": null,
   "metadata": {},
   "outputs": [],
   "source": [
    "# Import REGRESSION MODEL\n",
    "from sklearn.linear_model import LinearRegression\n",
    "LM_model = LinearRegression()\n",
    "LM_model.fit(X_train,Y_train)"
   ]
  },
  {
   "cell_type": "code",
   "execution_count": null,
   "metadata": {},
   "outputs": [],
   "source": [
    "Y_pred =LM_model.predict(X_test)"
   ]
  },
  {
   "cell_type": "code",
   "execution_count": null,
   "metadata": {},
   "outputs": [],
   "source": [
    "mse = mean_squared_error(Y_test, Y_pred)\n",
    "rmse = math.sqrt(mse)"
   ]
  },
  {
   "cell_type": "code",
   "execution_count": null,
   "metadata": {},
   "outputs": [],
   "source": [
    "mse"
   ]
  },
  {
   "cell_type": "code",
   "execution_count": null,
   "metadata": {},
   "outputs": [],
   "source": [
    "rmse"
   ]
  },
  {
   "cell_type": "code",
   "execution_count": null,
   "metadata": {},
   "outputs": [],
   "source": [
    "math.sqrt(((Y_test - Y_pred)**2).mean())"
   ]
  },
  {
   "cell_type": "code",
   "execution_count": null,
   "metadata": {},
   "outputs": [],
   "source": []
  },
  {
   "cell_type": "code",
   "execution_count": null,
   "metadata": {},
   "outputs": [],
   "source": []
  },
  {
   "cell_type": "code",
   "execution_count": null,
   "metadata": {},
   "outputs": [],
   "source": []
  },
  {
   "cell_type": "code",
   "execution_count": null,
   "metadata": {},
   "outputs": [],
   "source": []
  },
  {
   "cell_type": "code",
   "execution_count": null,
   "metadata": {},
   "outputs": [],
   "source": []
  },
  {
   "cell_type": "code",
   "execution_count": null,
   "metadata": {},
   "outputs": [],
   "source": []
  },
  {
   "cell_type": "code",
   "execution_count": null,
   "metadata": {},
   "outputs": [],
   "source": []
  },
  {
   "cell_type": "code",
   "execution_count": null,
   "metadata": {},
   "outputs": [],
   "source": []
  },
  {
   "cell_type": "code",
   "execution_count": null,
   "metadata": {},
   "outputs": [],
   "source": []
  }
 ],
 "metadata": {
  "kernelspec": {
   "display_name": "Python 3",
   "language": "python",
   "name": "python3"
  },
  "language_info": {
   "codemirror_mode": {
    "name": "ipython",
    "version": 3
   },
   "file_extension": ".py",
   "mimetype": "text/x-python",
   "name": "python",
   "nbconvert_exporter": "python",
   "pygments_lexer": "ipython3",
   "version": "3.7.4"
  }
 },
 "nbformat": 4,
 "nbformat_minor": 2
}
