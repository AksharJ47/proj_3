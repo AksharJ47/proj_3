{
 "cells": [
  {
   "cell_type": "markdown",
   "metadata": {},
   "source": [
    "# Import Packages and Libraries"
   ]
  },
  {
   "cell_type": "code",
   "execution_count": 1,
   "metadata": {},
   "outputs": [],
   "source": [
    "import pandas as pd\n",
    "import numpy as np\n",
    "import matplotlib.pyplot as plt\n",
    "import seaborn as sns\n",
    "import math\n",
    "from sklearn.model_selection import train_test_split\n",
    "from sklearn.metrics import accuracy_score"
   ]
  },
  {
   "cell_type": "markdown",
   "metadata": {},
   "source": [
    "# Load Data"
   ]
  },
  {
   "cell_type": "code",
   "execution_count": 2,
   "metadata": {},
   "outputs": [],
   "source": [
    "train_df = pd.read_csv('https://raw.githubusercontent.com/AksharJ47/regression-predict-api-template/master/utils/data/Train_Zindi.csv')\n",
    "test_df = pd.read_csv('https://raw.githubusercontent.com/AksharJ47/regression-predict-api-template/master/utils/data/Test_Zindi.csv')\n",
    "riders_df = pd.read_csv('https://raw.githubusercontent.com/AksharJ47/regression-predict-api-template/master/utils/data/Riders_Zindi.csv')"
   ]
  },
  {
   "cell_type": "code",
   "execution_count": 3,
   "metadata": {},
   "outputs": [],
   "source": [
    "# Find datatypes and missing values\n",
    "#Drop data not available in test, Pickup Time + label = Arrival times\n",
    "train_df = train_df.drop(['Arrival at Destination - Day of Month',\n",
    "                          'Arrival at Destination - Weekday (Mo = 1)',\n",
    "                          'Arrival at Destination - Time'], axis=1)\n",
    "test_df['Time from Pickup to Arrival'] = [np.nan]*test_df.shape[0]\n",
    "full_df = pd.concat([train_df, test_df], axis=0, ignore_index=True)\n",
    "\n",
    "merged_df = pd.merge(full_df, riders_df, how='left',\n",
    "                          left_on='Rider Id',\n",
    "                          right_on='Rider Id',\n",
    "                          left_index=True)"
   ]
  },
  {
   "cell_type": "code",
   "execution_count": 4,
   "metadata": {},
   "outputs": [
    {
     "data": {
      "text/html": [
       "<div>\n",
       "<style scoped>\n",
       "    .dataframe tbody tr th:only-of-type {\n",
       "        vertical-align: middle;\n",
       "    }\n",
       "\n",
       "    .dataframe tbody tr th {\n",
       "        vertical-align: top;\n",
       "    }\n",
       "\n",
       "    .dataframe thead th {\n",
       "        text-align: right;\n",
       "    }\n",
       "</style>\n",
       "<table border=\"1\" class=\"dataframe\">\n",
       "  <thead>\n",
       "    <tr style=\"text-align: right;\">\n",
       "      <th></th>\n",
       "      <th>Order No</th>\n",
       "      <th>User Id</th>\n",
       "      <th>Vehicle Type</th>\n",
       "      <th>Platform Type</th>\n",
       "      <th>Personal or Business</th>\n",
       "      <th>Placement - Day of Month</th>\n",
       "      <th>Placement - Weekday (Mo = 1)</th>\n",
       "      <th>Placement - Time</th>\n",
       "      <th>Confirmation - Day of Month</th>\n",
       "      <th>Confirmation - Weekday (Mo = 1)</th>\n",
       "      <th>...</th>\n",
       "      <th>Pickup Lat</th>\n",
       "      <th>Pickup Long</th>\n",
       "      <th>Destination Lat</th>\n",
       "      <th>Destination Long</th>\n",
       "      <th>Rider Id</th>\n",
       "      <th>Time from Pickup to Arrival</th>\n",
       "      <th>No_Of_Orders</th>\n",
       "      <th>Age</th>\n",
       "      <th>Average_Rating</th>\n",
       "      <th>No_of_Ratings</th>\n",
       "    </tr>\n",
       "  </thead>\n",
       "  <tbody>\n",
       "    <tr>\n",
       "      <td>27</td>\n",
       "      <td>Order_No_4211</td>\n",
       "      <td>User_Id_633</td>\n",
       "      <td>Bike</td>\n",
       "      <td>3</td>\n",
       "      <td>Business</td>\n",
       "      <td>9</td>\n",
       "      <td>5</td>\n",
       "      <td>9:35:46 AM</td>\n",
       "      <td>9</td>\n",
       "      <td>5</td>\n",
       "      <td>...</td>\n",
       "      <td>-1.317755</td>\n",
       "      <td>36.830370</td>\n",
       "      <td>-1.300406</td>\n",
       "      <td>36.829741</td>\n",
       "      <td>Rider_Id_432</td>\n",
       "      <td>745.0</td>\n",
       "      <td>1637</td>\n",
       "      <td>1309</td>\n",
       "      <td>13.8</td>\n",
       "      <td>549</td>\n",
       "    </tr>\n",
       "    <tr>\n",
       "      <td>739</td>\n",
       "      <td>Order_No_25375</td>\n",
       "      <td>User_Id_2285</td>\n",
       "      <td>Bike</td>\n",
       "      <td>3</td>\n",
       "      <td>Personal</td>\n",
       "      <td>12</td>\n",
       "      <td>5</td>\n",
       "      <td>11:16:16 AM</td>\n",
       "      <td>12</td>\n",
       "      <td>5</td>\n",
       "      <td>...</td>\n",
       "      <td>-1.351453</td>\n",
       "      <td>36.899315</td>\n",
       "      <td>-1.295004</td>\n",
       "      <td>36.814358</td>\n",
       "      <td>Rider_Id_856</td>\n",
       "      <td>1993.0</td>\n",
       "      <td>396</td>\n",
       "      <td>339</td>\n",
       "      <td>13.6</td>\n",
       "      <td>69</td>\n",
       "    </tr>\n",
       "    <tr>\n",
       "      <td>851</td>\n",
       "      <td>Order_No_1899</td>\n",
       "      <td>User_Id_265</td>\n",
       "      <td>Bike</td>\n",
       "      <td>3</td>\n",
       "      <td>Business</td>\n",
       "      <td>30</td>\n",
       "      <td>2</td>\n",
       "      <td>12:39:25 PM</td>\n",
       "      <td>30</td>\n",
       "      <td>2</td>\n",
       "      <td>...</td>\n",
       "      <td>-1.308284</td>\n",
       "      <td>36.843419</td>\n",
       "      <td>-1.300921</td>\n",
       "      <td>36.828195</td>\n",
       "      <td>Rider_Id_155</td>\n",
       "      <td>455.0</td>\n",
       "      <td>1023</td>\n",
       "      <td>242</td>\n",
       "      <td>12.5</td>\n",
       "      <td>114</td>\n",
       "    </tr>\n",
       "  </tbody>\n",
       "</table>\n",
       "<p>3 rows × 30 columns</p>\n",
       "</div>"
      ],
      "text/plain": [
       "           Order No       User Id Vehicle Type  Platform Type  \\\n",
       "27    Order_No_4211   User_Id_633         Bike              3   \n",
       "739  Order_No_25375  User_Id_2285         Bike              3   \n",
       "851   Order_No_1899   User_Id_265         Bike              3   \n",
       "\n",
       "    Personal or Business  Placement - Day of Month  \\\n",
       "27              Business                         9   \n",
       "739             Personal                        12   \n",
       "851             Business                        30   \n",
       "\n",
       "     Placement - Weekday (Mo = 1) Placement - Time  \\\n",
       "27                              5       9:35:46 AM   \n",
       "739                             5      11:16:16 AM   \n",
       "851                             2      12:39:25 PM   \n",
       "\n",
       "     Confirmation - Day of Month  Confirmation - Weekday (Mo = 1)  ...  \\\n",
       "27                             9                                5  ...   \n",
       "739                           12                                5  ...   \n",
       "851                           30                                2  ...   \n",
       "\n",
       "    Pickup Lat  Pickup Long  Destination Lat Destination Long      Rider Id  \\\n",
       "27   -1.317755    36.830370        -1.300406        36.829741  Rider_Id_432   \n",
       "739  -1.351453    36.899315        -1.295004        36.814358  Rider_Id_856   \n",
       "851  -1.308284    36.843419        -1.300921        36.828195  Rider_Id_155   \n",
       "\n",
       "     Time from Pickup to Arrival No_Of_Orders   Age  Average_Rating  \\\n",
       "27                         745.0         1637  1309            13.8   \n",
       "739                       1993.0          396   339            13.6   \n",
       "851                        455.0         1023   242            12.5   \n",
       "\n",
       "     No_of_Ratings  \n",
       "27             549  \n",
       "739             69  \n",
       "851            114  \n",
       "\n",
       "[3 rows x 30 columns]"
      ]
     },
     "execution_count": 4,
     "metadata": {},
     "output_type": "execute_result"
    }
   ],
   "source": [
    "# view dataset\n",
    "merged_df.head(3)"
   ]
  },
  {
   "cell_type": "code",
   "execution_count": 5,
   "metadata": {},
   "outputs": [
    {
     "name": "stdout",
     "output_type": "stream",
     "text": [
      "<class 'pandas.core.frame.DataFrame'>\n",
      "Int64Index: 28269 entries, 27 to 785\n",
      "Data columns (total 30 columns):\n",
      "Order No                                28269 non-null object\n",
      "User Id                                 28269 non-null object\n",
      "Vehicle Type                            28269 non-null object\n",
      "Platform Type                           28269 non-null int64\n",
      "Personal or Business                    28269 non-null object\n",
      "Placement - Day of Month                28269 non-null int64\n",
      "Placement - Weekday (Mo = 1)            28269 non-null int64\n",
      "Placement - Time                        28269 non-null object\n",
      "Confirmation - Day of Month             28269 non-null int64\n",
      "Confirmation - Weekday (Mo = 1)         28269 non-null int64\n",
      "Confirmation - Time                     28269 non-null object\n",
      "Arrival at Pickup - Day of Month        28269 non-null int64\n",
      "Arrival at Pickup - Weekday (Mo = 1)    28269 non-null int64\n",
      "Arrival at Pickup - Time                28269 non-null object\n",
      "Pickup - Day of Month                   28269 non-null int64\n",
      "Pickup - Weekday (Mo = 1)               28269 non-null int64\n",
      "Pickup - Time                           28269 non-null object\n",
      "Distance (KM)                           28269 non-null int64\n",
      "Temperature                             22466 non-null float64\n",
      "Precipitation in millimeters            751 non-null float64\n",
      "Pickup Lat                              28269 non-null float64\n",
      "Pickup Long                             28269 non-null float64\n",
      "Destination Lat                         28269 non-null float64\n",
      "Destination Long                        28269 non-null float64\n",
      "Rider Id                                28269 non-null object\n",
      "Time from Pickup to Arrival             21201 non-null float64\n",
      "No_Of_Orders                            28269 non-null int64\n",
      "Age                                     28269 non-null int64\n",
      "Average_Rating                          28269 non-null float64\n",
      "No_of_Ratings                           28269 non-null int64\n",
      "dtypes: float64(8), int64(13), object(9)\n",
      "memory usage: 6.7+ MB\n"
     ]
    }
   ],
   "source": [
    "# Find datatypes and missing values\n",
    "merged_df.info()"
   ]
  },
  {
   "cell_type": "markdown",
   "metadata": {},
   "source": [
    "# Data Cleaning and Formating"
   ]
  },
  {
   "cell_type": "code",
   "execution_count": 6,
   "metadata": {},
   "outputs": [
    {
     "data": {
      "text/plain": [
       "Index(['Order_No', 'User_Id', 'Vehicle_Type', 'Platform_Type',\n",
       "       'Personal_Business', 'Pla_Mon', 'Pla_Weekday', 'Pla_Time',\n",
       "       'Con_Day_Mon', 'Con_Weekday', 'Con_Time', 'Arr_Pic_Mon',\n",
       "       'Arr_Pic_Weekday', 'Arr_Pic_Time', 'Pickup_Mon', 'Pickup_Weekday',\n",
       "       'Pickup_Time', 'Distance(km)', 'Temperature', 'Precipitation(mm)',\n",
       "       'Pickup_Lat', 'Pickup_Lon', 'Destination_Lat', 'Destination_Lon',\n",
       "       'Rider_Id', 'Time_Pic_Arr', 'No_Of_Orders', 'Age', 'Average_Rating',\n",
       "       'No_of_Ratings'],\n",
       "      dtype='object')"
      ]
     },
     "execution_count": 6,
     "metadata": {},
     "output_type": "execute_result"
    }
   ],
   "source": [
    "feature_names = {\"Order No\": \"Order_No\",\n",
    "                 \"User Id\": \"User_Id\",\n",
    "                 \"Vehicle Type\": \"Vehicle_Type\",\n",
    "                 \"Personal or Business\": \"Personal_Business\",\n",
    "                 \"Placement - Day of Month\": \"Pla_Mon\",\n",
    "                 \"Placement - Weekday (Mo = 1)\": \"Pla_Weekday\",\n",
    "                 \"Placement - Time\": \"Pla_Time\",\n",
    "                 \"Confirmation - Day of Month\": \"Con_Day_Mon\",\n",
    "                 \"Confirmation - Weekday (Mo = 1)\": \"Con_Weekday\",\n",
    "                 \"Confirmation - Time\": \"Con_Time\",\n",
    "                 \"Arrival at Pickup - Day of Month\": \"Arr_Pic_Mon\",\n",
    "                 \"Arrival at Pickup - Weekday (Mo = 1)\": \"Arr_Pic_Weekday\",\n",
    "                 \"Arrival at Pickup - Time\": \"Arr_Pic_Time\",\n",
    "                 \"Platform Type\": \"Platform_Type\",\n",
    "                 \"Pickup - Day of Month\": \"Pickup_Mon\",\n",
    "                 \"Pickup - Weekday (Mo = 1)\": \"Pickup_Weekday\",\n",
    "                 \"Pickup - Time\": \"Pickup_Time\",\n",
    "                 \"Distance (KM)\": \"Distance(km)\",\n",
    "                 \"Precipitation in millimeters\": \"Precipitation(mm)\",\n",
    "                 \"Pickup Lat\": \"Pickup_Lat\",\n",
    "                 \"Pickup Long\": \"Pickup_Lon\",\n",
    "                 \"Destination Lat\": \"Destination_Lat\",\n",
    "                 \"Destination Long\": \"Destination_Lon\",\n",
    "                 \"Rider Id\": \"Rider_Id\",\n",
    "                 \"Time from Pickup to Arrival\": \"Time_Pic_Arr\"}\n",
    "renamed_df = merged_df.rename(columns=feature_names)\n",
    "renamed_df.columns"
   ]
  },
  {
   "cell_type": "code",
   "execution_count": 7,
   "metadata": {},
   "outputs": [],
   "source": [
    "# Assume 0mm of rain where precipitation is missing\n",
    "# Impute missing temperature with average\n",
    "def Impute(input_df):\n",
    "    '''Function fills missing values on the Temperature and\n",
    "       Precipitation columns, all missing temperatures are\n",
    "       imputed with the average temperature while all\n",
    "       Precipitation columns are filled with 0mm of rain\n",
    "    '''\n",
    "    df = input_df.copy()\n",
    "    cols_to_impute = ['Temperature',\n",
    "                      'Precipitation(mm)']\n",
    "    for col in cols_to_impute:\n",
    "        if col == 'Temperature':\n",
    "            a = round(df[col].mean(),1)\n",
    "        if col == 'Precipitation(mm)':\n",
    "            a = round(df[col].mean(),1)\n",
    "        df[col] = df[col].fillna(a) \n",
    "    return (df)"
   ]
  },
  {
   "cell_type": "code",
   "execution_count": 8,
   "metadata": {},
   "outputs": [],
   "source": [
    "imputed_df = Impute(renamed_df)"
   ]
  },
  {
   "cell_type": "code",
   "execution_count": 9,
   "metadata": {},
   "outputs": [],
   "source": [
    "def time_change(input_df):\n",
    "    '''Converts time format %H:%M:%S to seconds past midnight(00:00) of\n",
    "       the same day rounded to the nearest second.\n",
    "       ------------------------------\n",
    "       12:00:00 PM --> 43200\n",
    "       01:30:00 AM --> 5400\n",
    "       02:35:30 PM --> 9330\n",
    "     '''\n",
    "    df = input_df.copy()\n",
    "    from pandas.api.types import is_numeric_dtype\n",
    "    def time_fn(row):\n",
    "        b = row.split(' ')\n",
    "        if b[1] == 'AM':\n",
    "            c = 0\n",
    "        else:\n",
    "            c = 12\n",
    "        b = b[0].split(':')\n",
    "        b = [int(i) for i in b]\n",
    "        if b[0] == 12:\n",
    "            c -= 12\n",
    "        # convertion to hours\n",
    "        b[0] = (b[0] + c)*3600\n",
    "        b[1] = (b[1])*60.0\n",
    "        b[2] = (b[2])\n",
    "        row = int(sum(b))\n",
    "        return(row)\n",
    "    time_columns = [\n",
    "                'Pla_Time',\\\n",
    "                'Con_Time',\\\n",
    "                'Arr_Pic_Time',\\\n",
    "                'Pickup_Time',\\\n",
    "               ]\n",
    "    for col in df.columns:\n",
    "        if col in time_columns:\n",
    "            if is_numeric_dtype(df[col]) is False:\n",
    "                df[col] = df[col].apply(lambda x: time_fn(x))\n",
    "            else:\n",
    "                pass\n",
    "    return(df)"
   ]
  },
  {
   "cell_type": "code",
   "execution_count": 10,
   "metadata": {},
   "outputs": [],
   "source": [
    "time_changed_df = time_change(imputed_df) "
   ]
  },
  {
   "cell_type": "code",
   "execution_count": 12,
   "metadata": {},
   "outputs": [
    {
     "data": {
      "text/html": [
       "<div>\n",
       "<style scoped>\n",
       "    .dataframe tbody tr th:only-of-type {\n",
       "        vertical-align: middle;\n",
       "    }\n",
       "\n",
       "    .dataframe tbody tr th {\n",
       "        vertical-align: top;\n",
       "    }\n",
       "\n",
       "    .dataframe thead th {\n",
       "        text-align: right;\n",
       "    }\n",
       "</style>\n",
       "<table border=\"1\" class=\"dataframe\">\n",
       "  <thead>\n",
       "    <tr style=\"text-align: right;\">\n",
       "      <th></th>\n",
       "      <th>Order_No</th>\n",
       "      <th>User_Id</th>\n",
       "      <th>Vehicle_Type</th>\n",
       "      <th>Platform_Type</th>\n",
       "      <th>Personal_Business</th>\n",
       "      <th>Pla_Mon</th>\n",
       "      <th>Pla_Weekday</th>\n",
       "      <th>Pla_Time</th>\n",
       "      <th>Con_Day_Mon</th>\n",
       "      <th>Con_Weekday</th>\n",
       "      <th>...</th>\n",
       "      <th>Pickup_Lat</th>\n",
       "      <th>Pickup_Lon</th>\n",
       "      <th>Destination_Lat</th>\n",
       "      <th>Destination_Lon</th>\n",
       "      <th>Rider_Id</th>\n",
       "      <th>Time_Pic_Arr</th>\n",
       "      <th>No_Of_Orders</th>\n",
       "      <th>Age</th>\n",
       "      <th>Average_Rating</th>\n",
       "      <th>No_of_Ratings</th>\n",
       "    </tr>\n",
       "  </thead>\n",
       "  <tbody>\n",
       "    <tr>\n",
       "      <td>27</td>\n",
       "      <td>Order_No_4211</td>\n",
       "      <td>User_Id_633</td>\n",
       "      <td>Bike</td>\n",
       "      <td>3</td>\n",
       "      <td>Business</td>\n",
       "      <td>9</td>\n",
       "      <td>5</td>\n",
       "      <td>34546</td>\n",
       "      <td>9</td>\n",
       "      <td>5</td>\n",
       "      <td>...</td>\n",
       "      <td>-1.317755</td>\n",
       "      <td>36.830370</td>\n",
       "      <td>-1.300406</td>\n",
       "      <td>36.829741</td>\n",
       "      <td>Rider_Id_432</td>\n",
       "      <td>745.0</td>\n",
       "      <td>1637</td>\n",
       "      <td>1309</td>\n",
       "      <td>13.8</td>\n",
       "      <td>549</td>\n",
       "    </tr>\n",
       "    <tr>\n",
       "      <td>739</td>\n",
       "      <td>Order_No_25375</td>\n",
       "      <td>User_Id_2285</td>\n",
       "      <td>Bike</td>\n",
       "      <td>3</td>\n",
       "      <td>Personal</td>\n",
       "      <td>12</td>\n",
       "      <td>5</td>\n",
       "      <td>40576</td>\n",
       "      <td>12</td>\n",
       "      <td>5</td>\n",
       "      <td>...</td>\n",
       "      <td>-1.351453</td>\n",
       "      <td>36.899315</td>\n",
       "      <td>-1.295004</td>\n",
       "      <td>36.814358</td>\n",
       "      <td>Rider_Id_856</td>\n",
       "      <td>1993.0</td>\n",
       "      <td>396</td>\n",
       "      <td>339</td>\n",
       "      <td>13.6</td>\n",
       "      <td>69</td>\n",
       "    </tr>\n",
       "    <tr>\n",
       "      <td>851</td>\n",
       "      <td>Order_No_1899</td>\n",
       "      <td>User_Id_265</td>\n",
       "      <td>Bike</td>\n",
       "      <td>3</td>\n",
       "      <td>Business</td>\n",
       "      <td>30</td>\n",
       "      <td>2</td>\n",
       "      <td>45565</td>\n",
       "      <td>30</td>\n",
       "      <td>2</td>\n",
       "      <td>...</td>\n",
       "      <td>-1.308284</td>\n",
       "      <td>36.843419</td>\n",
       "      <td>-1.300921</td>\n",
       "      <td>36.828195</td>\n",
       "      <td>Rider_Id_155</td>\n",
       "      <td>455.0</td>\n",
       "      <td>1023</td>\n",
       "      <td>242</td>\n",
       "      <td>12.5</td>\n",
       "      <td>114</td>\n",
       "    </tr>\n",
       "  </tbody>\n",
       "</table>\n",
       "<p>3 rows × 30 columns</p>\n",
       "</div>"
      ],
      "text/plain": [
       "           Order_No       User_Id Vehicle_Type  Platform_Type  \\\n",
       "27    Order_No_4211   User_Id_633         Bike              3   \n",
       "739  Order_No_25375  User_Id_2285         Bike              3   \n",
       "851   Order_No_1899   User_Id_265         Bike              3   \n",
       "\n",
       "    Personal_Business  Pla_Mon  Pla_Weekday  Pla_Time  Con_Day_Mon  \\\n",
       "27           Business        9            5     34546            9   \n",
       "739          Personal       12            5     40576           12   \n",
       "851          Business       30            2     45565           30   \n",
       "\n",
       "     Con_Weekday  ...  Pickup_Lat  Pickup_Lon  Destination_Lat  \\\n",
       "27             5  ...   -1.317755   36.830370        -1.300406   \n",
       "739            5  ...   -1.351453   36.899315        -1.295004   \n",
       "851            2  ...   -1.308284   36.843419        -1.300921   \n",
       "\n",
       "     Destination_Lon      Rider_Id  Time_Pic_Arr  No_Of_Orders   Age  \\\n",
       "27         36.829741  Rider_Id_432         745.0          1637  1309   \n",
       "739        36.814358  Rider_Id_856        1993.0           396   339   \n",
       "851        36.828195  Rider_Id_155         455.0          1023   242   \n",
       "\n",
       "     Average_Rating  No_of_Ratings  \n",
       "27             13.8            549  \n",
       "739            13.6             69  \n",
       "851            12.5            114  \n",
       "\n",
       "[3 rows x 30 columns]"
      ]
     },
     "execution_count": 12,
     "metadata": {},
     "output_type": "execute_result"
    }
   ],
   "source": [
    "time_changed_df.head(3)"
   ]
  },
  {
   "cell_type": "markdown",
   "metadata": {},
   "source": [
    "# Model Feature Engineering"
   ]
  },
  {
   "cell_type": "markdown",
   "metadata": {},
   "source": [
    "**New Columns added to dataset**\n",
    "1. Rider Experience (Low,Medium,High):\n",
    "   Age < 25th percentile --> Low Experience\n",
    "   25th percentile < Age < 75th percentile --> medium experience\n",
    "   Age > 75th percentile --> High experience\n",
    "2. Temp_Band (Low,Medium,High)\n",
    "   Temp. < 25th percentile --> Low T\n",
    "   25th percentile < T < 75th percentile --> medium T\n",
    "   T > 75th percentile --> High T\n",
    "3. Conf_Pla_dif\n",
    "   The time duration between placement and confirmation in seconds\n",
    "4. Arr_Con_dif\n",
    "   Time difference between arrival and confirmation time in seconds\n",
    "5. Pic_Arr_dif\n",
    "   Time difference between pickup and package arrival in seconds\n",
    "6. Manhattand and harvesine distance between the pickup and\n",
    "   destination points"
   ]
  },
  {
   "cell_type": "code",
   "execution_count": 13,
   "metadata": {},
   "outputs": [],
   "source": [
    "# Add ride experience column\n",
    "time_changed_df['Rider_Exp'] = pd.qcut(time_changed_df['Age'],\n",
    "                                       q=[0, .25, .75, 1],\n",
    "                                       labels=['low', 'medium', 'high'])"
   ]
  },
  {
   "cell_type": "code",
   "execution_count": 14,
   "metadata": {},
   "outputs": [],
   "source": [
    "# Create Temperature band Column - 3 categories - low, mid, high\n",
    "time_changed_df['Temp_Band'] = pd.qcut(time_changed_df['Temperature'],\n",
    "                                       q=[0, .25, .75, 1],\n",
    "                                       labels=['low', 'medium', 'high'])"
   ]
  },
  {
   "cell_type": "code",
   "execution_count": 15,
   "metadata": {},
   "outputs": [],
   "source": [
    "def time_diffs(input_df):\n",
    "    df = input_df.copy()\n",
    "    df['Conf_Pla_dif'] = df['Con_Time'] - df['Pla_Time']\n",
    "    df['Arr_Con_dif'] = df['Arr_Pic_Time'] - df['Con_Time']\n",
    "    df['Pic_Arr_dif'] = df['Pickup_Time'] - df['Arr_Pic_Time']\n",
    "\n",
    "    return df\n",
    "time_changed_df = time_diffs(time_changed_df)"
   ]
  },
  {
   "cell_type": "code",
   "execution_count": 16,
   "metadata": {},
   "outputs": [],
   "source": [
    "# Create manhattan dist\n",
    "def manhattan(input_df):\n",
    "    '''Calculates the manhattan distance between two location given\n",
    "       the longitude and latitude of the locations\n",
    "    '''\n",
    "    df = input_df.copy()\n",
    "    a = np.abs(df['Pickup_Lat'] - df['Destination_Lat'])\n",
    "    b = np.abs(df['Pickup_Lon'] - df['Destination_Lon'])\n",
    "    df['manhattan_dist'] = a + b\n",
    "    return (df)"
   ]
  },
  {
   "cell_type": "code",
   "execution_count": 17,
   "metadata": {},
   "outputs": [],
   "source": [
    "manhattan_df = manhattan(time_changed_df)"
   ]
  },
  {
   "cell_type": "code",
   "execution_count": 18,
   "metadata": {},
   "outputs": [],
   "source": [
    "# days where placement date != delivery date\n",
    "days_to_drop = manhattan_df[(manhattan_df['Pla_Mon']\n",
    "                             != manhattan_df['Con_Day_Mon'])]"
   ]
  },
  {
   "cell_type": "code",
   "execution_count": 19,
   "metadata": {},
   "outputs": [],
   "source": [
    "def haversine_array(lat1, lng1, lat2, lng2):\n",
    "    lat1, lng1, lat2, lng2 = map(np.radians, (lat1, lng1, lat2, lng2))\n",
    "    AVG_EARTH_RADIUS = 6371  # in km\n",
    "    lat = lat2 - lat1\n",
    "    lng = lng2 - lng1\n",
    "    d = np.sin(lat * 0.5) ** 2 + np.cos(lat1) * np.cos(lat2) * np.sin(lng * 0.5) ** 2\n",
    "    h = 2 * AVG_EARTH_RADIUS * np.arcsin(np.sqrt(d))\n",
    "    return h\n",
    "def add_haversine(input_df):\n",
    "    input_df_1 = input_df.copy()\n",
    "    input_df_1['distance_haversine'] = haversine_array(input_df_1['Pickup_Lat'].values,\n",
    "                                                       input_df_1['Pickup_Lon'].values,\n",
    "                                                       input_df_1['Destination_Lat'].values,\n",
    "                                                       input_df_1['Destination_Lon'].values)\n",
    "    return input_df_1"
   ]
  },
  {
   "cell_type": "code",
   "execution_count": 20,
   "metadata": {},
   "outputs": [
    {
     "data": {
      "text/plain": [
       "27      1.930333\n",
       "739    11.339849\n",
       "851     1.880079\n",
       "806     4.943458\n",
       "159     3.724829\n",
       "         ...    \n",
       "611     3.631752\n",
       "119    16.407578\n",
       "134     5.398648\n",
       "205    15.688753\n",
       "785     7.294294\n",
       "Name: distance_haversine, Length: 28269, dtype: float64"
      ]
     },
     "execution_count": 20,
     "metadata": {},
     "output_type": "execute_result"
    }
   ],
   "source": [
    "harvestine_df = add_haversine(manhattan_df)\n",
    "harvestine_df['distance_haversine']"
   ]
  },
  {
   "cell_type": "code",
   "execution_count": 21,
   "metadata": {},
   "outputs": [],
   "source": [
    "# Encode Rider Exp,Temp_Band and Personal/Business\n",
    "def encode(input_df):\n",
    "    df = input_df.copy()\n",
    "    to_encode = ['Rider_Exp',\n",
    "                 'Personal_Business',\n",
    "                 'Temp_Band']\n",
    "    df = pd.get_dummies(harvestine_df,columns = to_encode,drop_first = True)\n",
    "    return(df)\n",
    "data_encoded_df = encode(harvestine_df)"
   ]
  },
  {
   "cell_type": "code",
   "execution_count": 22,
   "metadata": {},
   "outputs": [],
   "source": [
    "# Extract feature columns\n",
    "numeric_cols = []\n",
    "object_cols = []\n",
    "time_cols = []\n",
    "for k, v in data_encoded_df.dtypes.items():\n",
    "    if (v != object):\n",
    "        if (k != \"Time_Pic_Arr\"):\n",
    "            numeric_cols.append(k)\n",
    "    elif k.endswith(\"Time\"):\n",
    "        time_cols.append(k)\n",
    "    else:\n",
    "        object_cols.append(k)"
   ]
  },
  {
   "cell_type": "code",
   "execution_count": 34,
   "metadata": {},
   "outputs": [],
   "source": [
    "# data_df = data_encoded_df[numeric_cols]\n",
    "y = data_encoded_df[:len(train_df)]['Time_Pic_Arr']\n",
    "X = data_encoded_df[numeric_cols][:len(train_df)]\n",
    "test = data_encoded_df[numeric_cols][len(train_df):]"
   ]
  },
  {
   "cell_type": "markdown",
   "metadata": {},
   "source": [
    "# Model Building and Evaluation "
   ]
  },
  {
   "cell_type": "code",
   "execution_count": 24,
   "metadata": {},
   "outputs": [],
   "source": [
    "# Split data into training and validation sets\n",
    "X_train, X_test, y_train, y_test = train_test_split(X, y,\n",
    "                                                    test_size=0.2,\n",
    "                                                    shuffle=True,\n",
    "                                                    random_state = 42)"
   ]
  },
  {
   "cell_type": "markdown",
   "metadata": {},
   "source": [
    "## Model Selection\n",
    "The data was first validated using 6 Regression models to analyse which model potentially fits the data best, kfold cross validation was used with the data split into 10 different test and validation sets."
   ]
  },
  {
   "cell_type": "markdown",
   "metadata": {},
   "source": [
    "**Import and load models** "
   ]
  },
  {
   "cell_type": "code",
   "execution_count": 25,
   "metadata": {},
   "outputs": [],
   "source": [
    "from sklearn.svm import SVR\n",
    "from sklearn.ensemble import ExtraTreesRegressor,RandomForestRegressor,GradientBoostingRegressor\n",
    "from sklearn.linear_model import LinearRegression\n",
    "import xgboost as xgb\n",
    "import lightgbm as lgb"
   ]
  },
  {
   "cell_type": "code",
   "execution_count": 26,
   "metadata": {},
   "outputs": [
    {
     "name": "stderr",
     "output_type": "stream",
     "text": [
      "C:\\Users\\Besodea\\Anaconda3\\lib\\site-packages\\sklearn\\svm\\base.py:193: FutureWarning: The default value of gamma will change from 'auto' to 'scale' in version 0.22 to account better for unscaled features. Set gamma explicitly to 'auto' or 'scale' to avoid this warning.\n",
      "  \"avoid this warning.\", FutureWarning)\n",
      "C:\\Users\\Besodea\\Anaconda3\\lib\\site-packages\\sklearn\\svm\\base.py:193: FutureWarning: The default value of gamma will change from 'auto' to 'scale' in version 0.22 to account better for unscaled features. Set gamma explicitly to 'auto' or 'scale' to avoid this warning.\n",
      "  \"avoid this warning.\", FutureWarning)\n",
      "C:\\Users\\Besodea\\Anaconda3\\lib\\site-packages\\sklearn\\svm\\base.py:193: FutureWarning: The default value of gamma will change from 'auto' to 'scale' in version 0.22 to account better for unscaled features. Set gamma explicitly to 'auto' or 'scale' to avoid this warning.\n",
      "  \"avoid this warning.\", FutureWarning)\n",
      "C:\\Users\\Besodea\\Anaconda3\\lib\\site-packages\\sklearn\\svm\\base.py:193: FutureWarning: The default value of gamma will change from 'auto' to 'scale' in version 0.22 to account better for unscaled features. Set gamma explicitly to 'auto' or 'scale' to avoid this warning.\n",
      "  \"avoid this warning.\", FutureWarning)\n",
      "C:\\Users\\Besodea\\Anaconda3\\lib\\site-packages\\sklearn\\svm\\base.py:193: FutureWarning: The default value of gamma will change from 'auto' to 'scale' in version 0.22 to account better for unscaled features. Set gamma explicitly to 'auto' or 'scale' to avoid this warning.\n",
      "  \"avoid this warning.\", FutureWarning)\n",
      "C:\\Users\\Besodea\\Anaconda3\\lib\\site-packages\\sklearn\\svm\\base.py:193: FutureWarning: The default value of gamma will change from 'auto' to 'scale' in version 0.22 to account better for unscaled features. Set gamma explicitly to 'auto' or 'scale' to avoid this warning.\n",
      "  \"avoid this warning.\", FutureWarning)\n",
      "C:\\Users\\Besodea\\Anaconda3\\lib\\site-packages\\sklearn\\svm\\base.py:193: FutureWarning: The default value of gamma will change from 'auto' to 'scale' in version 0.22 to account better for unscaled features. Set gamma explicitly to 'auto' or 'scale' to avoid this warning.\n",
      "  \"avoid this warning.\", FutureWarning)\n",
      "C:\\Users\\Besodea\\Anaconda3\\lib\\site-packages\\sklearn\\svm\\base.py:193: FutureWarning: The default value of gamma will change from 'auto' to 'scale' in version 0.22 to account better for unscaled features. Set gamma explicitly to 'auto' or 'scale' to avoid this warning.\n",
      "  \"avoid this warning.\", FutureWarning)\n",
      "C:\\Users\\Besodea\\Anaconda3\\lib\\site-packages\\sklearn\\svm\\base.py:193: FutureWarning: The default value of gamma will change from 'auto' to 'scale' in version 0.22 to account better for unscaled features. Set gamma explicitly to 'auto' or 'scale' to avoid this warning.\n",
      "  \"avoid this warning.\", FutureWarning)\n",
      "C:\\Users\\Besodea\\Anaconda3\\lib\\site-packages\\sklearn\\svm\\base.py:193: FutureWarning: The default value of gamma will change from 'auto' to 'scale' in version 0.22 to account better for unscaled features. Set gamma explicitly to 'auto' or 'scale' to avoid this warning.\n",
      "  \"avoid this warning.\", FutureWarning)\n",
      "C:\\Users\\Besodea\\Anaconda3\\lib\\site-packages\\sklearn\\ensemble\\forest.py:245: FutureWarning: The default value of n_estimators will change from 10 in version 0.20 to 100 in 0.22.\n",
      "  \"10 in version 0.20 to 100 in 0.22.\", FutureWarning)\n",
      "C:\\Users\\Besodea\\Anaconda3\\lib\\site-packages\\sklearn\\ensemble\\forest.py:245: FutureWarning: The default value of n_estimators will change from 10 in version 0.20 to 100 in 0.22.\n",
      "  \"10 in version 0.20 to 100 in 0.22.\", FutureWarning)\n",
      "C:\\Users\\Besodea\\Anaconda3\\lib\\site-packages\\sklearn\\ensemble\\forest.py:245: FutureWarning: The default value of n_estimators will change from 10 in version 0.20 to 100 in 0.22.\n",
      "  \"10 in version 0.20 to 100 in 0.22.\", FutureWarning)\n",
      "C:\\Users\\Besodea\\Anaconda3\\lib\\site-packages\\sklearn\\ensemble\\forest.py:245: FutureWarning: The default value of n_estimators will change from 10 in version 0.20 to 100 in 0.22.\n",
      "  \"10 in version 0.20 to 100 in 0.22.\", FutureWarning)\n",
      "C:\\Users\\Besodea\\Anaconda3\\lib\\site-packages\\sklearn\\ensemble\\forest.py:245: FutureWarning: The default value of n_estimators will change from 10 in version 0.20 to 100 in 0.22.\n",
      "  \"10 in version 0.20 to 100 in 0.22.\", FutureWarning)\n",
      "C:\\Users\\Besodea\\Anaconda3\\lib\\site-packages\\sklearn\\ensemble\\forest.py:245: FutureWarning: The default value of n_estimators will change from 10 in version 0.20 to 100 in 0.22.\n",
      "  \"10 in version 0.20 to 100 in 0.22.\", FutureWarning)\n",
      "C:\\Users\\Besodea\\Anaconda3\\lib\\site-packages\\sklearn\\ensemble\\forest.py:245: FutureWarning: The default value of n_estimators will change from 10 in version 0.20 to 100 in 0.22.\n",
      "  \"10 in version 0.20 to 100 in 0.22.\", FutureWarning)\n",
      "C:\\Users\\Besodea\\Anaconda3\\lib\\site-packages\\sklearn\\ensemble\\forest.py:245: FutureWarning: The default value of n_estimators will change from 10 in version 0.20 to 100 in 0.22.\n",
      "  \"10 in version 0.20 to 100 in 0.22.\", FutureWarning)\n",
      "C:\\Users\\Besodea\\Anaconda3\\lib\\site-packages\\sklearn\\ensemble\\forest.py:245: FutureWarning: The default value of n_estimators will change from 10 in version 0.20 to 100 in 0.22.\n",
      "  \"10 in version 0.20 to 100 in 0.22.\", FutureWarning)\n",
      "C:\\Users\\Besodea\\Anaconda3\\lib\\site-packages\\sklearn\\ensemble\\forest.py:245: FutureWarning: The default value of n_estimators will change from 10 in version 0.20 to 100 in 0.22.\n",
      "  \"10 in version 0.20 to 100 in 0.22.\", FutureWarning)\n"
     ]
    },
    {
     "name": "stdout",
     "output_type": "stream",
     "text": [
      "  Algorithm  CrossValMeans  CrossValErrors\n",
      "5      LGBM     738.504286       34.392226\n",
      "1       GBR     751.315204       34.930713\n",
      "4      XGBR     764.823591       37.874634\n",
      "2       EXR     769.803039       31.576560\n",
      "3       RFR     796.915359       35.319130\n",
      "0       SVR    1004.831483       31.714105\n"
     ]
    }
   ],
   "source": [
    "from sklearn.metrics import mean_squared_error,make_scorer\n",
    "from sklearn.model_selection import KFold, GridSearchCV \n",
    "from sklearn.model_selection import cross_val_score, learning_curve\n",
    "rs = 42\n",
    "kfold = KFold(n_splits=10, random_state=rs, shuffle=True)\n",
    "\n",
    "regressors = []\n",
    "regressors.append(SVR())\n",
    "regressors.append(GradientBoostingRegressor(random_state=rs))\n",
    "regressors.append(ExtraTreesRegressor(n_estimators=rs))\n",
    "regressors.append(RandomForestRegressor(random_state=rs))\n",
    "regressors.append(xgb.XGBRegressor(random_state=rs, objective=\"reg:squarederror\"))\n",
    "regressors.append(lgb.LGBMRegressor(random_state=rs))\n",
    "\n",
    "cv_results = []\n",
    "rmse_scorer = make_scorer(mean_squared_error)\n",
    "for regressor in regressors:     #scores to be minimised are negated (neg)\n",
    "    cv_results.append(np.sqrt(cross_val_score(estimator = regressor,\n",
    "                                              X = X_train,\n",
    "                                              y = y_train,\n",
    "                                              cv = kfold,\n",
    "                                              scoring = rmse_scorer)))\n",
    "\n",
    "cv_means = []\n",
    "cv_stds = []\n",
    "for cv_result in cv_results:\n",
    "    cv_means.append(cv_result.mean())\n",
    "    cv_stds.append(cv_result.std())\n",
    "    \n",
    "cv_res = pd.DataFrame({ \n",
    "    \"Algorithm\": [\"SVR\", \"GBR\", \"EXR\", \"RFR\", \"XGBR\", \"LGBM\"],\n",
    "    \"CrossValMeans\": cv_means, \"CrossValErrors\": cv_stds\n",
    "                       })\n",
    "cv_res = cv_res.sort_values(\"CrossValMeans\", ascending=True)\n",
    "print(cv_res)"
   ]
  },
  {
   "cell_type": "markdown",
   "metadata": {},
   "source": [
    "## Hyperparemeter tuning\n",
    "From the above validation it can be seen that the following models produces the lowest errors:\n",
    "1. LGBM\n",
    "2. GBR\n",
    "3. XGBR"
   ]
  },
  {
   "cell_type": "code",
   "execution_count": 27,
   "metadata": {},
   "outputs": [
    {
     "name": "stdout",
     "output_type": "stream",
     "text": [
      "{'learning_rate': 0.1, 'min_data_in_leaf': 300, 'n_estimators': 75, 'num_leaves': 15, 'objective': 'regression', 'reg_alpha': 0.02} 746.3297401201011\n"
     ]
    }
   ],
   "source": [
    "params = {\n",
    "    'n_estimators':[75], # [75, 95],\n",
    "    'num_leaves': [15], #[12,15, 17],\n",
    "    'reg_alpha': [0.02], #[0.02, 0.05],\n",
    "    'min_data_in_leaf': [300],  #[250, 280, 300]\n",
    "    'learning_rate': [0.1], #[0.05, 0.1, 0.25],\n",
    "    'objective': ['regression'] #['regression', None]\n",
    "    }\n",
    "\n",
    "lsearch = GridSearchCV(estimator = lgb.LGBMRegressor(random_state=rs), cv=kfold,scoring=rmse_scorer, param_grid=params)\n",
    "lgbm = lsearch.fit(X_train, y_train)\n",
    "\n",
    "l_params = lgbm.best_params_\n",
    "l_score = np.sqrt(abs(lgbm.best_score_))\n",
    "print(lgbm.best_params_, np.sqrt(abs(lgbm.best_score_)))\n"
   ]
  },
  {
   "cell_type": "code",
   "execution_count": 28,
   "metadata": {},
   "outputs": [
    {
     "name": "stdout",
     "output_type": "stream",
     "text": [
      "759.0274038875427 {'max_depth': None, 'max_features': 3, 'min_samples_leaf': 3, 'min_samples_split': 10, 'n_estimators': 300}\n"
     ]
    }
   ],
   "source": [
    "RFC = RandomForestRegressor(random_state=rs)\n",
    "rf_param = {\"max_depth\":[None], \"max_features\":[3], \"min_samples_split\":[10],\n",
    "           \"min_samples_leaf\": [3], \"n_estimators\":[300]}\n",
    "rsearch = GridSearchCV(RFC, cv=kfold, scoring=rmse_scorer,param_grid=rf_param)\n",
    "rfm = rsearch.fit(X_train, y_train)\n",
    "\n",
    "r_score = np.sqrt(abs(rfm.best_score_))\n",
    "r_params = rfm.best_params_\n",
    "print(r_score, r_params)"
   ]
  },
  {
   "cell_type": "code",
   "execution_count": 29,
   "metadata": {},
   "outputs": [],
   "source": [
    "def plot_learning_curve(estimator, title, X, y, ylim=None, n_jobs=-1, cv=None, train_sizes=np.linspace(.1, 1.0, 5)):\n",
    "    \"\"\"Generating a plot of test and training learning curve\"\"\"\n",
    "    plt.figure()\n",
    "    plt.title(title)\n",
    "    \n",
    "    if ylim is not None:\n",
    "        plt.ylim(*ylim)\n",
    "    plt.xlabel(\"Training examples\")\n",
    "    plt.ylabel(\"RMSE\")\n",
    "    train_sizes, train_scores, test_scores = learning_curve(estimator, X, y, cv=cv, n_jobs=n_jobs, train_sizes=train_sizes, scoring=rmse_scorer, shuffle=True)\n",
    "    \n",
    "    #scores - 5 runs, each with 10 fold\n",
    "    train_scores_mean = np.mean(np.sqrt(train_scores), axis=1) #5 means (each size)\n",
    "    train_scores_std = np.std(np.sqrt(train_scores), axis=1)\n",
    "    test_scores_mean = np.mean(np.sqrt(test_scores), axis=1)\n",
    "    test_scores_std = np.std(np.sqrt(test_scores), axis=1)\n",
    "    \n",
    "    plt.grid()\n",
    "    \n",
    "    plt.fill_between(train_sizes, train_scores_mean - train_scores_std, train_scores_mean + train_scores_std, alpha=0.1, color='r' )\n",
    "    plt.fill_between(train_sizes, test_scores_mean - test_scores_std, test_scores_mean + test_scores_std, alpha=0.1, color='g')\n",
    "    \n",
    "    plt.plot(train_sizes, train_scores_mean, 'o-', color='r', label='Training score')\n",
    "    plt.plot(train_sizes, test_scores_mean, 'o-', color='g', label='Cross-validation score')\n",
    "    \n",
    "    plt.legend(loc='best')\n",
    "    return plt"
   ]
  },
  {
   "cell_type": "code",
   "execution_count": 30,
   "metadata": {},
   "outputs": [
    {
     "data": {
      "image/png": "[encoded data removed]",
      "text/plain": [
       "<Figure size 432x288 with 1 Axes>"
      ]
     },
     "metadata": {
      "needs_background": "light"
     },
     "output_type": "display_data"
    },
    {
     "data": {
      "image/png": "[encoded data removed]",
      "text/plain": [
       "<Figure size 432x288 with 1 Axes>"
      ]
     },
     "metadata": {
      "needs_background": "light"
     },
     "output_type": "display_data"
    }
   ],
   "source": [
    "#Learning Curves\n",
    "g = plot_learning_curve(lgbm.best_estimator_, \"LGBM Learning Curves\", X_train, y_train, cv=kfold)\n",
    "g = plot_learning_curve(rfm.best_estimator_, \"RFR Learning Curves\", X_train, y_train, cv=kfold)\n",
    "#lgbm: mse error comment here\n",
    "#rf: mse error comment here"
   ]
  },
  {
   "cell_type": "code",
   "execution_count": 31,
   "metadata": {},
   "outputs": [
    {
     "data": {
      "image/png": "[encoded data removed]",
      "text/plain": [
       "<Figure size 864x576 with 2 Axes>"
      ]
     },
     "metadata": {
      "needs_background": "light"
     },
     "output_type": "display_data"
    }
   ],
   "source": [
    "vals = lgbm.best_estimator_.feature_importances_\n",
    "l_importance = np.array([ val/sum(vals) for val in vals ])\n",
    "r_importance  = rfm.best_estimator_.feature_importances_\n",
    "feats = X_train.columns\n",
    "\n",
    "fig,axes = plt.subplots(1,2, figsize=(12, 8))\n",
    "plt.subplots_adjust(top=0.6, bottom=0.2, hspace=.6, wspace=0.8)\n",
    "\n",
    "indices = np.argsort(l_importance)[::-1]\n",
    "g = sns.barplot(y=feats[indices], x=l_importance[indices], orient='h', ax=axes[0])\n",
    "g.set_xlabel(\"Relative importances\", fontsize=12)\n",
    "g.set_ylabel(\"Features\", fontsize=12)\n",
    "g.tick_params(labelsize=9)\n",
    "g.set_title(\" LGBM feature importance\")\n",
    "\n",
    "index = np.argsort(r_importance)[::-1]\n",
    "g = sns.barplot(y=feats[index], x=r_importance[index], orient='h', ax=axes[1])\n",
    "g.set_xlabel(\"Relative importances\", fontsize=12)\n",
    "g.set_ylabel(\"Features\", fontsize=12)\n",
    "g.tick_params(labelsize=9)\n",
    "g.set_title(\" Random Forest feature importance\")\n",
    "plt.show()"
   ]
  },
  {
   "cell_type": "markdown",
   "metadata": {},
   "source": [
    "## Model Building"
   ]
  },
  {
   "cell_type": "code",
   "execution_count": 32,
   "metadata": {},
   "outputs": [
    {
     "name": "stderr",
     "output_type": "stream",
     "text": [
      "C:\\Users\\Besodea\\Anaconda3\\lib\\site-packages\\lightgbm\\engine.py:148: UserWarning: Found `n_estimators` in params. Will use it instead of argument\n",
      "  warnings.warn(\"Found `{}` in params. Will use it instead of argument\".format(alias))\n"
     ]
    },
    {
     "name": "stdout",
     "output_type": "stream",
     "text": [
      "[1]\tvalid_0's l2: 905031\n",
      "Training until validation scores don't improve for 20 rounds\n",
      "[2]\tvalid_0's l2: 850723\n",
      "[3]\tvalid_0's l2: 806403\n",
      "[4]\tvalid_0's l2: 770318\n",
      "[5]\tvalid_0's l2: 740650\n",
      "[6]\tvalid_0's l2: 716146\n",
      "[7]\tvalid_0's l2: 695160\n",
      "[8]\tvalid_0's l2: 678286\n",
      "[9]\tvalid_0's l2: 663844\n",
      "[10]\tvalid_0's l2: 652055\n",
      "[11]\tvalid_0's l2: 642566\n",
      "[12]\tvalid_0's l2: 634602\n",
      "[13]\tvalid_0's l2: 628062\n",
      "[14]\tvalid_0's l2: 622163\n",
      "[15]\tvalid_0's l2: 617657\n",
      "[16]\tvalid_0's l2: 612937\n",
      "[17]\tvalid_0's l2: 609385\n",
      "[18]\tvalid_0's l2: 606849\n",
      "[19]\tvalid_0's l2: 604484\n",
      "[20]\tvalid_0's l2: 601100\n",
      "[21]\tvalid_0's l2: 598248\n",
      "[22]\tvalid_0's l2: 596207\n",
      "[23]\tvalid_0's l2: 594477\n",
      "[24]\tvalid_0's l2: 592502\n",
      "[25]\tvalid_0's l2: 591167\n",
      "[26]\tvalid_0's l2: 589662\n",
      "[27]\tvalid_0's l2: 588899\n",
      "[28]\tvalid_0's l2: 587528\n",
      "[29]\tvalid_0's l2: 585788\n",
      "[30]\tvalid_0's l2: 584691\n",
      "[31]\tvalid_0's l2: 583784\n",
      "[32]\tvalid_0's l2: 582473\n",
      "[33]\tvalid_0's l2: 581225\n",
      "[34]\tvalid_0's l2: 580311\n",
      "[35]\tvalid_0's l2: 579445\n",
      "[36]\tvalid_0's l2: 578431\n",
      "[37]\tvalid_0's l2: 577894\n",
      "[38]\tvalid_0's l2: 577456\n",
      "[39]\tvalid_0's l2: 576851\n",
      "[40]\tvalid_0's l2: 575774\n",
      "[41]\tvalid_0's l2: 575091\n",
      "[42]\tvalid_0's l2: 574599\n",
      "[43]\tvalid_0's l2: 573385\n",
      "[44]\tvalid_0's l2: 572647\n",
      "[45]\tvalid_0's l2: 572145\n",
      "[46]\tvalid_0's l2: 571668\n",
      "[47]\tvalid_0's l2: 570975\n",
      "[48]\tvalid_0's l2: 569932\n",
      "[49]\tvalid_0's l2: 569504\n",
      "[50]\tvalid_0's l2: 569138\n",
      "[51]\tvalid_0's l2: 569005\n",
      "[52]\tvalid_0's l2: 568249\n",
      "[53]\tvalid_0's l2: 568065\n",
      "[54]\tvalid_0's l2: 567567\n",
      "[55]\tvalid_0's l2: 567512\n",
      "[56]\tvalid_0's l2: 566882\n",
      "[57]\tvalid_0's l2: 566479\n",
      "[58]\tvalid_0's l2: 565802\n",
      "[59]\tvalid_0's l2: 564894\n",
      "[60]\tvalid_0's l2: 564456\n",
      "[61]\tvalid_0's l2: 564248\n",
      "[62]\tvalid_0's l2: 563426\n",
      "[63]\tvalid_0's l2: 563021\n",
      "[64]\tvalid_0's l2: 562436\n",
      "[65]\tvalid_0's l2: 562353\n",
      "[66]\tvalid_0's l2: 561848\n",
      "[67]\tvalid_0's l2: 561594\n",
      "[68]\tvalid_0's l2: 561465\n",
      "[69]\tvalid_0's l2: 561358\n",
      "[70]\tvalid_0's l2: 560675\n",
      "[71]\tvalid_0's l2: 560332\n",
      "[72]\tvalid_0's l2: 560149\n",
      "[73]\tvalid_0's l2: 559664\n",
      "[74]\tvalid_0's l2: 559543\n",
      "[75]\tvalid_0's l2: 559156\n",
      "Did not meet early stopping. Best iteration is:\n",
      "[75]\tvalid_0's l2: 559156\n",
      "The RMSE of prediction is  747.7672734134418\n"
     ]
    }
   ],
   "source": [
    "lgb_train = lgb.Dataset(X_train, y_train)\n",
    "lgb_eval = lgb.Dataset(X_test, y_test, reference=lgb_train)\n",
    "\n",
    "lparams = {\n",
    "           'learning_rate': 0.1, 'min_data_in_leaf': 300, \n",
    "           'n_estimators': 75, 'num_leaves': 20, 'random_state':rs,\n",
    "           'objective': 'regression', 'reg_alpha': 0.02,\n",
    "          'feature_fraction': 0.9, 'bagging_fraction':0.9}\n",
    "\n",
    "\n",
    "lgbm = lgb.train(lparams, lgb_train, valid_sets=lgb_eval, num_boost_round=20, early_stopping_rounds=20)\n",
    "\n",
    "lpred = lgbm.predict(X_test, num_iteration=lgbm.best_iteration)\n",
    "\n",
    "print(\"The RMSE of prediction is \", mean_squared_error(y_test, lpred)**0.5)\n"
   ]
  },
  {
   "cell_type": "markdown",
   "metadata": {},
   "source": [
    "# Data Insights"
   ]
  },
  {
   "cell_type": "code",
   "execution_count": null,
   "metadata": {},
   "outputs": [],
   "source": [
    "plt.hist2d(x = time_changed_df['Pla_Mon'],y = time_changed_df['Pla_Time']/3600,\n",
    "           bins=(10,20),\n",
    "           range=((0,31),(0,24)))\n",
    "plt.xlabel('Day_of_placement')\n",
    "plt.ylabel('Hour_of_placement')\n",
    "plt.title('service hours distribution')\n",
    "plt.xticks(np.arange(0, 31, step=2))\n",
    "plt.yticks(np.arange(0, 24, step=2))\n",
    "plt.colorbar()\n",
    "plt.show"
   ]
  },
  {
   "cell_type": "code",
   "execution_count": null,
   "metadata": {},
   "outputs": [],
   "source": [
    "platform_types = time_changed_df['Platform_Type'].value_counts()\n",
    "plt.bar(platform_types.index,platform_types)\n",
    "plt.xlim(0, 5)\n",
    "plt.title('Platform Type Frequency')\n",
    "plt.xlabel('Platform_type')\n",
    "plt.ylabel('Number of orders')\n",
    "plt.xticks(np.arange(0, 5, step=1))\n",
    "plt.show()"
   ]
  },
  {
   "cell_type": "code",
   "execution_count": null,
   "metadata": {},
   "outputs": [],
   "source": [
    "sns.distplot(time_changed_df[\"Pla_Mon\"], kde = False,bins = 4)\n",
    "plt.ylabel('No. of orders')"
   ]
  },
  {
   "cell_type": "markdown",
   "metadata": {},
   "source": [
    "Most Orders are placed on the first quarter of the month with most orders happening between hours of 10 AM and 12 PM(last graph and the 2D histogram convey this information), on an hourly basis most orders are recieved on the last 2 days of the month between 10 AM and 12 PM.\n",
    "The majority of customers use Platform_type 3 for their packages."
   ]
  },
  {
   "cell_type": "code",
   "execution_count": null,
   "metadata": {},
   "outputs": [],
   "source": [
    "# Displays effect of experience on driver delivery time\n",
    "time_changed_df['Rider_Exp']\n",
    "time_changed_df['Time_Pic_Arr']/time_changed_df['Distance(km)']\n",
    "plt.scatter(time_changed_df['Rider_Exp'],time_changed_df['Time_Pic_Arr']/time_changed_df['Distance(km)'])\n",
    "plt.xticks(np.arange(0, 3, step=1))"
   ]
  },
  {
   "cell_type": "markdown",
   "metadata": {},
   "source": [
    "# Zindi Submission File"
   ]
  },
  {
   "cell_type": "code",
   "execution_count": 35,
   "metadata": {},
   "outputs": [],
   "source": [
    "lgbm_y = lgbm.predict(test, num_iteration=lgbm.best_iteration)\n",
    "lgbm_output = pd.DataFrame({\"Order No\":test_df['Order No'], \n",
    "                           \"Time from Pickup to Arrival\": lgbm_y })\n",
    "lgbm_output.to_csv(\"submission_2.csv\", index=False)"
   ]
  },
  {
   "cell_type": "markdown",
   "metadata": {},
   "source": [
    "# References"
   ]
  },
  {
   "cell_type": "markdown",
   "metadata": {},
   "source": [
    "1. A Gentle Introduction to k-fold Cross-Validation\n",
    "by Jason Brownlee on May 23, 2018 in Statistics : https://machinelearningmastery.com/k-fold-cross-validation/\n",
    "\n",
    "2. How to Implement Resampling Methods From Scratch In Python\n",
    "by Jason Brownlee on October 17, 2016 in Code Algorithms From Scratch : https://machinelearningmastery.com/implement-resampling-methods-scratch-python/\n",
    "\n",
    "3. What is the Difference Between Test and Validation Datasets?\n",
    "by Jason Brownlee on July 14, 2017 in Machine Learning Process : https://machinelearningmastery.com/difference-test-validation-datasets/\n",
    "\n",
    "4. ZINDI Discussion Board - Orginal Competition:\n",
    "https://zindi.africa/competitions/sendy-logistics-challenge/discussions"
   ]
  }
 ],
 "metadata": {
  "kernelspec": {
   "display_name": "Python 3",
   "language": "python",
   "name": "python3"
  },
  "language_info": {
   "codemirror_mode": {
    "name": "ipython",
    "version": 3
   },
   "file_extension": ".py",
   "mimetype": "text/x-python",
   "name": "python",
   "nbconvert_exporter": "python",
   "pygments_lexer": "ipython3",
   "version": "3.7.4"
  }
 },
 "nbformat": 4,
 "nbformat_minor": 2
}
